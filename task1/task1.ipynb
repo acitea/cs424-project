{
  "cells": [
    {
      "cell_type": "markdown",
      "id": "aa29655b",
      "metadata": {},
      "source": [
        "# Imports"
      ]
    },
    {
      "cell_type": "code",
      "execution_count": 1,
      "id": "3d3d4b1e",
      "metadata": {},
      "outputs": [
        {
          "name": "stdout",
          "output_type": "stream",
          "text": [
            "Random Seed: 4220524634\n"
          ]
        }
      ],
      "source": [
        "import os\n",
        "import torch\n",
        "import torch.nn as nn\n",
        "import numpy as np\n",
        "import cv2\n",
        "import matplotlib.pyplot as plt\n",
        "import itertools\n",
        "import torch_fidelity\n",
        "from torch.utils.data import Dataset, DataLoader\n",
        "from torchvision.datasets import ImageFolder\n",
        "from PIL import Image\n",
        "import torchvision.transforms as transforms\n",
        "import pandas as pd\n",
        "import random\n",
        "import torch.nn.functional as F\n",
        "import sys\n",
        "from tqdm import tqdm\n",
        "\n",
        "SEED = random.randrange(2**32 - 1)\n",
        "# SEED = 2853739981\n",
        "torch.manual_seed(SEED)\n",
        "torch.cuda.manual_seed_all(SEED)\n",
        "np.random.seed(SEED)\n",
        "random.seed(SEED)\n",
        "torch.backends.cudnn.deterministic = True\n",
        "torch.backends.cudnn.benchmark = False\n",
        "print(\"Random Seed:\", SEED)\n"
      ]
    },
    {
      "cell_type": "markdown",
      "id": "b974f4bc",
      "metadata": {},
      "source": [
        "# Work"
      ]
    },
    {
      "cell_type": "code",
      "execution_count": 2,
      "id": "0d800396",
      "metadata": {},
      "outputs": [
        {
          "name": "stdout",
          "output_type": "stream",
          "text": [
            "Total parameters in CycleGAN model: 27.12 million\n"
          ]
        }
      ],
      "source": [
        "from models.generators import UNetGenerator, FastStyleGenerator, DefaultGenerator, ZhirongGenerator\n",
        "from models.discriminators import PatchDiscriminator, GithubDiscriminator, NLayerDiscriminator, RandomKaggleDiscriminator, PatchSpectralDiscriminator, DefaultDiscriminator\n",
        "\n",
        "\"\"\"\n",
        "Step 4. Initalize G and D\n",
        "\"\"\"\n",
        "G_AB = UNetGenerator()\n",
        "D_B = GithubDiscriminator()\n",
        "G_BA = UNetGenerator()\n",
        "D_A = GithubDiscriminator()\n",
        "\n",
        "## Total parameters in CycleGAN should be less than 60MB\n",
        "total_params = sum(p.numel() for p in G_AB.parameters()) + \\\n",
        "               sum(p.numel() for p in G_BA.parameters()) + \\\n",
        "               sum(p.numel() for p in D_A.parameters()) + \\\n",
        "               sum(p.numel() for p in D_B.parameters())\n",
        "\n",
        "\n",
        "def weights_init(m):\n",
        "    classname = m.__class__.__name__\n",
        "    if classname.find('Conv') != -1:\n",
        "        nn.init.xavier_uniform_(m.weight.data)\n",
        "    elif classname.find('BatchNorm') != -1:\n",
        "        nn.init.normal_(m.weight.data, 1.0, 0.02)\n",
        "        nn.init.constant_(m.bias.data, 0)\n",
        "    elif classname.find('Linear') != -1:\n",
        "        nn.init.xavier_uniform_(m.weight.data)\n",
        "        nn.init.constant_(m.bias.data, 0)\n",
        "\n",
        "# init weights\n",
        "# G_AB.apply(weights_init)\n",
        "# D_B.apply(weights_init)\n",
        "# G_BA.apply(weights_init)\n",
        "# D_A.apply(weights_init)\n",
        "\n",
        "\n",
        "total_params_million = total_params / (1024 * 1024)\n",
        "print(f'Total parameters in CycleGAN model: {total_params_million:.2f} million')"
      ]
    },
    {
      "cell_type": "code",
      "execution_count": 3,
      "id": "1eafc098",
      "metadata": {},
      "outputs": [],
      "source": [
        "\"\"\"\n",
        "Step 3. Define Loss\n",
        "\"\"\"\n",
        "from collections import defaultdict\n",
        "from loss_functions import GradientPreservationLoss, IdentityPreservationLoss, PatchNCELoss, HingeAdversarialLoss, EdgeConsistencyLoss, LineContinuityLoss\n",
        "\n",
        "# criterion_GAN = HingeAdversarialLoss()\n",
        "# criterion_GAN = nn.MSELoss()\n",
        "criterion_GAN = nn.BCELoss()\n",
        "criterion_cycle = nn.L1Loss()\n",
        "criterion_identity = IdentityPreservationLoss()\n",
        "# criterion_gradient = GradientPreservationLoss()\n",
        "# criterion_contrast = PatchNCELoss()\n",
        "# edge_loss = EdgeAwareLoss()\n",
        "\n",
        "\n",
        "def dynamic_loss_weighting(epoch, total_epochs):\n",
        "    # Early epochs: Focus on content preservation\n",
        "    d = defaultdict(float)\n",
        "    if epoch < total_epochs * 0.3:\n",
        "        d.update({\n",
        "            'identity': 5.0,\n",
        "            'gan': 1.0,\n",
        "            'cycle': 10.0,\n",
        "            'facial_component': 2.0,\n",
        "            'edge': 2.0,\n",
        "        })\n",
        "    elif epoch < total_epochs * 0.7:\n",
        "        d.update({\n",
        "            'identity': 2.0,\n",
        "            'gan': 1.0,\n",
        "            'cycle': 10.0,\n",
        "            'line': 2.0,\n",
        "            'facial_component': 5.0,\n",
        "        })\n",
        "    else:\n",
        "        d.update({\n",
        "            'identity': 1.0,\n",
        "            'gan': 1.5,\n",
        "            'cycle': 10.0,\n",
        "            'line': 3.0,\n",
        "            'facial_component': 5.0,\n",
        "        })\n",
        "    return d"
      ]
    },
    {
      "cell_type": "code",
      "execution_count": 4,
      "id": "0a855d14",
      "metadata": {},
      "outputs": [
        {
          "name": "stdout",
          "output_type": "stream",
          "text": [
            "Current GPU: 0\n",
            "Current GPU name: NVIDIA GeForce RTX 4070 Ti\n"
          ]
        }
      ],
      "source": [
        "if torch.cuda.is_available():\n",
        "    print(f\"Current GPU: {torch.cuda.current_device()}\")\n",
        "    print(f\"Current GPU name: {torch.cuda.get_device_name(torch.cuda.current_device())}\")\n",
        "    DEVICE = torch.device(\"cuda\")\n",
        "    G_AB = G_AB.cuda()\n",
        "    D_B = D_B.cuda()\n",
        "    G_BA = G_BA.cuda()\n",
        "    D_A = D_A.cuda()\n",
        "    criterion_GAN = criterion_GAN.cuda()\n",
        "    criterion_cycle = criterion_cycle.cuda()\n",
        "    criterion_identity = criterion_identity.cuda()\n",
        "    TENSOR = torch.cuda.FloatTensor\n",
        "else:\n",
        "    print(\"PyTorch does not have access to GPU, falling back to CPU\")\n",
        "    TENSOR = torch.Tensor\n",
        "    DEVICE = torch.device(\"cpu\")\n",
        "\n"
      ]
    },
    {
      "cell_type": "code",
      "execution_count": 5,
      "id": "4b2dcad7",
      "metadata": {},
      "outputs": [],
      "source": [
        "\"\"\"\n",
        "Step 5. Configure Optimizers\n",
        "\"\"\"\n",
        "\n",
        "def get_lr_scheduler(optimizer, n_epochs=100, n_epochs_decay=50, lr_policy='linear', step_size=50, gamma=0.5, min_lr=1e-6, monitor='loss', patience=10):\n",
        "    if lr_policy == 'linear':\n",
        "        def lambda_rule(epoch):\n",
        "            # Keep constant for first n_epochs, then linearly decay to zero\n",
        "            lr_l = 1.0 - max(0, epoch - n_epochs) / float(n_epochs_decay + 1)\n",
        "            return lr_l\n",
        "        scheduler = torch.optim.lr_scheduler.LambdaLR(optimizer, lr_lambda=lambda_rule)\n",
        "\n",
        "    elif lr_policy == 'step':\n",
        "        # Decays the learning rate by gamma every step_size epochs\n",
        "        scheduler = torch.optim.lr_scheduler.StepLR(optimizer, step_size=step_size, gamma=gamma)\n",
        "\n",
        "    elif lr_policy == 'exponential':\n",
        "        # Exponentially decays the learning rate by gamma every epoch\n",
        "        scheduler = torch.optim.lr_scheduler.ExponentialLR(optimizer, gamma=gamma)\n",
        "\n",
        "    elif lr_policy == 'cosine':\n",
        "        # Cosine annealing from initial lr to min_lr over total epochs\n",
        "        scheduler = torch.optim.lr_scheduler.CosineAnnealingLR(optimizer, T_max=n_epochs + n_epochs_decay, eta_min=min_lr)\n",
        "\n",
        "    elif lr_policy == 'plateau':\n",
        "        # Reduces learning rate when a metric has stopped improving\n",
        "        scheduler = torch.optim.lr_scheduler.ReduceLROnPlateau(optimizer, mode='min' if monitor == 'loss' else 'max', factor=gamma, patience=patience, min_lr=min_lr)\n",
        "\n",
        "    else:\n",
        "        raise NotImplementedError(f'learning rate policy {lr_policy} not implemented')\n",
        "\n",
        "    return scheduler\n",
        "\n",
        "# Optimizer setup\n",
        "optimizer_G = torch.optim.Adam(itertools.chain(G_AB.parameters(), G_BA.parameters()),\n",
        "                               lr=0.0002, betas=(0.5, 0.999))\n",
        "optimizer_D = torch.optim.Adam(itertools.chain(D_A.parameters(), D_B.parameters()),\n",
        "                               lr=0.0002, betas=(0.5, 0.999))\n",
        "\n",
        "# Learning rate schedulers\n",
        "scheduler_G = get_lr_scheduler(optimizer_G, lr_policy='cosine', min_lr=0.00004, n_epochs=300, n_epochs_decay=100)\n",
        "scheduler_D = get_lr_scheduler(optimizer_D, lr_policy='cosine', min_lr=0.00004, n_epochs=300, n_epochs_decay=100)\n"
      ]
    },
    {
      "cell_type": "code",
      "execution_count": 6,
      "id": "c8d048e8",
      "metadata": {},
      "outputs": [],
      "source": [
        "from typing import Type, Optional, Literal\n",
        "\n",
        "def evaluate(\n",
        "    model: torch.nn.Module,\n",
        "    input_dir: str,\n",
        "    output_dir: str,\n",
        "    ref_dir: str,\n",
        "    batch_size: int,\n",
        "    generate_transforms: transforms.Compose,\n",
        "    dataloader: Optional[DataLoader] = None,\n",
        "    mode: Optional[Literal['A_B', 'B_A']] = None,\n",
        "    verbose: bool = False\n",
        ") -> float:\n",
        "\n",
        "    if input_dir is not None and dataloader is None:\n",
        "        if not os.path.exists(output_dir):\n",
        "            os.makedirs(output_dir)\n",
        "        files = [os.path.join(input_dir, name) for name in os.listdir(input_dir)]\n",
        "\n",
        "        def file_loader():\n",
        "            for i in range(0, len(files), batch_size):\n",
        "                imgs = [generate_transforms(Image.open(files[j])) for j in range(i, min(len(files), i + batch_size))]\n",
        "                yield torch.stack(imgs, 0).type(TENSOR), files[i:i + batch_size]\n",
        "\n",
        "        loader = file_loader()\n",
        "\n",
        "    elif dataloader is None:\n",
        "        raise ValueError(\"Either input_dir or dataloader must be provided.\")\n",
        "\n",
        "    elif dataloader and mode is None:\n",
        "        raise ValueError(\"Mode must be provided if dataloader is provided.\")\n",
        "\n",
        "    elif mode == 'A_B':\n",
        "        if not os.path.exists('evaluation_dumps/A_B'):\n",
        "            os.makedirs('evaluation_dumps/A_B')\n",
        "        output_dir = 'evaluation_dumps/A_B'\n",
        "    elif mode == 'B_A':\n",
        "        if not os.path.exists('evaluation_dumps/B_A'):\n",
        "            os.makedirs('evaluation_dumps/B_A')\n",
        "        output_dir = 'evaluation_dumps/B_A'\n",
        "\n",
        "    model.eval()\n",
        "    ############## ORIGINAL CODE ##############\n",
        "    # for i in range(0, len(files), batch_size):\n",
        "    #     # Read and transform images\n",
        "    #     imgs = [generate_transforms(Image.open(files[j])) for j in range(i, min(len(files), i + batch_size))]\n",
        "    #     imgs = torch.stack(imgs, 0).type(TENSOR)\n",
        "\n",
        "    #     # Generate images\n",
        "    #     fake_imgs = model(imgs).detach().cpu()\n",
        "\n",
        "    #     # Save generated images\n",
        "    #     for j in range(fake_imgs.size(0)):\n",
        "    #         img = fake_imgs[j].squeeze().permute(1, 2, 0).numpy()\n",
        "    #         img = (img - np.min(img)) * 255 / (np.max(img) - np.min(img))\n",
        "    #         img = transforms.ToPILImage()(img.astype(np.uint8))\n",
        "    #         _, name = os.path.split(files[i + j])\n",
        "    #         img.save(os.path.join(output_dir, name))\n",
        "    ###########################################\n",
        "\n",
        "    ############### WITH DATALOADER SUPPORT ###############\n",
        "    with torch.no_grad():\n",
        "        for i, batch in enumerate(dataloader if dataloader else loader):\n",
        "            if isinstance(batch, (list, tuple)) and len(batch) == 4: # the only time that its a dataloader is when both A and B are \"zipped\"\n",
        "                imgs = (batch[0] if mode == 'A_B' else batch[1]).type(TENSOR)\n",
        "                filenames = batch[2] if mode == 'A_B' else batch[3]\n",
        "            else: # otherwise, its a single folder\n",
        "                imgs, filenames = batch\n",
        "\n",
        "            # Generate images\n",
        "            fake_imgs = model(imgs).detach().cpu()\n",
        "\n",
        "            # Save generated images\n",
        "            for img, name in zip(fake_imgs, filenames):\n",
        "                img = img.squeeze().permute(1, 2, 0).numpy()\n",
        "                img = (img - np.min(img)) * 255 / (np.max(img) - np.min(img))\n",
        "                img = transforms.ToPILImage()(img.astype(np.uint8))\n",
        "                img.save(os.path.join(output_dir, os.path.basename(name)))\n",
        "        torch.cuda.empty_cache()\n",
        "    ######################################################\n",
        "\n",
        "\n",
        "    # Compute metrics\n",
        "    metrics: dict[str, float] = torch_fidelity.calculate_metrics(\n",
        "        input1=output_dir,\n",
        "        input2=ref_dir if dataloader is None else dataloader.dataset.get_partial_dataset('B' if mode == 'A_B' else 'A'),\n",
        "        cuda=True,\n",
        "        fid=True,\n",
        "        isc=True,\n",
        "        verbose=verbose\n",
        "    )\n",
        "\n",
        "    fid_score: float = metrics[\"frechet_inception_distance\"]\n",
        "    is_score: float = metrics[\"inception_score_mean\"]\n",
        "\n",
        "    del imgs; del fake_imgs\n",
        "    if is_score > 0:\n",
        "        gms: float = np.sqrt(fid_score / is_score)\n",
        "        print(\"Geometric Mean Score:\", gms)\n",
        "        return gms, fid_score, is_score\n",
        "    else:\n",
        "        print(\"IS is 0, GMS cannot be computed!\")\n",
        "        return 0, 0, 0"
      ]
    },
    {
      "cell_type": "code",
      "execution_count": 7,
      "id": "2479d552",
      "metadata": {},
      "outputs": [],
      "source": [
        "from typing import Callable, Literal\n",
        "\n",
        "\n",
        "def run_one_epoch(\n",
        "    G_AB: nn.Module,\n",
        "    G_BA: nn.Module,\n",
        "    D_A: nn.Module,\n",
        "    D_B: nn.Module,\n",
        "    state: Literal[\"train\", \"eval\"],\n",
        "    dataloader: DataLoader,\n",
        "    criterion_identity: Callable,\n",
        "    criterion_GAN: Callable,\n",
        "    criterion_cycle: Callable,\n",
        "    optimizer_G: torch.optim.Optimizer,\n",
        "    optimizer_D: torch.optim.Optimizer,\n",
        "    # optimizer_D_A: torch.optim.Optimizer,\n",
        "    # optimizer_D_B: torch.optim.Optimizer,\n",
        "    lambdas: dict[str, float],\n",
        ") -> dict[str, float]:\n",
        "\n",
        "    G_AB.train(), G_BA.train()\n",
        "\n",
        "    running_losses = {\n",
        "        \"G\": 0.0, \"D_A\": 0.0, \"D_B\": 0.0,\n",
        "        \"identity\": 0.0, \"gan\": 0.0, \"cycle\": 0.0, \"line\": 0.0\n",
        "    }\n",
        "\n",
        "    with tqdm(dataloader, unit=\"batch\", desc=\"Training\" if state == \"train\" else \"Validation\") as tepoch:\n",
        "        for real_A, real_B, *_ in tepoch:\n",
        "            optimizer_G.zero_grad()\n",
        "            D_A.eval(), D_B.eval()\n",
        "            with torch.amp.autocast(DEVICE.type, enabled=USEAUTOCAST):\n",
        "                real_A, real_B = real_A.to(DEVICE, non_blocking=True), real_B.to(DEVICE, non_blocking=True)\n",
        "\n",
        "                # Train Generators\n",
        "                fake_B = G_AB(real_A)\n",
        "                fake_A = G_BA(real_B)\n",
        "\n",
        "                # Identity loss\n",
        "                loss_id_A = criterion_identity(G_BA(real_A), real_A)\n",
        "                loss_id_B = criterion_identity(G_AB(real_B), real_B)\n",
        "                loss_identity = (loss_id_A + loss_id_B) / 2\n",
        "\n",
        "                # GAN loss - trying to fool D\n",
        "                fake_B_pred = D_B(fake_B)\n",
        "                fake_A_pred = D_A(fake_A)\n",
        "\n",
        "                # because discriminator outputs are supposed to be identical no matter where, I can reuse\n",
        "                valid, fake = torch.ones_like(fake_A_pred, requires_grad=False), torch.zeros_like(fake_A_pred, requires_grad=False)\n",
        "\n",
        "                loss_GAN_AB = criterion_GAN(fake_B_pred, valid)\n",
        "                loss_GAN_BA = criterion_GAN(fake_A_pred, valid)\n",
        "                loss_GAN = (loss_GAN_AB + loss_GAN_BA) / 2\n",
        "\n",
        "                # Cycle loss\n",
        "                loss_cycle_A = criterion_cycle(G_BA(fake_B), real_A)\n",
        "                loss_cycle_B = criterion_cycle(G_AB(fake_A), real_B)\n",
        "                loss_cycle = (loss_cycle_A + loss_cycle_B) / 2\n",
        "\n",
        "                # # Line continuity loss\n",
        "                # loss_line_A = line_loss(fake_A, real_A)\n",
        "                # loss_line_B = line_loss(fake_B, real_B)\n",
        "                # loss_line = (loss_line_A + loss_line_B) / 2\n",
        "\n",
        "            # Total generator loss\n",
        "            loss_G = lambdas['identity'] * loss_identity + lambdas['gan'] * loss_GAN + lambdas['cycle'] * loss_cycle\n",
        "            loss_G.backward()\n",
        "            optimizer_G.step()\n",
        "\n",
        "\n",
        "\n",
        "            # Train Discriminators\n",
        "            optimizer_D.zero_grad()\n",
        "            D_A.train(), D_B.train()\n",
        "            with torch.amp.autocast(DEVICE.type, enabled=USEAUTOCAST):\n",
        "                real_A_pred = D_A(real_A)\n",
        "                fake_A_pred = D_A(fake_A.detach())\n",
        "                loss_real_A = criterion_GAN(real_A_pred, valid)\n",
        "                loss_fake_A = criterion_GAN(fake_A_pred, fake)\n",
        "                loss_D_A = (loss_real_A + loss_fake_A) / 2\n",
        "                \n",
        "                real_B_pred = D_B(real_B)\n",
        "                fake_B_pred = D_B(fake_B.detach())\n",
        "                loss_real_B = criterion_GAN(real_B_pred, valid)\n",
        "                loss_fake_B = criterion_GAN(fake_B_pred, fake)\n",
        "                loss_D_B = (loss_real_B + loss_fake_B) / 2\n",
        "                \n",
        "                loss_D = (loss_D_A + loss_D_B)\n",
        "            loss_D.backward()\n",
        "            optimizer_D.step()\n",
        "\n",
        "            # Accumulate losses\n",
        "            running_losses[\"G\"] += loss_G.item()\n",
        "            running_losses[\"D_A\"] += loss_D_A.item()\n",
        "            running_losses[\"D_B\"] += loss_D_B.item()\n",
        "            running_losses[\"identity\"] += loss_identity.item()\n",
        "            running_losses[\"gan\"] += loss_GAN.item()\n",
        "            running_losses[\"cycle\"] += loss_cycle.item()\n",
        "            # running_losses[\"line\"] += loss_line.item()\n",
        "\n",
        "    print(f'[G loss: {loss_G.item()} | identity: {loss_identity.item()} GAN: {loss_GAN.item()} cycle: {loss_cycle.item()}]')\n",
        "    print(f'[D loss: {loss_D.item()} | D_A: {loss_D_A.item()} D_B: {loss_D_B.item()}]')\n",
        "    # Average the losses over the dataset\n",
        "    return {k: v / len(dataloader) for k, v in running_losses.items()}"
      ]
    },
    {
      "cell_type": "code",
      "execution_count": 8,
      "id": "6e619ac7",
      "metadata": {},
      "outputs": [],
      "source": [
        "\"\"\"\n",
        "Step 6. DataLoader\n",
        "\"\"\"\n",
        "from CustomImageDataset import CustomImageDataset as ImageDataset\n",
        "# data_dir = '/kaggle/input/group-project/image_image_translation'\n",
        "data_dir = ''\n",
        "\n",
        "image_size = (128, 128)\n",
        "transforms_ = transforms.Compose([\n",
        "    transforms.Resize(image_size),\n",
        "    transforms.ToTensor(),\n",
        "    transforms.Normalize((0.5, 0.5, 0.5), (0.5, 0.5, 0.5))\n",
        "])\n",
        "\n",
        "evaluation_transforms = transforms.Compose([\n",
        "    transforms.Resize(image_size),\n",
        "    transforms.ToTensor(),\n",
        "    transforms.Normalize((0.5, 0.5, 0.5), (0.5, 0.5, 0.5))\n",
        "])\n",
        "\n",
        "\n",
        "loader_params = {\n",
        "    \"batch_size\": 12,\n",
        "    \"num_workers\": 2,\n",
        "    \"pin_memory\": True,\n",
        "    \"shuffle\": True,\n",
        "    # \"prefetch_factor\": 2,\n",
        "    \"persistent_workers\": True\n",
        "}\n",
        "\n",
        "\n",
        "trainloader = DataLoader(\n",
        "    ImageDataset(data_dir, mode='train', transform=transforms_),\n",
        "    **loader_params\n",
        ")\n",
        "\n",
        "loader_params[\"shuffle\"] = False\n",
        "validloader = DataLoader(\n",
        "    ImageDataset(data_dir, mode='valid', transform=transforms_),\n",
        "    **loader_params\n",
        ")"
      ]
    },
    {
      "cell_type": "code",
      "execution_count": 9,
      "id": "409ea73f-b928-4e03-bc93-65204998136c",
      "metadata": {
        "id": "409ea73f-b928-4e03-bc93-65204998136c",
        "trusted": true
      },
      "outputs": [
        {
          "name": "stdout",
          "output_type": "stream",
          "text": [
            "[Epoch 1/300]\n"
          ]
        },
        {
          "name": "stderr",
          "output_type": "stream",
          "text": [
            "Training: 100%|██████████| 267/267 [01:48<00:00,  2.45batch/s]\n"
          ]
        },
        {
          "name": "stdout",
          "output_type": "stream",
          "text": [
            "[G loss: 3.581648588180542 | identity: 0.09640590846538544 GAN: 0.8653448820114136 cycle: 0.223427414894104]\n",
            "[D loss: 1.228822112083435 | D_A: 0.6053873300552368 D_B: 0.6234347820281982]\n",
            "[Epoch 2/300]\n"
          ]
        },
        {
          "name": "stderr",
          "output_type": "stream",
          "text": [
            "Training: 100%|██████████| 267/267 [01:44<00:00,  2.56batch/s]\n"
          ]
        },
        {
          "name": "stdout",
          "output_type": "stream",
          "text": [
            "[G loss: 2.3894639015197754 | identity: 0.058832280337810516 GAN: 0.7371056079864502 cycle: 0.1358196884393692]\n",
            "[D loss: 1.2533982992172241 | D_A: 0.623949408531189 D_B: 0.6294488906860352]\n",
            "[Epoch 3/300]\n"
          ]
        },
        {
          "name": "stderr",
          "output_type": "stream",
          "text": [
            "Training: 100%|██████████| 267/267 [01:44<00:00,  2.56batch/s]\n"
          ]
        },
        {
          "name": "stdout",
          "output_type": "stream",
          "text": [
            "[G loss: 2.860980272293091 | identity: 0.07521087676286697 GAN: 0.8743391633033752 cycle: 0.1610586792230606]\n",
            "[D loss: 1.3104687929153442 | D_A: 0.6538316607475281 D_B: 0.6566371321678162]\n",
            "[Epoch 4/300]\n"
          ]
        },
        {
          "name": "stderr",
          "output_type": "stream",
          "text": [
            "Training: 100%|██████████| 267/267 [01:43<00:00,  2.57batch/s]\n"
          ]
        },
        {
          "name": "stdout",
          "output_type": "stream",
          "text": [
            "[G loss: 2.332515239715576 | identity: 0.05477413535118103 GAN: 0.6978432536125183 cycle: 0.13608014583587646]\n",
            "[D loss: 1.3895201683044434 | D_A: 0.7111849784851074 D_B: 0.6783351302146912]\n",
            "[Epoch 5/300]\n"
          ]
        },
        {
          "name": "stderr",
          "output_type": "stream",
          "text": [
            "Training: 100%|██████████| 267/267 [01:44<00:00,  2.56batch/s]\n"
          ]
        },
        {
          "name": "stdout",
          "output_type": "stream",
          "text": [
            "[G loss: 2.790518283843994 | identity: 0.053386151790618896 GAN: 0.866212010383606 cycle: 0.1657375693321228]\n",
            "[D loss: 1.2220309972763062 | D_A: 0.716506838798523 D_B: 0.5055241584777832]\n",
            "[Epoch 6/300]\n"
          ]
        },
        {
          "name": "stderr",
          "output_type": "stream",
          "text": [
            "Training: 100%|██████████| 267/267 [01:43<00:00,  2.57batch/s]\n"
          ]
        },
        {
          "name": "stdout",
          "output_type": "stream",
          "text": [
            "[G loss: 2.650984287261963 | identity: 0.06213350594043732 GAN: 0.8263548612594604 cycle: 0.15139620006084442]\n",
            "[D loss: 1.1495684385299683 | D_A: 0.6066778898239136 D_B: 0.5428905487060547]\n",
            "[Epoch 7/300]\n"
          ]
        },
        {
          "name": "stderr",
          "output_type": "stream",
          "text": [
            "Training: 100%|██████████| 267/267 [01:44<00:00,  2.56batch/s]\n"
          ]
        },
        {
          "name": "stdout",
          "output_type": "stream",
          "text": [
            "[G loss: 2.254037857055664 | identity: 0.04241500049829483 GAN: 0.944881796836853 cycle: 0.10970811545848846]\n",
            "[D loss: 1.2692534923553467 | D_A: 0.6649701595306396 D_B: 0.604283332824707]\n",
            "[Epoch 8/300]\n"
          ]
        },
        {
          "name": "stderr",
          "output_type": "stream",
          "text": [
            "Training: 100%|██████████| 267/267 [01:44<00:00,  2.56batch/s]\n"
          ]
        },
        {
          "name": "stdout",
          "output_type": "stream",
          "text": [
            "[G loss: 2.0060923099517822 | identity: 0.04007120430469513 GAN: 0.7531653046607971 cycle: 0.10525710880756378]\n",
            "[D loss: 1.315337896347046 | D_A: 0.6579375267028809 D_B: 0.6574003100395203]\n",
            "[Epoch 9/300]\n"
          ]
        },
        {
          "name": "stderr",
          "output_type": "stream",
          "text": [
            "Training: 100%|██████████| 267/267 [01:44<00:00,  2.56batch/s]\n"
          ]
        },
        {
          "name": "stdout",
          "output_type": "stream",
          "text": [
            "[G loss: 2.6398448944091797 | identity: 0.049021847546100616 GAN: 1.3011780977249146 cycle: 0.10935575515031815]\n",
            "[D loss: 1.4646821022033691 | D_A: 0.6249240636825562 D_B: 0.839758038520813]\n",
            "[Epoch 10/300]\n"
          ]
        },
        {
          "name": "stderr",
          "output_type": "stream",
          "text": [
            "Training: 100%|██████████| 267/267 [01:44<00:00,  2.56batch/s]\n"
          ]
        },
        {
          "name": "stdout",
          "output_type": "stream",
          "text": [
            "[G loss: 2.207765817642212 | identity: 0.04579169303178787 GAN: 0.773322343826294 cycle: 0.12054849416017532]\n",
            "[D loss: 1.1098805665969849 | D_A: 0.618971586227417 D_B: 0.49090898036956787]\n",
            "[Epoch 11/300]\n"
          ]
        },
        {
          "name": "stderr",
          "output_type": "stream",
          "text": [
            "Training: 100%|██████████| 267/267 [01:44<00:00,  2.56batch/s]\n"
          ]
        },
        {
          "name": "stdout",
          "output_type": "stream",
          "text": [
            "[G loss: 2.2934608459472656 | identity: 0.03273296356201172 GAN: 1.1573777198791504 cycle: 0.0972418412566185]\n",
            "[D loss: 1.283987283706665 | D_A: 0.6559281349182129 D_B: 0.6280590891838074]\n",
            "[Epoch 12/300]\n"
          ]
        },
        {
          "name": "stderr",
          "output_type": "stream",
          "text": [
            "Training: 100%|██████████| 267/267 [01:44<00:00,  2.56batch/s]\n"
          ]
        },
        {
          "name": "stdout",
          "output_type": "stream",
          "text": [
            "[G loss: 2.301375150680542 | identity: 0.034822575747966766 GAN: 0.934903085231781 cycle: 0.11923591792583466]\n",
            "[D loss: 1.210916519165039 | D_A: 0.6512059569358826 D_B: 0.5597106218338013]\n",
            "[Epoch 13/300]\n"
          ]
        },
        {
          "name": "stderr",
          "output_type": "stream",
          "text": [
            "Training: 100%|██████████| 267/267 [01:42<00:00,  2.59batch/s]\n"
          ]
        },
        {
          "name": "stdout",
          "output_type": "stream",
          "text": [
            "[G loss: 2.2983040809631348 | identity: 0.035333454608917236 GAN: 0.9835426211357117 cycle: 0.11380941420793533]\n",
            "[D loss: 1.3912478685379028 | D_A: 0.673209547996521 D_B: 0.7180383205413818]\n",
            "[Epoch 14/300]\n"
          ]
        },
        {
          "name": "stderr",
          "output_type": "stream",
          "text": [
            "Training: 100%|██████████| 267/267 [01:44<00:00,  2.56batch/s]\n"
          ]
        },
        {
          "name": "stdout",
          "output_type": "stream",
          "text": [
            "[G loss: 2.0822083950042725 | identity: 0.03147231042385101 GAN: 1.0316200256347656 cycle: 0.08932268619537354]\n",
            "[D loss: 1.2084243297576904 | D_A: 0.6617041826248169 D_B: 0.5467201471328735]\n",
            "[Epoch 15/300]\n"
          ]
        },
        {
          "name": "stderr",
          "output_type": "stream",
          "text": [
            "Training: 100%|██████████| 267/267 [01:44<00:00,  2.57batch/s]\n"
          ]
        },
        {
          "name": "stdout",
          "output_type": "stream",
          "text": [
            "[G loss: 2.647482395172119 | identity: 0.04274633899331093 GAN: 0.7923805713653564 cycle: 0.16413703560829163]\n",
            "[D loss: 1.1879112720489502 | D_A: 0.6456812620162964 D_B: 0.5422300100326538]\n"
          ]
        },
        {
          "name": "stderr",
          "output_type": "stream",
          "text": [
            "Creating feature extractor \"inception-v3-compat\" with features ['2048', 'logits_unbiased']\n",
            "Extracting features from input1\n",
            "Looking for samples non-recursivelty in \"evaluation_dumps/A_B\" with extensions png,jpg,jpeg\n",
            "Found 800 samples, some are lossy-compressed - this may affect metrics\n",
            "c:\\Users\\a\\Desktop\\cs424-project\\venv313\\Lib\\site-packages\\torch_fidelity\\datasets.py:16: UserWarning: TypedStorage is deprecated. It will be removed in the future and UntypedStorage will be the only storage class. This should only matter to you if you are using storages directly.  To access UntypedStorage directly, use tensor.untyped_storage() instead of tensor.storage()\n",
            "  img = torch.ByteTensor(torch.ByteStorage.from_buffer(img.tobytes())).view(height, width, 3)\n",
            "Processing samples                                                         \n",
            "Extracting features from input2\n",
            "Processing samples                                                         \n",
            "Inception Score: 3.5189217359566642 ± 0.3091207510205179\n",
            "Frechet Inception Distance: 143.80189940098236\n"
          ]
        },
        {
          "name": "stdout",
          "output_type": "stream",
          "text": [
            "Geometric Mean Score: 6.392599659188994\n",
            "Geometric Mean Score: 4.6812258048403415\n",
            "A->B | GMS=6.392600 FID=143.801899 IS=3.518922\n",
            "B->A | GMS=4.681226 FID=70.943226 IS=3.237366\n",
            "Average GMS: 5.536912732014668, Best: inf\n",
            "(ง 🔥 ﾛ 🔥 )ง CooKING! 🚀\n",
            "Best A->B model saved. Epoch: 15\n",
            "Best B->A model saved. Epoch: 15\n",
            "[Epoch 16/300]\n"
          ]
        },
        {
          "name": "stderr",
          "output_type": "stream",
          "text": [
            "Training: 100%|██████████| 267/267 [01:44<00:00,  2.56batch/s]\n"
          ]
        },
        {
          "name": "stdout",
          "output_type": "stream",
          "text": [
            "[G loss: 1.9990057945251465 | identity: 0.03388381749391556 GAN: 0.946039080619812 cycle: 0.08835477381944656]\n",
            "[D loss: 1.3140655755996704 | D_A: 0.6334511041641235 D_B: 0.6806144714355469]\n",
            "[Epoch 17/300]\n"
          ]
        },
        {
          "name": "stderr",
          "output_type": "stream",
          "text": [
            "Training: 100%|██████████| 267/267 [01:44<00:00,  2.56batch/s]\n"
          ]
        },
        {
          "name": "stdout",
          "output_type": "stream",
          "text": [
            "[G loss: 2.0469183921813965 | identity: 0.03580460324883461 GAN: 0.8922075033187866 cycle: 0.09756878018379211]\n",
            "[D loss: 1.3215227127075195 | D_A: 0.6914309859275818 D_B: 0.630091667175293]\n",
            "[Epoch 18/300]\n"
          ]
        },
        {
          "name": "stderr",
          "output_type": "stream",
          "text": [
            "Training: 100%|██████████| 267/267 [01:44<00:00,  2.56batch/s]\n"
          ]
        },
        {
          "name": "stdout",
          "output_type": "stream",
          "text": [
            "[G loss: 2.1825690269470215 | identity: 0.030748505145311356 GAN: 0.9043679237365723 cycle: 0.11244586110115051]\n",
            "[D loss: 1.1494340896606445 | D_A: 0.5628980398178101 D_B: 0.5865359902381897]\n",
            "[Epoch 19/300]\n"
          ]
        },
        {
          "name": "stderr",
          "output_type": "stream",
          "text": [
            "Training: 100%|██████████| 267/267 [01:44<00:00,  2.56batch/s]\n"
          ]
        },
        {
          "name": "stdout",
          "output_type": "stream",
          "text": [
            "[G loss: 1.9181867837905884 | identity: 0.03405703231692314 GAN: 0.8863331079483032 cycle: 0.08615685999393463]\n",
            "[D loss: 1.1949453353881836 | D_A: 0.6694853901863098 D_B: 0.5254600048065186]\n",
            "[Epoch 20/300]\n"
          ]
        },
        {
          "name": "stderr",
          "output_type": "stream",
          "text": [
            "Training: 100%|██████████| 267/267 [01:44<00:00,  2.55batch/s]\n"
          ]
        },
        {
          "name": "stdout",
          "output_type": "stream",
          "text": [
            "[G loss: 2.1663477420806885 | identity: 0.03508798032999039 GAN: 0.7421894073486328 cycle: 0.12487183511257172]\n",
            "[D loss: 1.293406367301941 | D_A: 0.590147852897644 D_B: 0.7032585144042969]\n",
            "[Epoch 21/300]\n"
          ]
        },
        {
          "name": "stderr",
          "output_type": "stream",
          "text": [
            "Training: 100%|██████████| 267/267 [01:44<00:00,  2.56batch/s]\n"
          ]
        },
        {
          "name": "stdout",
          "output_type": "stream",
          "text": [
            "[G loss: 1.7969293594360352 | identity: 0.0272808987647295 GAN: 0.865841805934906 cycle: 0.07946830987930298]\n",
            "[D loss: 1.3931169509887695 | D_A: 0.6944031715393066 D_B: 0.6987137794494629]\n",
            "[Epoch 22/300]\n"
          ]
        },
        {
          "name": "stderr",
          "output_type": "stream",
          "text": [
            "Training: 100%|██████████| 267/267 [01:44<00:00,  2.56batch/s]\n"
          ]
        },
        {
          "name": "stdout",
          "output_type": "stream",
          "text": [
            "[G loss: 2.347303628921509 | identity: 0.027188695967197418 GAN: 1.2866902351379395 cycle: 0.09246699512004852]\n",
            "[D loss: 1.0930644273757935 | D_A: 0.6562069654464722 D_B: 0.4368574917316437]\n",
            "[Epoch 23/300]\n"
          ]
        },
        {
          "name": "stderr",
          "output_type": "stream",
          "text": [
            "Training: 100%|██████████| 267/267 [01:42<00:00,  2.62batch/s]\n"
          ]
        },
        {
          "name": "stdout",
          "output_type": "stream",
          "text": [
            "[G loss: 2.1126596927642822 | identity: 0.03186415135860443 GAN: 0.9147413969039917 cycle: 0.10385975241661072]\n",
            "[D loss: 1.2774074077606201 | D_A: 0.6758803725242615 D_B: 0.6015269756317139]\n",
            "[Epoch 24/300]\n"
          ]
        },
        {
          "name": "stderr",
          "output_type": "stream",
          "text": [
            "Training: 100%|██████████| 267/267 [01:40<00:00,  2.65batch/s]\n"
          ]
        },
        {
          "name": "stdout",
          "output_type": "stream",
          "text": [
            "[G loss: 1.8008503913879395 | identity: 0.023983817547559738 GAN: 0.8753454685211182 cycle: 0.08055858314037323]\n",
            "[D loss: 1.1226978302001953 | D_A: 0.6163148880004883 D_B: 0.5063830018043518]\n",
            "[Epoch 25/300]\n"
          ]
        },
        {
          "name": "stderr",
          "output_type": "stream",
          "text": [
            "Training: 100%|██████████| 267/267 [01:40<00:00,  2.66batch/s]\n"
          ]
        },
        {
          "name": "stdout",
          "output_type": "stream",
          "text": [
            "[G loss: 2.0982024669647217 | identity: 0.027501052245497704 GAN: 1.024595022201538 cycle: 0.09361021220684052]\n",
            "[D loss: 1.112575888633728 | D_A: 0.593484103679657 D_B: 0.519091784954071]\n",
            "[Epoch 26/300]\n"
          ]
        },
        {
          "name": "stderr",
          "output_type": "stream",
          "text": [
            "Training: 100%|██████████| 267/267 [01:40<00:00,  2.65batch/s]\n"
          ]
        },
        {
          "name": "stdout",
          "output_type": "stream",
          "text": [
            "[G loss: 2.2703306674957275 | identity: 0.028068315237760544 GAN: 1.0815879106521606 cycle: 0.10484011471271515]\n",
            "[D loss: 1.113368272781372 | D_A: 0.6383534073829651 D_B: 0.475014865398407]\n",
            "[Epoch 27/300]\n"
          ]
        },
        {
          "name": "stderr",
          "output_type": "stream",
          "text": [
            "Training: 100%|██████████| 267/267 [01:40<00:00,  2.65batch/s]\n"
          ]
        },
        {
          "name": "stdout",
          "output_type": "stream",
          "text": [
            "[G loss: 1.9599177837371826 | identity: 0.0247984379529953 GAN: 0.8958172798156738 cycle: 0.09401082992553711]\n",
            "[D loss: 1.3284633159637451 | D_A: 0.6346048712730408 D_B: 0.6938585042953491]\n",
            "[Epoch 28/300]\n"
          ]
        },
        {
          "name": "stderr",
          "output_type": "stream",
          "text": [
            "Training: 100%|██████████| 267/267 [01:40<00:00,  2.65batch/s]\n"
          ]
        },
        {
          "name": "stdout",
          "output_type": "stream",
          "text": [
            "[G loss: 1.847346305847168 | identity: 0.026590798050165176 GAN: 0.8499917984008789 cycle: 0.08644004911184311]\n",
            "[D loss: 1.051177978515625 | D_A: 0.5358107089996338 D_B: 0.515367329120636]\n",
            "[Epoch 29/300]\n"
          ]
        },
        {
          "name": "stderr",
          "output_type": "stream",
          "text": [
            "Training: 100%|██████████| 267/267 [01:40<00:00,  2.65batch/s]\n"
          ]
        },
        {
          "name": "stdout",
          "output_type": "stream",
          "text": [
            "[G loss: 2.0704212188720703 | identity: 0.03092128410935402 GAN: 1.006885051727295 cycle: 0.0908929631114006]\n",
            "[D loss: 1.1201586723327637 | D_A: 0.6770315170288086 D_B: 0.4431271553039551]\n",
            "[Epoch 30/300]\n"
          ]
        },
        {
          "name": "stderr",
          "output_type": "stream",
          "text": [
            "Training: 100%|██████████| 267/267 [01:40<00:00,  2.65batch/s]\n"
          ]
        },
        {
          "name": "stdout",
          "output_type": "stream",
          "text": [
            "[G loss: 1.967522144317627 | identity: 0.032133087515830994 GAN: 0.9032752513885498 cycle: 0.09035815298557281]\n",
            "[D loss: 1.1664901971817017 | D_A: 0.5994548797607422 D_B: 0.5670353174209595]\n"
          ]
        },
        {
          "name": "stderr",
          "output_type": "stream",
          "text": [
            "Creating feature extractor \"inception-v3-compat\" with features ['2048', 'logits_unbiased']\n",
            "Extracting features from input1\n",
            "Looking for samples non-recursivelty in \"evaluation_dumps/A_B\" with extensions png,jpg,jpeg\n",
            "Found 800 samples, some are lossy-compressed - this may affect metrics\n",
            "Processing samples                                                         \n",
            "Extracting features from input2\n",
            "Processing samples                                                         \n",
            "Inception Score: 3.0833687707268678 ± 0.24807922877116886\n",
            "Frechet Inception Distance: 119.07255854648375\n"
          ]
        },
        {
          "name": "stdout",
          "output_type": "stream",
          "text": [
            "Geometric Mean Score: 6.2143127741579915\n",
            "Geometric Mean Score: 4.269967830484307\n",
            "A->B | GMS=6.214313 FID=119.072559 IS=3.083369\n",
            "B->A | GMS=4.269968 FID=59.776452 IS=3.278543\n",
            "Average GMS: 5.2421403023211495, Best: 5.536912732014668\n",
            "(ง 🔥 ﾛ 🔥 )ง CooKING! 🚀\n",
            "Best A->B model saved. Epoch: 30\n",
            "Best B->A model saved. Epoch: 30\n",
            "[Epoch 31/300]\n"
          ]
        },
        {
          "name": "stderr",
          "output_type": "stream",
          "text": [
            "Training: 100%|██████████| 267/267 [01:40<00:00,  2.65batch/s]\n"
          ]
        },
        {
          "name": "stdout",
          "output_type": "stream",
          "text": [
            "[G loss: 1.9390907287597656 | identity: 0.023753348737955093 GAN: 0.8915554285049438 cycle: 0.0928768441081047]\n",
            "[D loss: 1.092983365058899 | D_A: 0.6420966386795044 D_B: 0.4508867561817169]\n",
            "[Epoch 32/300]\n"
          ]
        },
        {
          "name": "stderr",
          "output_type": "stream",
          "text": [
            "Training: 100%|██████████| 267/267 [01:40<00:00,  2.66batch/s]\n"
          ]
        },
        {
          "name": "stdout",
          "output_type": "stream",
          "text": [
            "[G loss: 1.7792296409606934 | identity: 0.03244233503937721 GAN: 0.7055931091308594 cycle: 0.09114248305559158]\n",
            "[D loss: 1.1510415077209473 | D_A: 0.5625709891319275 D_B: 0.588470458984375]\n",
            "[Epoch 33/300]\n"
          ]
        },
        {
          "name": "stderr",
          "output_type": "stream",
          "text": [
            "Training: 100%|██████████| 267/267 [01:40<00:00,  2.65batch/s]\n"
          ]
        },
        {
          "name": "stdout",
          "output_type": "stream",
          "text": [
            "[G loss: 2.67527174949646 | identity: 0.028500430285930634 GAN: 1.3505897521972656 cycle: 0.11821798235177994]\n",
            "[D loss: 1.0068331956863403 | D_A: 0.5744889974594116 D_B: 0.4323441982269287]\n",
            "[Epoch 34/300]\n"
          ]
        },
        {
          "name": "stderr",
          "output_type": "stream",
          "text": [
            "Training: 100%|██████████| 267/267 [01:40<00:00,  2.65batch/s]\n"
          ]
        },
        {
          "name": "stdout",
          "output_type": "stream",
          "text": [
            "[G loss: 2.4880833625793457 | identity: 0.027934430167078972 GAN: 1.4579390287399292 cycle: 0.08904720842838287]\n",
            "[D loss: 0.9744059443473816 | D_A: 0.46150219440460205 D_B: 0.5129037499427795]\n",
            "[Epoch 35/300]\n"
          ]
        },
        {
          "name": "stderr",
          "output_type": "stream",
          "text": [
            "Training: 100%|██████████| 267/267 [01:40<00:00,  2.65batch/s]\n"
          ]
        },
        {
          "name": "stdout",
          "output_type": "stream",
          "text": [
            "[G loss: 2.077266216278076 | identity: 0.025218265131115913 GAN: 1.126244068145752 cycle: 0.08249306678771973]\n",
            "[D loss: 1.0931906700134277 | D_A: 0.6217160224914551 D_B: 0.47147470712661743]\n",
            "[Epoch 36/300]\n"
          ]
        },
        {
          "name": "stderr",
          "output_type": "stream",
          "text": [
            "Training: 100%|██████████| 267/267 [01:40<00:00,  2.65batch/s]\n"
          ]
        },
        {
          "name": "stdout",
          "output_type": "stream",
          "text": [
            "[G loss: 2.100943088531494 | identity: 0.03459002077579498 GAN: 0.8876820802688599 cycle: 0.10403108596801758]\n",
            "[D loss: 1.1263737678527832 | D_A: 0.541516900062561 D_B: 0.5848568081855774]\n",
            "[Epoch 37/300]\n"
          ]
        },
        {
          "name": "stderr",
          "output_type": "stream",
          "text": [
            "Training: 100%|██████████| 267/267 [01:40<00:00,  2.65batch/s]\n"
          ]
        },
        {
          "name": "stdout",
          "output_type": "stream",
          "text": [
            "[G loss: 2.1788840293884277 | identity: 0.02916911616921425 GAN: 1.205012321472168 cycle: 0.08280262351036072]\n",
            "[D loss: 1.3265565633773804 | D_A: 0.6603100299835205 D_B: 0.6662465333938599]\n",
            "[Epoch 38/300]\n"
          ]
        },
        {
          "name": "stderr",
          "output_type": "stream",
          "text": [
            "Training: 100%|██████████| 267/267 [01:40<00:00,  2.65batch/s]\n"
          ]
        },
        {
          "name": "stdout",
          "output_type": "stream",
          "text": [
            "[G loss: 1.6785738468170166 | identity: 0.02183828130364418 GAN: 0.8136907815933228 cycle: 0.07556916773319244]\n",
            "[D loss: 1.174159049987793 | D_A: 0.668121874332428 D_B: 0.5060372352600098]\n",
            "[Epoch 39/300]\n"
          ]
        },
        {
          "name": "stderr",
          "output_type": "stream",
          "text": [
            "Training: 100%|██████████| 267/267 [01:40<00:00,  2.65batch/s]\n"
          ]
        },
        {
          "name": "stdout",
          "output_type": "stream",
          "text": [
            "[G loss: 2.139369487762451 | identity: 0.02654441073536873 GAN: 0.9581258893013 cycle: 0.10485213994979858]\n",
            "[D loss: 0.8877374529838562 | D_A: 0.5380699634552002 D_B: 0.349667489528656]\n",
            "[Epoch 40/300]\n"
          ]
        },
        {
          "name": "stderr",
          "output_type": "stream",
          "text": [
            "Training: 100%|██████████| 267/267 [01:40<00:00,  2.65batch/s]\n"
          ]
        },
        {
          "name": "stdout",
          "output_type": "stream",
          "text": [
            "[G loss: 2.487905502319336 | identity: 0.021888576447963715 GAN: 1.3910719156265259 cycle: 0.09873906522989273]\n",
            "[D loss: 1.016121745109558 | D_A: 0.5206817984580994 D_B: 0.49543994665145874]\n",
            "[Epoch 41/300]\n"
          ]
        },
        {
          "name": "stderr",
          "output_type": "stream",
          "text": [
            "Training: 100%|██████████| 267/267 [01:40<00:00,  2.65batch/s]\n"
          ]
        },
        {
          "name": "stdout",
          "output_type": "stream",
          "text": [
            "[G loss: 2.2747836112976074 | identity: 0.021623335778713226 GAN: 1.2618435621261597 cycle: 0.09048235416412354]\n",
            "[D loss: 1.275581955909729 | D_A: 0.6711337566375732 D_B: 0.6044481992721558]\n",
            "[Epoch 42/300]\n"
          ]
        },
        {
          "name": "stderr",
          "output_type": "stream",
          "text": [
            "Training: 100%|██████████| 267/267 [01:40<00:00,  2.66batch/s]\n"
          ]
        },
        {
          "name": "stdout",
          "output_type": "stream",
          "text": [
            "[G loss: 1.9964337348937988 | identity: 0.023795831948518753 GAN: 1.038245439529419 cycle: 0.0839209109544754]\n",
            "[D loss: 1.1811633110046387 | D_A: 0.5857542753219604 D_B: 0.5954090356826782]\n",
            "[Epoch 43/300]\n"
          ]
        },
        {
          "name": "stderr",
          "output_type": "stream",
          "text": [
            "Training: 100%|██████████| 267/267 [01:40<00:00,  2.65batch/s]\n"
          ]
        },
        {
          "name": "stdout",
          "output_type": "stream",
          "text": [
            "[G loss: 1.961525321006775 | identity: 0.023347754031419754 GAN: 0.9224703311920166 cycle: 0.0922316163778305]\n",
            "[D loss: 1.276907205581665 | D_A: 0.590791642665863 D_B: 0.6861156225204468]\n",
            "[Epoch 44/300]\n"
          ]
        },
        {
          "name": "stderr",
          "output_type": "stream",
          "text": [
            "Training: 100%|██████████| 267/267 [01:40<00:00,  2.65batch/s]\n"
          ]
        },
        {
          "name": "stdout",
          "output_type": "stream",
          "text": [
            "[G loss: 2.167135000228882 | identity: 0.021534638479351997 GAN: 1.2079622745513916 cycle: 0.08514995872974396]\n",
            "[D loss: 1.1288859844207764 | D_A: 0.5911468863487244 D_B: 0.537739098072052]\n",
            "[Epoch 45/300]\n"
          ]
        },
        {
          "name": "stderr",
          "output_type": "stream",
          "text": [
            "Training: 100%|██████████| 267/267 [01:40<00:00,  2.66batch/s]\n"
          ]
        },
        {
          "name": "stdout",
          "output_type": "stream",
          "text": [
            "[G loss: 1.6542980670928955 | identity: 0.021719668060541153 GAN: 0.8419091105461121 cycle: 0.07037906348705292]\n",
            "[D loss: 1.1514012813568115 | D_A: 0.5764943957328796 D_B: 0.5749069452285767]\n"
          ]
        },
        {
          "name": "stderr",
          "output_type": "stream",
          "text": [
            "Creating feature extractor \"inception-v3-compat\" with features ['2048', 'logits_unbiased']\n",
            "Extracting features from input1\n",
            "Looking for samples non-recursivelty in \"evaluation_dumps/A_B\" with extensions png,jpg,jpeg\n",
            "Found 800 samples, some are lossy-compressed - this may affect metrics\n",
            "Processing samples                                                         \n",
            "Extracting features from input2\n",
            "Processing samples                                                         \n",
            "Inception Score: 2.837003759394265 ± 0.18764028249876102\n",
            "Frechet Inception Distance: 95.36058034150477\n"
          ]
        },
        {
          "name": "stdout",
          "output_type": "stream",
          "text": [
            "Geometric Mean Score: 5.797683284608232\n",
            "Geometric Mean Score: 4.283789283926355\n",
            "A->B | GMS=5.797683 FID=95.360580 IS=2.837004\n",
            "B->A | GMS=4.283789 FID=60.610928 IS=3.302895\n",
            "Average GMS: 5.040736284267293, Best: 5.2421403023211495\n",
            "(ง 🔥 ﾛ 🔥 )ง CooKING! 🚀\n",
            "Best A->B model saved. Epoch: 45\n",
            "[Epoch 46/300]\n"
          ]
        },
        {
          "name": "stderr",
          "output_type": "stream",
          "text": [
            "Training: 100%|██████████| 267/267 [01:40<00:00,  2.65batch/s]\n"
          ]
        },
        {
          "name": "stdout",
          "output_type": "stream",
          "text": [
            "[G loss: 1.847373366355896 | identity: 0.023069873452186584 GAN: 0.9893997311592102 cycle: 0.07426242530345917]\n",
            "[D loss: 1.0730996131896973 | D_A: 0.5969581007957458 D_B: 0.4761415421962738]\n",
            "[Epoch 47/300]\n"
          ]
        },
        {
          "name": "stderr",
          "output_type": "stream",
          "text": [
            "Training: 100%|██████████| 267/267 [01:40<00:00,  2.65batch/s]\n"
          ]
        },
        {
          "name": "stdout",
          "output_type": "stream",
          "text": [
            "[G loss: 1.744333028793335 | identity: 0.019882412627339363 GAN: 0.892131507396698 cycle: 0.07527895271778107]\n",
            "[D loss: 1.108427882194519 | D_A: 0.5696291923522949 D_B: 0.5387986898422241]\n",
            "[Epoch 48/300]\n"
          ]
        },
        {
          "name": "stderr",
          "output_type": "stream",
          "text": [
            "Training: 100%|██████████| 267/267 [01:40<00:00,  2.65batch/s]\n"
          ]
        },
        {
          "name": "stdout",
          "output_type": "stream",
          "text": [
            "[G loss: 2.35178279876709 | identity: 0.05155608057975769 GAN: 1.2055175304412842 cycle: 0.08884847909212112]\n",
            "[D loss: 0.9992337226867676 | D_A: 0.5568587779998779 D_B: 0.44237491488456726]\n",
            "[Epoch 49/300]\n"
          ]
        },
        {
          "name": "stderr",
          "output_type": "stream",
          "text": [
            "Training: 100%|██████████| 267/267 [01:40<00:00,  2.65batch/s]\n"
          ]
        },
        {
          "name": "stdout",
          "output_type": "stream",
          "text": [
            "[G loss: 1.6558926105499268 | identity: 0.018657812848687172 GAN: 0.8509377241134644 cycle: 0.07116658240556717]\n",
            "[D loss: 1.1011600494384766 | D_A: 0.6331185102462769 D_B: 0.4680415987968445]\n",
            "[Epoch 50/300]\n"
          ]
        },
        {
          "name": "stderr",
          "output_type": "stream",
          "text": [
            "Training: 100%|██████████| 267/267 [01:40<00:00,  2.65batch/s]\n"
          ]
        },
        {
          "name": "stdout",
          "output_type": "stream",
          "text": [
            "[G loss: 2.14520263671875 | identity: 0.017776550725102425 GAN: 1.2869126796722412 cycle: 0.07694072276353836]\n",
            "[D loss: 1.1854732036590576 | D_A: 0.5763348340988159 D_B: 0.6091383695602417]\n",
            "[Epoch 51/300]\n"
          ]
        },
        {
          "name": "stderr",
          "output_type": "stream",
          "text": [
            "Training: 100%|██████████| 267/267 [01:40<00:00,  2.65batch/s]\n"
          ]
        },
        {
          "name": "stdout",
          "output_type": "stream",
          "text": [
            "[G loss: 1.8923664093017578 | identity: 0.020372483879327774 GAN: 1.0220481157302856 cycle: 0.07684558629989624]\n",
            "[D loss: 1.0326915979385376 | D_A: 0.5164978504180908 D_B: 0.5161937475204468]\n",
            "[Epoch 52/300]\n"
          ]
        },
        {
          "name": "stderr",
          "output_type": "stream",
          "text": [
            "Training: 100%|██████████| 267/267 [01:40<00:00,  2.66batch/s]\n"
          ]
        },
        {
          "name": "stdout",
          "output_type": "stream",
          "text": [
            "[G loss: 1.8385202884674072 | identity: 0.02328488975763321 GAN: 0.9650310277938843 cycle: 0.07570648193359375]\n",
            "[D loss: 0.9166543483734131 | D_A: 0.6268292665481567 D_B: 0.28982508182525635]\n",
            "[Epoch 53/300]\n"
          ]
        },
        {
          "name": "stderr",
          "output_type": "stream",
          "text": [
            "Training: 100%|██████████| 267/267 [01:40<00:00,  2.65batch/s]\n"
          ]
        },
        {
          "name": "stdout",
          "output_type": "stream",
          "text": [
            "[G loss: 1.9744588136672974 | identity: 0.019776849076151848 GAN: 1.1892902851104736 cycle: 0.06862843036651611]\n",
            "[D loss: 1.0969738960266113 | D_A: 0.6368703246116638 D_B: 0.4601035714149475]\n",
            "[Epoch 54/300]\n"
          ]
        },
        {
          "name": "stderr",
          "output_type": "stream",
          "text": [
            "Training: 100%|██████████| 267/267 [01:40<00:00,  2.65batch/s]\n"
          ]
        },
        {
          "name": "stdout",
          "output_type": "stream",
          "text": [
            "[G loss: 1.7273105382919312 | identity: 0.020752888172864914 GAN: 0.8938886523246765 cycle: 0.07296574115753174]\n",
            "[D loss: 1.1584272384643555 | D_A: 0.5772968530654907 D_B: 0.5811303853988647]\n",
            "[Epoch 55/300]\n"
          ]
        },
        {
          "name": "stderr",
          "output_type": "stream",
          "text": [
            "Training: 100%|██████████| 267/267 [01:40<00:00,  2.65batch/s]\n"
          ]
        },
        {
          "name": "stdout",
          "output_type": "stream",
          "text": [
            "[G loss: 1.8592615127563477 | identity: 0.018062692135572433 GAN: 1.0215635299682617 cycle: 0.07473845779895782]\n",
            "[D loss: 1.1147353649139404 | D_A: 0.6383247375488281 D_B: 0.47641056776046753]\n",
            "[Epoch 56/300]\n"
          ]
        },
        {
          "name": "stderr",
          "output_type": "stream",
          "text": [
            "Training: 100%|██████████| 267/267 [01:40<00:00,  2.65batch/s]\n"
          ]
        },
        {
          "name": "stdout",
          "output_type": "stream",
          "text": [
            "[G loss: 2.2678375244140625 | identity: 0.018081501126289368 GAN: 1.400254249572754 cycle: 0.07771756500005722]\n",
            "[D loss: 1.4382942914962769 | D_A: 0.584028959274292 D_B: 0.8542653322219849]\n",
            "[Epoch 57/300]\n"
          ]
        },
        {
          "name": "stderr",
          "output_type": "stream",
          "text": [
            "Training: 100%|██████████| 267/267 [01:40<00:00,  2.65batch/s]\n"
          ]
        },
        {
          "name": "stdout",
          "output_type": "stream",
          "text": [
            "[G loss: 2.368356704711914 | identity: 0.017936276271939278 GAN: 1.4938033819198608 cycle: 0.07848718762397766]\n",
            "[D loss: 1.2757902145385742 | D_A: 0.5586652159690857 D_B: 0.7171249389648438]\n",
            "[Epoch 58/300]\n"
          ]
        },
        {
          "name": "stderr",
          "output_type": "stream",
          "text": [
            "Training: 100%|██████████| 267/267 [01:40<00:00,  2.66batch/s]\n"
          ]
        },
        {
          "name": "stdout",
          "output_type": "stream",
          "text": [
            "[G loss: 1.8668620586395264 | identity: 0.014887053519487381 GAN: 1.023053765296936 cycle: 0.07693730294704437]\n",
            "[D loss: 1.1266288757324219 | D_A: 0.5479677319526672 D_B: 0.5786611437797546]\n",
            "[Epoch 59/300]\n"
          ]
        },
        {
          "name": "stderr",
          "output_type": "stream",
          "text": [
            "Training: 100%|██████████| 267/267 [01:40<00:00,  2.65batch/s]\n"
          ]
        },
        {
          "name": "stdout",
          "output_type": "stream",
          "text": [
            "[G loss: 2.0183277130126953 | identity: 0.019910775125026703 GAN: 1.0081350803375244 cycle: 0.09106388688087463]\n",
            "[D loss: 1.092874526977539 | D_A: 0.5221201181411743 D_B: 0.5707544088363647]\n",
            "[Epoch 60/300]\n"
          ]
        },
        {
          "name": "stderr",
          "output_type": "stream",
          "text": [
            "Training: 100%|██████████| 267/267 [01:40<00:00,  2.66batch/s]\n"
          ]
        },
        {
          "name": "stdout",
          "output_type": "stream",
          "text": [
            "[G loss: 2.0168557167053223 | identity: 0.01706177555024624 GAN: 1.1979622840881348 cycle: 0.0733584463596344]\n",
            "[D loss: 1.025373101234436 | D_A: 0.544165313243866 D_B: 0.48120778799057007]\n"
          ]
        },
        {
          "name": "stderr",
          "output_type": "stream",
          "text": [
            "Creating feature extractor \"inception-v3-compat\" with features ['2048', 'logits_unbiased']\n",
            "Extracting features from input1\n",
            "Looking for samples non-recursivelty in \"evaluation_dumps/A_B\" with extensions png,jpg,jpeg\n",
            "Found 800 samples, some are lossy-compressed - this may affect metrics\n",
            "Processing samples                                                         \n",
            "Extracting features from input2\n",
            "Processing samples                                                         \n",
            "Inception Score: 2.7575352967755244 ± 0.11989431997913257\n",
            "Frechet Inception Distance: 86.12078849433499\n"
          ]
        },
        {
          "name": "stdout",
          "output_type": "stream",
          "text": [
            "Geometric Mean Score: 5.588476880942062\n",
            "Geometric Mean Score: 4.0000894735751436\n",
            "A->B | GMS=5.588477 FID=86.120788 IS=2.757535\n",
            "B->A | GMS=4.000089 FID=55.343335 IS=3.458804\n",
            "Average GMS: 4.7942831772586025, Best: 5.040736284267293\n",
            "(ง 🔥 ﾛ 🔥 )ง CooKING! 🚀\n",
            "Best A->B model saved. Epoch: 60\n",
            "Best B->A model saved. Epoch: 60\n",
            "[Epoch 61/300]\n"
          ]
        },
        {
          "name": "stderr",
          "output_type": "stream",
          "text": [
            "Training: 100%|██████████| 267/267 [01:40<00:00,  2.65batch/s]\n"
          ]
        },
        {
          "name": "stdout",
          "output_type": "stream",
          "text": [
            "[G loss: 1.6655805110931396 | identity: 0.019690915942192078 GAN: 0.7885873317718506 cycle: 0.07785385847091675]\n",
            "[D loss: 1.2099348306655884 | D_A: 0.48400241136550903 D_B: 0.7259324193000793]\n",
            "[Epoch 62/300]\n"
          ]
        },
        {
          "name": "stderr",
          "output_type": "stream",
          "text": [
            "Training: 100%|██████████| 267/267 [01:40<00:00,  2.65batch/s]\n"
          ]
        },
        {
          "name": "stdout",
          "output_type": "stream",
          "text": [
            "[G loss: 1.8705308437347412 | identity: 0.01709183305501938 GAN: 0.9999379515647888 cycle: 0.07851336896419525]\n",
            "[D loss: 1.174668788909912 | D_A: 0.6274963021278381 D_B: 0.5471724271774292]\n",
            "[Epoch 63/300]\n"
          ]
        },
        {
          "name": "stderr",
          "output_type": "stream",
          "text": [
            "Training: 100%|██████████| 267/267 [01:40<00:00,  2.65batch/s]\n"
          ]
        },
        {
          "name": "stdout",
          "output_type": "stream",
          "text": [
            "[G loss: 2.2776217460632324 | identity: 0.017774228006601334 GAN: 1.3855807781219482 cycle: 0.08031697571277618]\n",
            "[D loss: 1.0875186920166016 | D_A: 0.5612267255783081 D_B: 0.5262920260429382]\n",
            "[Epoch 64/300]\n"
          ]
        },
        {
          "name": "stderr",
          "output_type": "stream",
          "text": [
            "Training: 100%|██████████| 267/267 [01:40<00:00,  2.65batch/s]\n"
          ]
        },
        {
          "name": "stdout",
          "output_type": "stream",
          "text": [
            "[G loss: 1.7008090019226074 | identity: 0.016809871420264244 GAN: 0.8612110614776611 cycle: 0.07555486261844635]\n",
            "[D loss: 1.2219552993774414 | D_A: 0.5837117433547974 D_B: 0.638243556022644]\n",
            "[Epoch 65/300]\n"
          ]
        },
        {
          "name": "stderr",
          "output_type": "stream",
          "text": [
            "Training: 100%|██████████| 267/267 [01:40<00:00,  2.65batch/s]\n"
          ]
        },
        {
          "name": "stdout",
          "output_type": "stream",
          "text": [
            "[G loss: 1.819262981414795 | identity: 0.015837877988815308 GAN: 1.0862618684768677 cycle: 0.06538116931915283]\n",
            "[D loss: 1.1741571426391602 | D_A: 0.574364423751831 D_B: 0.5997927188873291]\n",
            "[Epoch 66/300]\n"
          ]
        },
        {
          "name": "stderr",
          "output_type": "stream",
          "text": [
            "Training: 100%|██████████| 267/267 [01:40<00:00,  2.65batch/s]\n"
          ]
        },
        {
          "name": "stdout",
          "output_type": "stream",
          "text": [
            "[G loss: 2.0909690856933594 | identity: 0.019897423684597015 GAN: 1.045377254486084 cycle: 0.09461046755313873]\n",
            "[D loss: 1.0672595500946045 | D_A: 0.5778231620788574 D_B: 0.48943641781806946]\n",
            "[Epoch 67/300]\n"
          ]
        },
        {
          "name": "stderr",
          "output_type": "stream",
          "text": [
            "Training: 100%|██████████| 267/267 [01:40<00:00,  2.65batch/s]\n"
          ]
        },
        {
          "name": "stdout",
          "output_type": "stream",
          "text": [
            "[G loss: 1.818048357963562 | identity: 0.016944482922554016 GAN: 0.9745078086853027 cycle: 0.07588181644678116]\n",
            "[D loss: 1.0706028938293457 | D_A: 0.5757805705070496 D_B: 0.49482226371765137]\n",
            "[Epoch 68/300]\n"
          ]
        },
        {
          "name": "stderr",
          "output_type": "stream",
          "text": [
            "Training: 100%|██████████| 267/267 [01:40<00:00,  2.65batch/s]\n"
          ]
        },
        {
          "name": "stdout",
          "output_type": "stream",
          "text": [
            "[G loss: 1.7341777086257935 | identity: 0.017806118354201317 GAN: 0.9995348453521729 cycle: 0.06456122547388077]\n",
            "[D loss: 1.0242438316345215 | D_A: 0.5202650427818298 D_B: 0.5039788484573364]\n",
            "[Epoch 69/300]\n"
          ]
        },
        {
          "name": "stderr",
          "output_type": "stream",
          "text": [
            "Training: 100%|██████████| 267/267 [01:40<00:00,  2.65batch/s]\n"
          ]
        },
        {
          "name": "stdout",
          "output_type": "stream",
          "text": [
            "[G loss: 2.2759592533111572 | identity: 0.019479259848594666 GAN: 1.2509920597076416 cycle: 0.09275709092617035]\n",
            "[D loss: 1.0788371562957764 | D_A: 0.5507235527038574 D_B: 0.5281135439872742]\n",
            "[Epoch 70/300]\n"
          ]
        },
        {
          "name": "stderr",
          "output_type": "stream",
          "text": [
            "Training: 100%|██████████| 267/267 [01:40<00:00,  2.65batch/s]\n"
          ]
        },
        {
          "name": "stdout",
          "output_type": "stream",
          "text": [
            "[G loss: 1.941074013710022 | identity: 0.017256272956728935 GAN: 1.0978471040725708 cycle: 0.07569454610347748]\n",
            "[D loss: 1.118083119392395 | D_A: 0.5464812517166138 D_B: 0.5716018676757812]\n",
            "[Epoch 71/300]\n"
          ]
        },
        {
          "name": "stderr",
          "output_type": "stream",
          "text": [
            "Training: 100%|██████████| 267/267 [01:40<00:00,  2.65batch/s]\n"
          ]
        },
        {
          "name": "stdout",
          "output_type": "stream",
          "text": [
            "[G loss: 1.9417860507965088 | identity: 0.01801682822406292 GAN: 1.0952980518341064 cycle: 0.07564038038253784]\n",
            "[D loss: 1.1183125972747803 | D_A: 0.5879188179969788 D_B: 0.5303937792778015]\n",
            "[Epoch 72/300]\n"
          ]
        },
        {
          "name": "stderr",
          "output_type": "stream",
          "text": [
            "Training: 100%|██████████| 267/267 [01:40<00:00,  2.65batch/s]\n"
          ]
        },
        {
          "name": "stdout",
          "output_type": "stream",
          "text": [
            "[G loss: 2.1624832153320312 | identity: 0.017388993874192238 GAN: 1.3413152694702148 cycle: 0.07342229783535004]\n",
            "[D loss: 1.0053369998931885 | D_A: 0.43254679441452026 D_B: 0.5727901458740234]\n",
            "[Epoch 73/300]\n"
          ]
        },
        {
          "name": "stderr",
          "output_type": "stream",
          "text": [
            "Training: 100%|██████████| 267/267 [01:40<00:00,  2.65batch/s]\n"
          ]
        },
        {
          "name": "stdout",
          "output_type": "stream",
          "text": [
            "[G loss: 2.164564609527588 | identity: 0.01673545315861702 GAN: 1.2875089645385742 cycle: 0.07933785021305084]\n",
            "[D loss: 1.0157665014266968 | D_A: 0.6022956371307373 D_B: 0.4134708642959595]\n",
            "[Epoch 74/300]\n"
          ]
        },
        {
          "name": "stderr",
          "output_type": "stream",
          "text": [
            "Training: 100%|██████████| 267/267 [01:40<00:00,  2.65batch/s]\n"
          ]
        },
        {
          "name": "stdout",
          "output_type": "stream",
          "text": [
            "[G loss: 2.040025234222412 | identity: 0.017989635467529297 GAN: 1.2186386585235596 cycle: 0.07314382493495941]\n",
            "[D loss: 1.1947262287139893 | D_A: 0.622488796710968 D_B: 0.5722373723983765]\n",
            "[Epoch 75/300]\n"
          ]
        },
        {
          "name": "stderr",
          "output_type": "stream",
          "text": [
            "Training: 100%|██████████| 267/267 [01:40<00:00,  2.66batch/s]\n"
          ]
        },
        {
          "name": "stdout",
          "output_type": "stream",
          "text": [
            "[G loss: 1.6778967380523682 | identity: 0.015450706705451012 GAN: 0.9111445546150208 cycle: 0.0689498633146286]\n",
            "[D loss: 1.275025725364685 | D_A: 0.5327863693237305 D_B: 0.7422393560409546]\n"
          ]
        },
        {
          "name": "stderr",
          "output_type": "stream",
          "text": [
            "Creating feature extractor \"inception-v3-compat\" with features ['2048', 'logits_unbiased']\n",
            "Extracting features from input1\n",
            "Looking for samples non-recursivelty in \"evaluation_dumps/A_B\" with extensions png,jpg,jpeg\n",
            "Found 800 samples, some are lossy-compressed - this may affect metrics\n",
            "Processing samples                                                         \n",
            "Extracting features from input2\n",
            "Processing samples                                                         \n",
            "Inception Score: 2.587038593222766 ± 0.11298790299852159\n",
            "Frechet Inception Distance: 78.01322445508487\n"
          ]
        },
        {
          "name": "stdout",
          "output_type": "stream",
          "text": [
            "Geometric Mean Score: 5.491394703944813\n",
            "Geometric Mean Score: 4.072783341901873\n",
            "A->B | GMS=5.491395 FID=78.013224 IS=2.587039\n",
            "B->A | GMS=4.072783 FID=54.932974 IS=3.311696\n",
            "Average GMS: 4.782089022923343, Best: 4.7942831772586025\n",
            "(ง 🔥 ﾛ 🔥 )ง CooKING! 🚀\n",
            "Best A->B model saved. Epoch: 75\n",
            "[Epoch 76/300]\n"
          ]
        },
        {
          "name": "stderr",
          "output_type": "stream",
          "text": [
            "Training: 100%|██████████| 267/267 [01:40<00:00,  2.65batch/s]\n"
          ]
        },
        {
          "name": "stdout",
          "output_type": "stream",
          "text": [
            "[G loss: 1.9985606670379639 | identity: 0.01641147956252098 GAN: 1.2229504585266113 cycle: 0.06935527920722961]\n",
            "[D loss: 0.958906888961792 | D_A: 0.5170608758926392 D_B: 0.44184601306915283]\n",
            "[Epoch 77/300]\n"
          ]
        },
        {
          "name": "stderr",
          "output_type": "stream",
          "text": [
            "Training: 100%|██████████| 267/267 [01:40<00:00,  2.66batch/s]\n"
          ]
        },
        {
          "name": "stdout",
          "output_type": "stream",
          "text": [
            "[G loss: 1.928145408630371 | identity: 0.01689021848142147 GAN: 0.9842039346694946 cycle: 0.08594904094934464]\n",
            "[D loss: 1.051361322402954 | D_A: 0.528596818447113 D_B: 0.5227645635604858]\n",
            "[Epoch 78/300]\n"
          ]
        },
        {
          "name": "stderr",
          "output_type": "stream",
          "text": [
            "Training: 100%|██████████| 267/267 [01:40<00:00,  2.65batch/s]\n"
          ]
        },
        {
          "name": "stdout",
          "output_type": "stream",
          "text": [
            "[G loss: 1.7219319343566895 | identity: 0.016343386843800545 GAN: 0.9849095940589905 cycle: 0.06553053855895996]\n",
            "[D loss: 1.1535162925720215 | D_A: 0.528861939907074 D_B: 0.6246542930603027]\n",
            "[Epoch 79/300]\n"
          ]
        },
        {
          "name": "stderr",
          "output_type": "stream",
          "text": [
            "Training: 100%|██████████| 267/267 [01:40<00:00,  2.66batch/s]\n"
          ]
        },
        {
          "name": "stdout",
          "output_type": "stream",
          "text": [
            "[G loss: 1.8956080675125122 | identity: 0.01474329549819231 GAN: 1.0720078945159912 cycle: 0.07498836517333984]\n",
            "[D loss: 0.9735321998596191 | D_A: 0.5297831296920776 D_B: 0.4437490403652191]\n",
            "[Epoch 80/300]\n"
          ]
        },
        {
          "name": "stderr",
          "output_type": "stream",
          "text": [
            "Training: 100%|██████████| 267/267 [01:40<00:00,  2.65batch/s]\n"
          ]
        },
        {
          "name": "stdout",
          "output_type": "stream",
          "text": [
            "[G loss: 1.9565162658691406 | identity: 0.014366501942276955 GAN: 1.250110149383545 cycle: 0.06345736235380173]\n",
            "[D loss: 1.1007342338562012 | D_A: 0.5929609537124634 D_B: 0.507773220539093]\n",
            "[Epoch 81/300]\n"
          ]
        },
        {
          "name": "stderr",
          "output_type": "stream",
          "text": [
            "Training: 100%|██████████| 267/267 [01:40<00:00,  2.65batch/s]\n"
          ]
        },
        {
          "name": "stdout",
          "output_type": "stream",
          "text": [
            "[G loss: 1.8233569860458374 | identity: 0.01834598183631897 GAN: 0.9219933152198792 cycle: 0.0809633731842041]\n",
            "[D loss: 1.1221437454223633 | D_A: 0.5264317989349365 D_B: 0.5957119464874268]\n",
            "[Epoch 82/300]\n"
          ]
        },
        {
          "name": "stderr",
          "output_type": "stream",
          "text": [
            "Training: 100%|██████████| 267/267 [01:40<00:00,  2.65batch/s]\n"
          ]
        },
        {
          "name": "stdout",
          "output_type": "stream",
          "text": [
            "[G loss: 1.8160290718078613 | identity: 0.014884434640407562 GAN: 1.009735345840454 cycle: 0.07318715751171112]\n",
            "[D loss: 1.0058441162109375 | D_A: 0.5588762164115906 D_B: 0.4469679594039917]\n",
            "[Epoch 83/300]\n"
          ]
        },
        {
          "name": "stderr",
          "output_type": "stream",
          "text": [
            "Training: 100%|██████████| 267/267 [01:40<00:00,  2.65batch/s]\n"
          ]
        },
        {
          "name": "stdout",
          "output_type": "stream",
          "text": [
            "[G loss: 2.194347620010376 | identity: 0.01637856289744377 GAN: 1.412971019744873 cycle: 0.06994837522506714]\n",
            "[D loss: 0.9617082476615906 | D_A: 0.5354502201080322 D_B: 0.42625802755355835]\n",
            "[Epoch 84/300]\n"
          ]
        },
        {
          "name": "stderr",
          "output_type": "stream",
          "text": [
            "Training: 100%|██████████| 267/267 [01:40<00:00,  2.65batch/s]\n"
          ]
        },
        {
          "name": "stdout",
          "output_type": "stream",
          "text": [
            "[G loss: 2.0487327575683594 | identity: 0.016443368047475815 GAN: 1.2515077590942383 cycle: 0.07150080800056458]\n",
            "[D loss: 1.1524819135665894 | D_A: 0.6089069843292236 D_B: 0.5435749292373657]\n",
            "[Epoch 85/300]\n"
          ]
        },
        {
          "name": "stderr",
          "output_type": "stream",
          "text": [
            "Training: 100%|██████████| 267/267 [01:40<00:00,  2.65batch/s]\n"
          ]
        },
        {
          "name": "stdout",
          "output_type": "stream",
          "text": [
            "[G loss: 1.7356908321380615 | identity: 0.016302399337291718 GAN: 1.0544886589050293 cycle: 0.05996902659535408]\n",
            "[D loss: 0.9939628839492798 | D_A: 0.4825633764266968 D_B: 0.511399507522583]\n",
            "[Epoch 86/300]\n"
          ]
        },
        {
          "name": "stderr",
          "output_type": "stream",
          "text": [
            "Training: 100%|██████████| 267/267 [01:40<00:00,  2.66batch/s]\n"
          ]
        },
        {
          "name": "stdout",
          "output_type": "stream",
          "text": [
            "[G loss: 1.9645249843597412 | identity: 0.014641823247075081 GAN: 1.1890537738800049 cycle: 0.07022619992494583]\n",
            "[D loss: 1.1039422750473022 | D_A: 0.5371392369270325 D_B: 0.5668030381202698]\n",
            "[Epoch 87/300]\n"
          ]
        },
        {
          "name": "stderr",
          "output_type": "stream",
          "text": [
            "Training: 100%|██████████| 267/267 [01:40<00:00,  2.65batch/s]\n"
          ]
        },
        {
          "name": "stdout",
          "output_type": "stream",
          "text": [
            "[G loss: 2.0695104598999023 | identity: 0.015370934270322323 GAN: 1.279543399810791 cycle: 0.07131122052669525]\n",
            "[D loss: 0.9903339147567749 | D_A: 0.5440489053726196 D_B: 0.4462850093841553]\n",
            "[Epoch 88/300]\n"
          ]
        },
        {
          "name": "stderr",
          "output_type": "stream",
          "text": [
            "Training: 100%|██████████| 267/267 [01:40<00:00,  2.65batch/s]\n"
          ]
        },
        {
          "name": "stdout",
          "output_type": "stream",
          "text": [
            "[G loss: 1.9911296367645264 | identity: 0.015443377196788788 GAN: 1.2078123092651367 cycle: 0.07061004638671875]\n",
            "[D loss: 1.100030779838562 | D_A: 0.5022964477539062 D_B: 0.5977343320846558]\n",
            "[Epoch 89/300]\n"
          ]
        },
        {
          "name": "stderr",
          "output_type": "stream",
          "text": [
            "Training: 100%|██████████| 267/267 [01:40<00:00,  2.65batch/s]\n"
          ]
        },
        {
          "name": "stdout",
          "output_type": "stream",
          "text": [
            "[G loss: 1.9165730476379395 | identity: 0.016297634690999985 GAN: 1.11575186252594 cycle: 0.0719333067536354]\n",
            "[D loss: 1.1183512210845947 | D_A: 0.48913633823394775 D_B: 0.629214882850647]\n",
            "[Epoch 90/300]\n"
          ]
        },
        {
          "name": "stderr",
          "output_type": "stream",
          "text": [
            "Training: 100%|██████████| 267/267 [01:40<00:00,  2.65batch/s]\n"
          ]
        },
        {
          "name": "stdout",
          "output_type": "stream",
          "text": [
            "[G loss: 1.9696866273880005 | identity: 0.014995921403169632 GAN: 1.2752299308776855 cycle: 0.06644648313522339]\n",
            "[D loss: 1.1381112337112427 | D_A: 0.5497925281524658 D_B: 0.5883187055587769]\n"
          ]
        },
        {
          "name": "stderr",
          "output_type": "stream",
          "text": [
            "Creating feature extractor \"inception-v3-compat\" with features ['2048', 'logits_unbiased']\n",
            "Extracting features from input1\n",
            "Looking for samples non-recursivelty in \"evaluation_dumps/A_B\" with extensions png,jpg,jpeg\n",
            "Found 800 samples, some are lossy-compressed - this may affect metrics\n",
            "Processing samples                                                         \n",
            "Extracting features from input2\n",
            "Processing samples                                                         \n",
            "Inception Score: 2.7172311551523274 ± 0.14484065001356033\n",
            "Frechet Inception Distance: 86.89049387377028\n"
          ]
        },
        {
          "name": "stdout",
          "output_type": "stream",
          "text": [
            "Geometric Mean Score: 5.654872796228651\n",
            "Geometric Mean Score: 3.9968411812128912\n",
            "A->B | GMS=5.654873 FID=86.890494 IS=2.717231\n",
            "B->A | GMS=3.996841 FID=54.384874 IS=3.404429\n",
            "Average GMS: 4.825856988720771, Best: 4.782089022923343\n",
            "Best B->A model saved. Epoch: 90\n",
            "[Epoch 91/300]\n"
          ]
        },
        {
          "name": "stderr",
          "output_type": "stream",
          "text": [
            "Training: 100%|██████████| 267/267 [01:41<00:00,  2.64batch/s]\n"
          ]
        },
        {
          "name": "stdout",
          "output_type": "stream",
          "text": [
            "[G loss: 1.9758543968200684 | identity: 0.015115508809685707 GAN: 1.2764872312545776 cycle: 0.06691361963748932]\n",
            "[D loss: 1.012361764907837 | D_A: 0.5219113826751709 D_B: 0.49045032262802124]\n",
            "[Epoch 92/300]\n"
          ]
        },
        {
          "name": "stderr",
          "output_type": "stream",
          "text": [
            "Training: 100%|██████████| 267/267 [01:40<00:00,  2.65batch/s]\n"
          ]
        },
        {
          "name": "stdout",
          "output_type": "stream",
          "text": [
            "[G loss: 1.7747952938079834 | identity: 0.015517019666731358 GAN: 1.085605502128601 cycle: 0.06581557542085648]\n",
            "[D loss: 1.1798808574676514 | D_A: 0.5188661217689514 D_B: 0.6610147356987]\n",
            "[Epoch 93/300]\n"
          ]
        },
        {
          "name": "stderr",
          "output_type": "stream",
          "text": [
            "Training: 100%|██████████| 267/267 [01:40<00:00,  2.65batch/s]\n"
          ]
        },
        {
          "name": "stdout",
          "output_type": "stream",
          "text": [
            "[G loss: 2.0555686950683594 | identity: 0.015551706776022911 GAN: 1.1946542263031006 cycle: 0.08298110961914062]\n",
            "[D loss: 1.0279879570007324 | D_A: 0.5621042251586914 D_B: 0.4658837914466858]\n",
            "[Epoch 94/300]\n"
          ]
        },
        {
          "name": "stderr",
          "output_type": "stream",
          "text": [
            "Training: 100%|██████████| 267/267 [01:40<00:00,  2.65batch/s]\n"
          ]
        },
        {
          "name": "stdout",
          "output_type": "stream",
          "text": [
            "[G loss: 2.0624990463256836 | identity: 0.014042092487215996 GAN: 1.423891544342041 cycle: 0.0610523484647274]\n",
            "[D loss: 1.0722594261169434 | D_A: 0.5592272281646729 D_B: 0.5130321979522705]\n",
            "[Epoch 95/300]\n"
          ]
        },
        {
          "name": "stderr",
          "output_type": "stream",
          "text": [
            "Training: 100%|██████████| 267/267 [01:40<00:00,  2.65batch/s]\n"
          ]
        },
        {
          "name": "stdout",
          "output_type": "stream",
          "text": [
            "[G loss: 1.7421936988830566 | identity: 0.016924768686294556 GAN: 0.9326956272125244 cycle: 0.07756485790014267]\n",
            "[D loss: 0.9813375473022461 | D_A: 0.5345715880393982 D_B: 0.4467659890651703]\n",
            "[Epoch 96/300]\n"
          ]
        },
        {
          "name": "stderr",
          "output_type": "stream",
          "text": [
            "Training: 100%|██████████| 267/267 [01:40<00:00,  2.65batch/s]\n"
          ]
        },
        {
          "name": "stdout",
          "output_type": "stream",
          "text": [
            "[G loss: 2.0378081798553467 | identity: 0.02079736813902855 GAN: 1.331831932067871 cycle: 0.06643815338611603]\n",
            "[D loss: 1.0872223377227783 | D_A: 0.5613234043121338 D_B: 0.5258988738059998]\n",
            "[Epoch 97/300]\n"
          ]
        },
        {
          "name": "stderr",
          "output_type": "stream",
          "text": [
            "Training: 100%|██████████| 267/267 [01:40<00:00,  2.65batch/s]\n"
          ]
        },
        {
          "name": "stdout",
          "output_type": "stream",
          "text": [
            "[G loss: 2.1063966751098633 | identity: 0.019120359793305397 GAN: 1.386357307434082 cycle: 0.06817987561225891]\n",
            "[D loss: 1.1164543628692627 | D_A: 0.5636346340179443 D_B: 0.5528197288513184]\n",
            "[Epoch 98/300]\n"
          ]
        },
        {
          "name": "stderr",
          "output_type": "stream",
          "text": [
            "Training: 100%|██████████| 267/267 [01:40<00:00,  2.66batch/s]\n"
          ]
        },
        {
          "name": "stdout",
          "output_type": "stream",
          "text": [
            "[G loss: 2.0222105979919434 | identity: 0.016593385487794876 GAN: 1.2985211610794067 cycle: 0.06905026733875275]\n",
            "[D loss: 1.1144821643829346 | D_A: 0.4838581681251526 D_B: 0.6306239366531372]\n",
            "[Epoch 99/300]\n"
          ]
        },
        {
          "name": "stderr",
          "output_type": "stream",
          "text": [
            "Training: 100%|██████████| 267/267 [01:40<00:00,  2.65batch/s]\n"
          ]
        },
        {
          "name": "stdout",
          "output_type": "stream",
          "text": [
            "[G loss: 2.227294683456421 | identity: 0.01831379532814026 GAN: 1.491001009941101 cycle: 0.06996659934520721]\n",
            "[D loss: 1.0366535186767578 | D_A: 0.5121575593948364 D_B: 0.5244959592819214]\n",
            "[Epoch 100/300]\n"
          ]
        },
        {
          "name": "stderr",
          "output_type": "stream",
          "text": [
            "Training: 100%|██████████| 267/267 [01:40<00:00,  2.65batch/s]\n"
          ]
        },
        {
          "name": "stdout",
          "output_type": "stream",
          "text": [
            "[G loss: 1.9513026475906372 | identity: 0.019033242017030716 GAN: 1.2207235097885132 cycle: 0.06925126165151596]\n",
            "[D loss: 1.0086220502853394 | D_A: 0.5112743973731995 D_B: 0.4973476827144623]\n",
            "[Epoch 101/300]\n"
          ]
        },
        {
          "name": "stderr",
          "output_type": "stream",
          "text": [
            "Training: 100%|██████████| 267/267 [01:40<00:00,  2.65batch/s]\n"
          ]
        },
        {
          "name": "stdout",
          "output_type": "stream",
          "text": [
            "[G loss: 2.1335792541503906 | identity: 0.016135551035404205 GAN: 1.461956262588501 cycle: 0.06393519043922424]\n",
            "[D loss: 1.0196248292922974 | D_A: 0.5293965339660645 D_B: 0.4902283251285553]\n",
            "[Epoch 102/300]\n"
          ]
        },
        {
          "name": "stderr",
          "output_type": "stream",
          "text": [
            "Training: 100%|██████████| 267/267 [01:40<00:00,  2.65batch/s]\n"
          ]
        },
        {
          "name": "stdout",
          "output_type": "stream",
          "text": [
            "[G loss: 2.2441062927246094 | identity: 0.01760389655828476 GAN: 1.529310941696167 cycle: 0.0679587721824646]\n",
            "[D loss: 0.9782938361167908 | D_A: 0.44555580615997314 D_B: 0.5327380299568176]\n",
            "[Epoch 103/300]\n"
          ]
        },
        {
          "name": "stderr",
          "output_type": "stream",
          "text": [
            "Training: 100%|██████████| 267/267 [01:40<00:00,  2.65batch/s]\n"
          ]
        },
        {
          "name": "stdout",
          "output_type": "stream",
          "text": [
            "[G loss: 2.0526282787323 | identity: 0.01696508191525936 GAN: 1.3021303415298462 cycle: 0.07165677845478058]\n",
            "[D loss: 0.9300495386123657 | D_A: 0.4909212589263916 D_B: 0.43912824988365173]\n",
            "[Epoch 104/300]\n"
          ]
        },
        {
          "name": "stderr",
          "output_type": "stream",
          "text": [
            "Training: 100%|██████████| 267/267 [01:40<00:00,  2.65batch/s]\n"
          ]
        },
        {
          "name": "stdout",
          "output_type": "stream",
          "text": [
            "[G loss: 1.822925329208374 | identity: 0.017691489309072495 GAN: 1.0860930681228638 cycle: 0.07014492154121399]\n",
            "[D loss: 1.01803457736969 | D_A: 0.4979802668094635 D_B: 0.5200543403625488]\n",
            "[Epoch 105/300]\n"
          ]
        },
        {
          "name": "stderr",
          "output_type": "stream",
          "text": [
            "Training: 100%|██████████| 267/267 [01:40<00:00,  2.65batch/s]\n"
          ]
        },
        {
          "name": "stdout",
          "output_type": "stream",
          "text": [
            "[G loss: 1.7455112934112549 | identity: 0.0207907035946846 GAN: 0.968682587146759 cycle: 0.07352472841739655]\n",
            "[D loss: 1.1643013954162598 | D_A: 0.6881816387176514 D_B: 0.4761196970939636]\n"
          ]
        },
        {
          "name": "stderr",
          "output_type": "stream",
          "text": [
            "Creating feature extractor \"inception-v3-compat\" with features ['2048', 'logits_unbiased']\n",
            "Extracting features from input1\n",
            "Looking for samples non-recursivelty in \"evaluation_dumps/A_B\" with extensions png,jpg,jpeg\n",
            "Found 800 samples, some are lossy-compressed - this may affect metrics\n",
            "Processing samples                                                         \n",
            "Extracting features from input2\n",
            "Processing samples                                                         \n",
            "Inception Score: 2.8042655731877026 ± 0.14616862454083926\n",
            "Frechet Inception Distance: 88.33681015755951\n"
          ]
        },
        {
          "name": "stdout",
          "output_type": "stream",
          "text": [
            "Geometric Mean Score: 5.61256374076622\n",
            "Geometric Mean Score: 4.100854473285371\n",
            "A->B | GMS=5.612564 FID=88.336810 IS=2.804266\n",
            "B->A | GMS=4.100854 FID=57.910213 IS=3.443550\n",
            "Average GMS: 4.856709107025795, Best: 4.782089022923343\n",
            "[Epoch 106/300]\n"
          ]
        },
        {
          "name": "stderr",
          "output_type": "stream",
          "text": [
            "Training: 100%|██████████| 267/267 [01:40<00:00,  2.65batch/s]\n"
          ]
        },
        {
          "name": "stdout",
          "output_type": "stream",
          "text": [
            "[G loss: 2.2167420387268066 | identity: 0.018014829605817795 GAN: 1.4713788032531738 cycle: 0.07093334197998047]\n",
            "[D loss: 1.0609982013702393 | D_A: 0.5308408737182617 D_B: 0.5301572680473328]\n",
            "[Epoch 107/300]\n"
          ]
        },
        {
          "name": "stderr",
          "output_type": "stream",
          "text": [
            "Training: 100%|██████████| 267/267 [01:40<00:00,  2.65batch/s]\n"
          ]
        },
        {
          "name": "stdout",
          "output_type": "stream",
          "text": [
            "[G loss: 2.057865619659424 | identity: 0.016001060605049133 GAN: 1.360268473625183 cycle: 0.06655949354171753]\n",
            "[D loss: 0.93897545337677 | D_A: 0.5405468940734863 D_B: 0.3984285593032837]\n",
            "[Epoch 108/300]\n"
          ]
        },
        {
          "name": "stderr",
          "output_type": "stream",
          "text": [
            "Training: 100%|██████████| 267/267 [01:40<00:00,  2.65batch/s]\n"
          ]
        },
        {
          "name": "stdout",
          "output_type": "stream",
          "text": [
            "[G loss: 1.9934800863265991 | identity: 0.023538723587989807 GAN: 1.2419700622558594 cycle: 0.07044325768947601]\n",
            "[D loss: 1.064502239227295 | D_A: 0.47689417004585266 D_B: 0.5876080393791199]\n",
            "[Epoch 109/300]\n"
          ]
        },
        {
          "name": "stderr",
          "output_type": "stream",
          "text": [
            "Training: 100%|██████████| 267/267 [01:40<00:00,  2.66batch/s]\n"
          ]
        },
        {
          "name": "stdout",
          "output_type": "stream",
          "text": [
            "[G loss: 1.8717509508132935 | identity: 0.0199420265853405 GAN: 1.1494104862213135 cycle: 0.06824563443660736]\n",
            "[D loss: 0.951496958732605 | D_A: 0.4791175425052643 D_B: 0.4723794162273407]\n",
            "[Epoch 110/300]\n"
          ]
        },
        {
          "name": "stderr",
          "output_type": "stream",
          "text": [
            "Training: 100%|██████████| 267/267 [01:40<00:00,  2.65batch/s]\n"
          ]
        },
        {
          "name": "stdout",
          "output_type": "stream",
          "text": [
            "[G loss: 1.6916173696517944 | identity: 0.016635524109005928 GAN: 1.0454380512237549 cycle: 0.06129082664847374]\n",
            "[D loss: 1.064239263534546 | D_A: 0.5515972971916199 D_B: 0.5126420259475708]\n",
            "[Epoch 111/300]\n"
          ]
        },
        {
          "name": "stderr",
          "output_type": "stream",
          "text": [
            "Training: 100%|██████████| 267/267 [01:40<00:00,  2.65batch/s]\n"
          ]
        },
        {
          "name": "stdout",
          "output_type": "stream",
          "text": [
            "[G loss: 2.3309850692749023 | identity: 0.01823122799396515 GAN: 1.6105989217758179 cycle: 0.06839236617088318]\n",
            "[D loss: 1.1602635383605957 | D_A: 0.5171604752540588 D_B: 0.6431030035018921]\n",
            "[Epoch 112/300]\n"
          ]
        },
        {
          "name": "stderr",
          "output_type": "stream",
          "text": [
            "Training: 100%|██████████| 267/267 [01:40<00:00,  2.65batch/s]\n"
          ]
        },
        {
          "name": "stdout",
          "output_type": "stream",
          "text": [
            "[G loss: 2.047886371612549 | identity: 0.016211114823818207 GAN: 1.3622777462005615 cycle: 0.06531864404678345]\n",
            "[D loss: 1.0423089265823364 | D_A: 0.5055481195449829 D_B: 0.5367608070373535]\n",
            "[Epoch 113/300]\n"
          ]
        },
        {
          "name": "stderr",
          "output_type": "stream",
          "text": [
            "Training: 100%|██████████| 267/267 [01:40<00:00,  2.65batch/s]\n"
          ]
        },
        {
          "name": "stdout",
          "output_type": "stream",
          "text": [
            "[G loss: 2.091559410095215 | identity: 0.018148284405469894 GAN: 1.3799034357070923 cycle: 0.06753592193126678]\n",
            "[D loss: 1.0906455516815186 | D_A: 0.6094503402709961 D_B: 0.48119521141052246]\n",
            "[Epoch 114/300]\n"
          ]
        },
        {
          "name": "stderr",
          "output_type": "stream",
          "text": [
            "Training: 100%|██████████| 267/267 [01:40<00:00,  2.65batch/s]\n"
          ]
        },
        {
          "name": "stdout",
          "output_type": "stream",
          "text": [
            "[G loss: 1.8151462078094482 | identity: 0.016666710376739502 GAN: 1.1158170700073242 cycle: 0.06659957021474838]\n",
            "[D loss: 1.0497007369995117 | D_A: 0.48861974477767944 D_B: 0.5610809326171875]\n",
            "[Epoch 115/300]\n"
          ]
        },
        {
          "name": "stderr",
          "output_type": "stream",
          "text": [
            "Training: 100%|██████████| 267/267 [01:40<00:00,  2.65batch/s]\n"
          ]
        },
        {
          "name": "stdout",
          "output_type": "stream",
          "text": [
            "[G loss: 2.3362479209899902 | identity: 0.017171891406178474 GAN: 1.5017993450164795 cycle: 0.08001047372817993]\n",
            "[D loss: 0.8593640923500061 | D_A: 0.46379053592681885 D_B: 0.39557355642318726]\n",
            "[Epoch 116/300]\n"
          ]
        },
        {
          "name": "stderr",
          "output_type": "stream",
          "text": [
            "Training: 100%|██████████| 267/267 [01:40<00:00,  2.65batch/s]\n"
          ]
        },
        {
          "name": "stdout",
          "output_type": "stream",
          "text": [
            "[G loss: 1.9843486547470093 | identity: 0.019147079437971115 GAN: 1.3293006420135498 cycle: 0.061675384640693665]\n",
            "[D loss: 0.9062232375144958 | D_A: 0.4725325107574463 D_B: 0.43369072675704956]\n",
            "[Epoch 117/300]\n"
          ]
        },
        {
          "name": "stderr",
          "output_type": "stream",
          "text": [
            "Training: 100%|██████████| 267/267 [01:40<00:00,  2.65batch/s]\n"
          ]
        },
        {
          "name": "stdout",
          "output_type": "stream",
          "text": [
            "[G loss: 1.7168974876403809 | identity: 0.018218928948044777 GAN: 1.0653297901153564 cycle: 0.06151297688484192]\n",
            "[D loss: 0.9642824530601501 | D_A: 0.4435213804244995 D_B: 0.5207610726356506]\n",
            "[Epoch 118/300]\n"
          ]
        },
        {
          "name": "stderr",
          "output_type": "stream",
          "text": [
            "Training: 100%|██████████| 267/267 [01:40<00:00,  2.65batch/s]\n"
          ]
        },
        {
          "name": "stdout",
          "output_type": "stream",
          "text": [
            "[G loss: 2.056332588195801 | identity: 0.022446714341640472 GAN: 1.2941418886184692 cycle: 0.07172972708940506]\n",
            "[D loss: 0.9572068452835083 | D_A: 0.4821716248989105 D_B: 0.4750351905822754]\n",
            "[Epoch 119/300]\n"
          ]
        },
        {
          "name": "stderr",
          "output_type": "stream",
          "text": [
            "Training: 100%|██████████| 267/267 [01:41<00:00,  2.64batch/s]\n"
          ]
        },
        {
          "name": "stdout",
          "output_type": "stream",
          "text": [
            "[G loss: 2.0434117317199707 | identity: 0.01688721589744091 GAN: 1.4097998142242432 cycle: 0.059983767569065094]\n",
            "[D loss: 0.9807929992675781 | D_A: 0.49132049083709717 D_B: 0.48947253823280334]\n",
            "[Epoch 120/300]\n"
          ]
        },
        {
          "name": "stderr",
          "output_type": "stream",
          "text": [
            "Training: 100%|██████████| 267/267 [01:40<00:00,  2.64batch/s]\n"
          ]
        },
        {
          "name": "stdout",
          "output_type": "stream",
          "text": [
            "[G loss: 1.9315383434295654 | identity: 0.014751113951206207 GAN: 1.320725679397583 cycle: 0.05813104659318924]\n",
            "[D loss: 0.9716603755950928 | D_A: 0.4945443272590637 D_B: 0.47711601853370667]\n"
          ]
        },
        {
          "name": "stderr",
          "output_type": "stream",
          "text": [
            "Creating feature extractor \"inception-v3-compat\" with features ['2048', 'logits_unbiased']\n",
            "Extracting features from input1\n",
            "Looking for samples non-recursivelty in \"evaluation_dumps/A_B\" with extensions png,jpg,jpeg\n",
            "Found 800 samples, some are lossy-compressed - this may affect metrics\n",
            "Processing samples                                                         \n",
            "Extracting features from input2\n",
            "Processing samples                                                         \n",
            "Inception Score: 2.793362101976703 ± 0.17433068870776675\n",
            "Frechet Inception Distance: 82.30794140563751\n"
          ]
        },
        {
          "name": "stdout",
          "output_type": "stream",
          "text": [
            "Geometric Mean Score: 5.428217633667671\n",
            "Geometric Mean Score: 4.1677182407633415\n",
            "A->B | GMS=5.428218 FID=82.307941 IS=2.793362\n",
            "B->A | GMS=4.167718 FID=58.127006 IS=3.346426\n",
            "Average GMS: 4.797967937215507, Best: 4.782089022923343\n",
            "I'm losing my patience! Best GMS: 4.782089022923343\n",
            "Best A->B model saved. Epoch: 120\n",
            "[Epoch 121/300]\n"
          ]
        },
        {
          "name": "stderr",
          "output_type": "stream",
          "text": [
            "Training: 100%|██████████| 267/267 [01:40<00:00,  2.65batch/s]\n"
          ]
        },
        {
          "name": "stdout",
          "output_type": "stream",
          "text": [
            "[G loss: 2.282414436340332 | identity: 0.018956003710627556 GAN: 1.5796040296554565 cycle: 0.06648983061313629]\n",
            "[D loss: 1.066963791847229 | D_A: 0.5207670331001282 D_B: 0.5461967587471008]\n",
            "[Epoch 122/300]\n"
          ]
        },
        {
          "name": "stderr",
          "output_type": "stream",
          "text": [
            "Training: 100%|██████████| 267/267 [01:40<00:00,  2.65batch/s]\n"
          ]
        },
        {
          "name": "stdout",
          "output_type": "stream",
          "text": [
            "[G loss: 2.0611467361450195 | identity: 0.017223818227648735 GAN: 1.4330949783325195 cycle: 0.05936042219400406]\n",
            "[D loss: 0.9516069889068604 | D_A: 0.4567614495754242 D_B: 0.49484556913375854]\n",
            "[Epoch 123/300]\n"
          ]
        },
        {
          "name": "stderr",
          "output_type": "stream",
          "text": [
            "Training: 100%|██████████| 267/267 [01:40<00:00,  2.65batch/s]\n"
          ]
        },
        {
          "name": "stdout",
          "output_type": "stream",
          "text": [
            "[G loss: 1.9755923748016357 | identity: 0.01908857375383377 GAN: 1.2645684480667114 cycle: 0.06728467345237732]\n",
            "[D loss: 0.9332624673843384 | D_A: 0.4729730486869812 D_B: 0.4602894186973572]\n",
            "[Epoch 124/300]\n"
          ]
        },
        {
          "name": "stderr",
          "output_type": "stream",
          "text": [
            "Training: 100%|██████████| 267/267 [01:40<00:00,  2.65batch/s]\n"
          ]
        },
        {
          "name": "stdout",
          "output_type": "stream",
          "text": [
            "[G loss: 1.890783429145813 | identity: 0.020230485126376152 GAN: 1.1738792657852173 cycle: 0.06764432042837143]\n",
            "[D loss: 0.9332990646362305 | D_A: 0.4482516646385193 D_B: 0.4850473999977112]\n",
            "[Epoch 125/300]\n"
          ]
        },
        {
          "name": "stderr",
          "output_type": "stream",
          "text": [
            "Training: 100%|██████████| 267/267 [01:40<00:00,  2.66batch/s]\n"
          ]
        },
        {
          "name": "stdout",
          "output_type": "stream",
          "text": [
            "[G loss: 1.9367295503616333 | identity: 0.02011507749557495 GAN: 1.2002058029174805 cycle: 0.06962935626506805]\n",
            "[D loss: 0.9357802271842957 | D_A: 0.5131393074989319 D_B: 0.42264091968536377]\n",
            "[Epoch 126/300]\n"
          ]
        },
        {
          "name": "stderr",
          "output_type": "stream",
          "text": [
            "Training: 100%|██████████| 267/267 [01:40<00:00,  2.65batch/s]\n"
          ]
        },
        {
          "name": "stdout",
          "output_type": "stream",
          "text": [
            "[G loss: 1.9306443929672241 | identity: 0.017193295061588287 GAN: 1.2533519268035889 cycle: 0.06429058313369751]\n",
            "[D loss: 0.9689816236495972 | D_A: 0.4961579740047455 D_B: 0.4728236496448517]\n",
            "[Epoch 127/300]\n"
          ]
        },
        {
          "name": "stderr",
          "output_type": "stream",
          "text": [
            "Training: 100%|██████████| 267/267 [01:40<00:00,  2.65batch/s]\n"
          ]
        },
        {
          "name": "stdout",
          "output_type": "stream",
          "text": [
            "[G loss: 1.9544572830200195 | identity: 0.015827083960175514 GAN: 1.3472559452056885 cycle: 0.05755472928285599]\n",
            "[D loss: 0.9119917154312134 | D_A: 0.41146546602249146 D_B: 0.5005262494087219]\n",
            "[Epoch 128/300]\n"
          ]
        },
        {
          "name": "stderr",
          "output_type": "stream",
          "text": [
            "Training: 100%|██████████| 267/267 [01:40<00:00,  2.65batch/s]\n"
          ]
        },
        {
          "name": "stdout",
          "output_type": "stream",
          "text": [
            "[G loss: 2.193570375442505 | identity: 0.02107388526201248 GAN: 1.4545819759368896 cycle: 0.06968406587839127]\n",
            "[D loss: 0.843765139579773 | D_A: 0.4123010039329529 D_B: 0.43146416544914246]\n",
            "[Epoch 129/300]\n"
          ]
        },
        {
          "name": "stderr",
          "output_type": "stream",
          "text": [
            "Training: 100%|██████████| 267/267 [01:40<00:00,  2.66batch/s]\n"
          ]
        },
        {
          "name": "stdout",
          "output_type": "stream",
          "text": [
            "[G loss: 2.073779344558716 | identity: 0.020684197545051575 GAN: 1.4478986263275146 cycle: 0.05845123529434204]\n",
            "[D loss: 0.9420750141143799 | D_A: 0.44511961936950684 D_B: 0.49695539474487305]\n",
            "[Epoch 130/300]\n"
          ]
        },
        {
          "name": "stderr",
          "output_type": "stream",
          "text": [
            "Training: 100%|██████████| 267/267 [01:40<00:00,  2.66batch/s]\n"
          ]
        },
        {
          "name": "stdout",
          "output_type": "stream",
          "text": [
            "[G loss: 2.1570990085601807 | identity: 0.015557029284536839 GAN: 1.5152509212493896 cycle: 0.06107339262962341]\n",
            "[D loss: 0.9070618152618408 | D_A: 0.45269981026649475 D_B: 0.4543619751930237]\n",
            "[Epoch 131/300]\n"
          ]
        },
        {
          "name": "stderr",
          "output_type": "stream",
          "text": [
            "Training: 100%|██████████| 267/267 [01:40<00:00,  2.65batch/s]\n"
          ]
        },
        {
          "name": "stdout",
          "output_type": "stream",
          "text": [
            "[G loss: 1.9159736633300781 | identity: 0.016996778547763824 GAN: 1.2630107402801514 cycle: 0.061896923929452896]\n",
            "[D loss: 1.0637187957763672 | D_A: 0.5141870379447937 D_B: 0.5495317578315735]\n",
            "[Epoch 132/300]\n"
          ]
        },
        {
          "name": "stderr",
          "output_type": "stream",
          "text": [
            "Training: 100%|██████████| 267/267 [01:40<00:00,  2.65batch/s]\n"
          ]
        },
        {
          "name": "stdout",
          "output_type": "stream",
          "text": [
            "[G loss: 2.111536979675293 | identity: 0.016853082925081253 GAN: 1.4726330041885376 cycle: 0.06051979213953018]\n",
            "[D loss: 0.9573314785957336 | D_A: 0.45358550548553467 D_B: 0.503745973110199]\n",
            "[Epoch 133/300]\n"
          ]
        },
        {
          "name": "stderr",
          "output_type": "stream",
          "text": [
            "Training: 100%|██████████| 267/267 [01:40<00:00,  2.65batch/s]\n"
          ]
        },
        {
          "name": "stdout",
          "output_type": "stream",
          "text": [
            "[G loss: 2.076885461807251 | identity: 0.018157362937927246 GAN: 1.4273052215576172 cycle: 0.06132655590772629]\n",
            "[D loss: 0.9949734807014465 | D_A: 0.470531165599823 D_B: 0.5244423151016235]\n",
            "[Epoch 134/300]\n"
          ]
        },
        {
          "name": "stderr",
          "output_type": "stream",
          "text": [
            "Training: 100%|██████████| 267/267 [01:40<00:00,  2.65batch/s]\n"
          ]
        },
        {
          "name": "stdout",
          "output_type": "stream",
          "text": [
            "[G loss: 1.9862983226776123 | identity: 0.01980726793408394 GAN: 1.299902081489563 cycle: 0.06467816233634949]\n",
            "[D loss: 0.9334580898284912 | D_A: 0.48263630270957947 D_B: 0.45082175731658936]\n",
            "[Epoch 135/300]\n"
          ]
        },
        {
          "name": "stderr",
          "output_type": "stream",
          "text": [
            "Training: 100%|██████████| 267/267 [01:40<00:00,  2.65batch/s]\n"
          ]
        },
        {
          "name": "stdout",
          "output_type": "stream",
          "text": [
            "[G loss: 2.169022560119629 | identity: 0.017245084047317505 GAN: 1.4448522329330444 cycle: 0.06896801292896271]\n",
            "[D loss: 0.9745199084281921 | D_A: 0.5458046197891235 D_B: 0.4287152886390686]\n"
          ]
        },
        {
          "name": "stderr",
          "output_type": "stream",
          "text": [
            "Creating feature extractor \"inception-v3-compat\" with features ['2048', 'logits_unbiased']\n",
            "Extracting features from input1\n",
            "Looking for samples non-recursivelty in \"evaluation_dumps/A_B\" with extensions png,jpg,jpeg\n",
            "Found 800 samples, some are lossy-compressed - this may affect metrics\n",
            "Processing samples                                                         \n",
            "Extracting features from input2\n",
            "Processing samples                                                         \n",
            "Inception Score: 2.6679041893181354 ± 0.16921547167928416\n",
            "Frechet Inception Distance: 75.45236072306847\n"
          ]
        },
        {
          "name": "stdout",
          "output_type": "stream",
          "text": [
            "Geometric Mean Score: 5.318036352112172\n",
            "Geometric Mean Score: 4.137043387097116\n",
            "A->B | GMS=5.318036 FID=75.452361 IS=2.667904\n",
            "B->A | GMS=4.137043 FID=58.434194 IS=3.414184\n",
            "Average GMS: 4.7275398696046445, Best: 4.782089022923343\n",
            "(ง 🔥 ﾛ 🔥 )ง CooKING! 🚀\n",
            "Best A->B model saved. Epoch: 135\n",
            "[Epoch 136/300]\n"
          ]
        },
        {
          "name": "stderr",
          "output_type": "stream",
          "text": [
            "Training: 100%|██████████| 267/267 [01:40<00:00,  2.65batch/s]\n"
          ]
        },
        {
          "name": "stdout",
          "output_type": "stream",
          "text": [
            "[G loss: 1.6180541515350342 | identity: 0.017436429858207703 GAN: 0.9650893211364746 cycle: 0.061809197068214417]\n",
            "[D loss: 1.098294734954834 | D_A: 0.5820656418800354 D_B: 0.5162290334701538]\n",
            "[Epoch 137/300]\n"
          ]
        },
        {
          "name": "stderr",
          "output_type": "stream",
          "text": [
            "Training: 100%|██████████| 267/267 [01:40<00:00,  2.65batch/s]\n"
          ]
        },
        {
          "name": "stdout",
          "output_type": "stream",
          "text": [
            "[G loss: 2.173614025115967 | identity: 0.02050645463168621 GAN: 1.424651861190796 cycle: 0.07079492509365082]\n",
            "[D loss: 0.9285932183265686 | D_A: 0.4528217911720276 D_B: 0.475771427154541]\n",
            "[Epoch 138/300]\n"
          ]
        },
        {
          "name": "stderr",
          "output_type": "stream",
          "text": [
            "Training: 100%|██████████| 267/267 [01:40<00:00,  2.65batch/s]\n"
          ]
        },
        {
          "name": "stdout",
          "output_type": "stream",
          "text": [
            "[G loss: 2.063748359680176 | identity: 0.018097393214702606 GAN: 1.3545491695404053 cycle: 0.06730042397975922]\n",
            "[D loss: 0.9372950792312622 | D_A: 0.47666335105895996 D_B: 0.46063172817230225]\n",
            "[Epoch 139/300]\n"
          ]
        },
        {
          "name": "stderr",
          "output_type": "stream",
          "text": [
            "Training: 100%|██████████| 267/267 [01:40<00:00,  2.65batch/s]\n"
          ]
        },
        {
          "name": "stdout",
          "output_type": "stream",
          "text": [
            "[G loss: 2.0507447719573975 | identity: 0.019151046872138977 GAN: 1.3226457834243774 cycle: 0.06897969543933868]\n",
            "[D loss: 0.9185144901275635 | D_A: 0.4603859782218933 D_B: 0.4581284821033478]\n",
            "[Epoch 140/300]\n"
          ]
        },
        {
          "name": "stderr",
          "output_type": "stream",
          "text": [
            "Training: 100%|██████████| 267/267 [01:40<00:00,  2.65batch/s]\n"
          ]
        },
        {
          "name": "stdout",
          "output_type": "stream",
          "text": [
            "[G loss: 1.9504592418670654 | identity: 0.01811949349939823 GAN: 1.2620670795440674 cycle: 0.06521531194448471]\n",
            "[D loss: 1.001970887184143 | D_A: 0.4490373134613037 D_B: 0.5529335737228394]\n",
            "[Epoch 141/300]\n"
          ]
        },
        {
          "name": "stderr",
          "output_type": "stream",
          "text": [
            "Training: 100%|██████████| 267/267 [01:40<00:00,  2.65batch/s]\n"
          ]
        },
        {
          "name": "stdout",
          "output_type": "stream",
          "text": [
            "[G loss: 1.9142680168151855 | identity: 0.016135089099407196 GAN: 1.3258812427520752 cycle: 0.055611658841371536]\n",
            "[D loss: 0.9600645303726196 | D_A: 0.46539294719696045 D_B: 0.4946715831756592]\n",
            "[Epoch 142/300]\n"
          ]
        },
        {
          "name": "stderr",
          "output_type": "stream",
          "text": [
            "Training: 100%|██████████| 267/267 [01:40<00:00,  2.65batch/s]\n"
          ]
        },
        {
          "name": "stdout",
          "output_type": "stream",
          "text": [
            "[G loss: 2.2807445526123047 | identity: 0.01979115419089794 GAN: 1.545938491821289 cycle: 0.06952239573001862]\n",
            "[D loss: 1.043868064880371 | D_A: 0.5020760893821716 D_B: 0.5417920351028442]\n",
            "[Epoch 143/300]\n"
          ]
        },
        {
          "name": "stderr",
          "output_type": "stream",
          "text": [
            "Training: 100%|██████████| 267/267 [01:40<00:00,  2.65batch/s]\n"
          ]
        },
        {
          "name": "stdout",
          "output_type": "stream",
          "text": [
            "[G loss: 2.1567749977111816 | identity: 0.017575571313500404 GAN: 1.4607138633728027 cycle: 0.06609100103378296]\n",
            "[D loss: 0.9000758528709412 | D_A: 0.43397969007492065 D_B: 0.4660961627960205]\n",
            "[Epoch 144/300]\n"
          ]
        },
        {
          "name": "stderr",
          "output_type": "stream",
          "text": [
            "Training: 100%|██████████| 267/267 [01:40<00:00,  2.65batch/s]\n"
          ]
        },
        {
          "name": "stdout",
          "output_type": "stream",
          "text": [
            "[G loss: 2.0284583568573 | identity: 0.017593208700418472 GAN: 1.371165156364441 cycle: 0.06221068650484085]\n",
            "[D loss: 1.0460373163223267 | D_A: 0.45872730016708374 D_B: 0.5873100161552429]\n",
            "[Epoch 145/300]\n"
          ]
        },
        {
          "name": "stderr",
          "output_type": "stream",
          "text": [
            "Training: 100%|██████████| 267/267 [01:40<00:00,  2.66batch/s]\n"
          ]
        },
        {
          "name": "stdout",
          "output_type": "stream",
          "text": [
            "[G loss: 1.826440453529358 | identity: 0.021074891090393066 GAN: 1.1920058727264404 cycle: 0.059228479862213135]\n",
            "[D loss: 0.933954119682312 | D_A: 0.46730315685272217 D_B: 0.46665096282958984]\n",
            "[Epoch 146/300]\n"
          ]
        },
        {
          "name": "stderr",
          "output_type": "stream",
          "text": [
            "Training: 100%|██████████| 267/267 [01:40<00:00,  2.65batch/s]\n"
          ]
        },
        {
          "name": "stdout",
          "output_type": "stream",
          "text": [
            "[G loss: 2.197270393371582 | identity: 0.018829945474863052 GAN: 1.484048843383789 cycle: 0.06755617260932922]\n",
            "[D loss: 0.9272486567497253 | D_A: 0.5036241412162781 D_B: 0.42362451553344727]\n",
            "[Epoch 147/300]\n"
          ]
        },
        {
          "name": "stderr",
          "output_type": "stream",
          "text": [
            "Training: 100%|██████████| 267/267 [01:40<00:00,  2.65batch/s]\n"
          ]
        },
        {
          "name": "stdout",
          "output_type": "stream",
          "text": [
            "[G loss: 1.9717706441879272 | identity: 0.0158962644636631 GAN: 1.4001935720443726 cycle: 0.05397845804691315]\n",
            "[D loss: 0.9915249347686768 | D_A: 0.5216050744056702 D_B: 0.4699198603630066]\n",
            "[Epoch 148/300]\n"
          ]
        },
        {
          "name": "stderr",
          "output_type": "stream",
          "text": [
            "Training: 100%|██████████| 267/267 [01:40<00:00,  2.65batch/s]\n"
          ]
        },
        {
          "name": "stdout",
          "output_type": "stream",
          "text": [
            "[G loss: 1.8344764709472656 | identity: 0.019357901066541672 GAN: 1.1812753677368164 cycle: 0.06144852936267853]\n",
            "[D loss: 1.1517829895019531 | D_A: 0.719832181930542 D_B: 0.43195077776908875]\n",
            "[Epoch 149/300]\n"
          ]
        },
        {
          "name": "stderr",
          "output_type": "stream",
          "text": [
            "Training: 100%|██████████| 267/267 [01:40<00:00,  2.65batch/s]\n"
          ]
        },
        {
          "name": "stdout",
          "output_type": "stream",
          "text": [
            "[G loss: 1.9912909269332886 | identity: 0.019549846649169922 GAN: 1.283904790878296 cycle: 0.0668286457657814]\n",
            "[D loss: 1.0590291023254395 | D_A: 0.4860459566116333 D_B: 0.5729830861091614]\n",
            "[Epoch 150/300]\n"
          ]
        },
        {
          "name": "stderr",
          "output_type": "stream",
          "text": [
            "Training: 100%|██████████| 267/267 [01:40<00:00,  2.65batch/s]\n"
          ]
        },
        {
          "name": "stdout",
          "output_type": "stream",
          "text": [
            "[G loss: 1.9759223461151123 | identity: 0.018342275172472 GAN: 1.339616298675537 cycle: 0.05996215343475342]\n",
            "[D loss: 0.9305859208106995 | D_A: 0.445241779088974 D_B: 0.48534414172172546]\n"
          ]
        },
        {
          "name": "stderr",
          "output_type": "stream",
          "text": [
            "Creating feature extractor \"inception-v3-compat\" with features ['2048', 'logits_unbiased']\n",
            "Extracting features from input1\n",
            "Looking for samples non-recursivelty in \"evaluation_dumps/A_B\" with extensions png,jpg,jpeg\n",
            "Found 800 samples, some are lossy-compressed - this may affect metrics\n",
            "Processing samples                                                         \n",
            "Extracting features from input2\n",
            "Processing samples                                                         \n",
            "Inception Score: 2.8260699313376465 ± 0.12580428496919793\n",
            "Frechet Inception Distance: 84.1736063498434\n"
          ]
        },
        {
          "name": "stdout",
          "output_type": "stream",
          "text": [
            "Geometric Mean Score: 5.457534818397047\n",
            "Geometric Mean Score: 4.218672769375261\n",
            "A->B | GMS=5.457535 FID=84.173606 IS=2.826070\n",
            "B->A | GMS=4.218673 FID=58.772161 IS=3.302326\n",
            "Average GMS: 4.8381037938861535, Best: 4.7275398696046445\n",
            "[Epoch 151/300]\n"
          ]
        },
        {
          "name": "stderr",
          "output_type": "stream",
          "text": [
            "Training: 100%|██████████| 267/267 [01:41<00:00,  2.64batch/s]\n"
          ]
        },
        {
          "name": "stdout",
          "output_type": "stream",
          "text": [
            "[G loss: 2.1568644046783447 | identity: 0.016762282699346542 GAN: 1.5162668228149414 cycle: 0.060707300901412964]\n",
            "[D loss: 0.9258291721343994 | D_A: 0.42116615176200867 D_B: 0.5046630501747131]\n",
            "[Epoch 152/300]\n"
          ]
        },
        {
          "name": "stderr",
          "output_type": "stream",
          "text": [
            "Training: 100%|██████████| 267/267 [01:40<00:00,  2.65batch/s]\n"
          ]
        },
        {
          "name": "stdout",
          "output_type": "stream",
          "text": [
            "[G loss: 1.8595399856567383 | identity: 0.01880953274667263 GAN: 1.2415719032287598 cycle: 0.05803489312529564]\n",
            "[D loss: 0.9888611435890198 | D_A: 0.4720248579978943 D_B: 0.5168362855911255]\n",
            "[Epoch 153/300]\n"
          ]
        },
        {
          "name": "stderr",
          "output_type": "stream",
          "text": [
            "Training: 100%|██████████| 267/267 [01:40<00:00,  2.65batch/s]\n"
          ]
        },
        {
          "name": "stdout",
          "output_type": "stream",
          "text": [
            "[G loss: 2.1785335540771484 | identity: 0.021454036235809326 GAN: 1.39804208278656 cycle: 0.0737583339214325]\n",
            "[D loss: 0.9636200666427612 | D_A: 0.4812999963760376 D_B: 0.48232004046440125]\n",
            "[Epoch 154/300]\n"
          ]
        },
        {
          "name": "stderr",
          "output_type": "stream",
          "text": [
            "Training: 100%|██████████| 267/267 [01:40<00:00,  2.65batch/s]\n"
          ]
        },
        {
          "name": "stdout",
          "output_type": "stream",
          "text": [
            "[G loss: 2.191254138946533 | identity: 0.017280828207731247 GAN: 1.5797595977783203 cycle: 0.057693276554346085]\n",
            "[D loss: 0.975676953792572 | D_A: 0.5194999575614929 D_B: 0.4561769962310791]\n",
            "[Epoch 155/300]\n"
          ]
        },
        {
          "name": "stderr",
          "output_type": "stream",
          "text": [
            "Training: 100%|██████████| 267/267 [01:40<00:00,  2.65batch/s]\n"
          ]
        },
        {
          "name": "stdout",
          "output_type": "stream",
          "text": [
            "[G loss: 1.8930652141571045 | identity: 0.018449299037456512 GAN: 1.192629337310791 cycle: 0.06635372340679169]\n",
            "[D loss: 0.9503341317176819 | D_A: 0.4531576633453369 D_B: 0.49717646837234497]\n",
            "[Epoch 156/300]\n"
          ]
        },
        {
          "name": "stderr",
          "output_type": "stream",
          "text": [
            "Training: 100%|██████████| 267/267 [01:40<00:00,  2.65batch/s]\n"
          ]
        },
        {
          "name": "stdout",
          "output_type": "stream",
          "text": [
            "[G loss: 1.8951905965805054 | identity: 0.019215598702430725 GAN: 1.2896101474761963 cycle: 0.05671492964029312]\n",
            "[D loss: 1.0074472427368164 | D_A: 0.5408527851104736 D_B: 0.46659451723098755]\n",
            "[Epoch 157/300]\n"
          ]
        },
        {
          "name": "stderr",
          "output_type": "stream",
          "text": [
            "Training: 100%|██████████| 267/267 [01:40<00:00,  2.65batch/s]\n"
          ]
        },
        {
          "name": "stdout",
          "output_type": "stream",
          "text": [
            "[G loss: 1.692662000656128 | identity: 0.01844218373298645 GAN: 1.0352282524108887 cycle: 0.062054939568042755]\n",
            "[D loss: 0.9818118214607239 | D_A: 0.4691040515899658 D_B: 0.5127077698707581]\n",
            "[Epoch 158/300]\n"
          ]
        },
        {
          "name": "stderr",
          "output_type": "stream",
          "text": [
            "Training: 100%|██████████| 267/267 [01:40<00:00,  2.65batch/s]\n"
          ]
        },
        {
          "name": "stdout",
          "output_type": "stream",
          "text": [
            "[G loss: 2.0037269592285156 | identity: 0.01742083951830864 GAN: 1.3857088088989258 cycle: 0.0583176389336586]\n",
            "[D loss: 0.9346193075180054 | D_A: 0.44162261486053467 D_B: 0.4929966628551483]\n",
            "[Epoch 159/300]\n"
          ]
        },
        {
          "name": "stderr",
          "output_type": "stream",
          "text": [
            "Training: 100%|██████████| 267/267 [01:40<00:00,  2.65batch/s]\n"
          ]
        },
        {
          "name": "stdout",
          "output_type": "stream",
          "text": [
            "[G loss: 1.6770408153533936 | identity: 0.016922272741794586 GAN: 1.0279089212417603 cycle: 0.06152872368693352]\n",
            "[D loss: 1.0586851835250854 | D_A: 0.5445380210876465 D_B: 0.514147162437439]\n",
            "[Epoch 160/300]\n"
          ]
        },
        {
          "name": "stderr",
          "output_type": "stream",
          "text": [
            "Training: 100%|██████████| 267/267 [01:40<00:00,  2.65batch/s]\n"
          ]
        },
        {
          "name": "stdout",
          "output_type": "stream",
          "text": [
            "[G loss: 1.8945200443267822 | identity: 0.02162613347172737 GAN: 1.2246655225753784 cycle: 0.06266023218631744]\n",
            "[D loss: 1.034785509109497 | D_A: 0.48220914602279663 D_B: 0.5525764226913452]\n",
            "[Epoch 161/300]\n"
          ]
        },
        {
          "name": "stderr",
          "output_type": "stream",
          "text": [
            "Training: 100%|██████████| 267/267 [01:40<00:00,  2.65batch/s]\n"
          ]
        },
        {
          "name": "stdout",
          "output_type": "stream",
          "text": [
            "[G loss: 2.019866466522217 | identity: 0.01934574730694294 GAN: 1.3765658140182495 cycle: 0.06046091392636299]\n",
            "[D loss: 0.9167991876602173 | D_A: 0.4551693797111511 D_B: 0.46162983775138855]\n",
            "[Epoch 162/300]\n"
          ]
        },
        {
          "name": "stderr",
          "output_type": "stream",
          "text": [
            "Training: 100%|██████████| 267/267 [01:40<00:00,  2.65batch/s]\n"
          ]
        },
        {
          "name": "stdout",
          "output_type": "stream",
          "text": [
            "[G loss: 1.969689130783081 | identity: 0.021090541034936905 GAN: 1.3144958019256592 cycle: 0.06130121275782585]\n",
            "[D loss: 1.063788652420044 | D_A: 0.5577667951583862 D_B: 0.5060218572616577]\n",
            "[Epoch 163/300]\n"
          ]
        },
        {
          "name": "stderr",
          "output_type": "stream",
          "text": [
            "Training: 100%|██████████| 267/267 [01:40<00:00,  2.65batch/s]\n"
          ]
        },
        {
          "name": "stdout",
          "output_type": "stream",
          "text": [
            "[G loss: 2.1880950927734375 | identity: 0.019381724298000336 GAN: 1.5067617893218994 cycle: 0.06425698846578598]\n",
            "[D loss: 1.0737614631652832 | D_A: 0.5194979906082153 D_B: 0.5542634129524231]\n",
            "[Epoch 164/300]\n"
          ]
        },
        {
          "name": "stderr",
          "output_type": "stream",
          "text": [
            "Training: 100%|██████████| 267/267 [01:40<00:00,  2.65batch/s]\n"
          ]
        },
        {
          "name": "stdout",
          "output_type": "stream",
          "text": [
            "[G loss: 1.92402982711792 | identity: 0.021498188376426697 GAN: 1.2534584999084473 cycle: 0.06275749206542969]\n",
            "[D loss: 0.9134252667427063 | D_A: 0.47436100244522095 D_B: 0.43906426429748535]\n",
            "[Epoch 165/300]\n"
          ]
        },
        {
          "name": "stderr",
          "output_type": "stream",
          "text": [
            "Training: 100%|██████████| 267/267 [01:41<00:00,  2.64batch/s]\n"
          ]
        },
        {
          "name": "stdout",
          "output_type": "stream",
          "text": [
            "[G loss: 1.8120923042297363 | identity: 0.017551150172948837 GAN: 1.1449177265167236 cycle: 0.0632072389125824]\n",
            "[D loss: 0.9545878767967224 | D_A: 0.46639153361320496 D_B: 0.48819634318351746]\n"
          ]
        },
        {
          "name": "stderr",
          "output_type": "stream",
          "text": [
            "Creating feature extractor \"inception-v3-compat\" with features ['2048', 'logits_unbiased']\n",
            "Extracting features from input1\n",
            "Looking for samples non-recursivelty in \"evaluation_dumps/A_B\" with extensions png,jpg,jpeg\n",
            "Found 800 samples, some are lossy-compressed - this may affect metrics\n",
            "Processing samples                                                         \n",
            "Extracting features from input2\n",
            "Processing samples                                                         \n",
            "Inception Score: 2.819498786444382 ± 0.15686249647194114\n",
            "Frechet Inception Distance: 85.89058803816809\n"
          ]
        },
        {
          "name": "stdout",
          "output_type": "stream",
          "text": [
            "Geometric Mean Score: 5.519335983215634\n",
            "Geometric Mean Score: 4.314353165183568\n",
            "A->B | GMS=5.519336 FID=85.890588 IS=2.819499\n",
            "B->A | GMS=4.314353 FID=61.766038 IS=3.318321\n",
            "Average GMS: 4.916844574199601, Best: 4.7275398696046445\n",
            "[Epoch 166/300]\n"
          ]
        },
        {
          "name": "stderr",
          "output_type": "stream",
          "text": [
            "Training: 100%|██████████| 267/267 [01:40<00:00,  2.64batch/s]\n"
          ]
        },
        {
          "name": "stdout",
          "output_type": "stream",
          "text": [
            "[G loss: 2.2387547492980957 | identity: 0.01737411692738533 GAN: 1.6382079124450684 cycle: 0.05657985061407089]\n",
            "[D loss: 1.0173019170761108 | D_A: 0.5447258949279785 D_B: 0.4725760221481323]\n",
            "[Epoch 167/300]\n"
          ]
        },
        {
          "name": "stderr",
          "output_type": "stream",
          "text": [
            "Training: 100%|██████████| 267/267 [01:40<00:00,  2.65batch/s]\n"
          ]
        },
        {
          "name": "stdout",
          "output_type": "stream",
          "text": [
            "[G loss: 2.3282275199890137 | identity: 0.017465021461248398 GAN: 1.7053362131118774 cycle: 0.058796145021915436]\n",
            "[D loss: 1.0641653537750244 | D_A: 0.5719506740570068 D_B: 0.49221473932266235]\n",
            "[Epoch 168/300]\n"
          ]
        },
        {
          "name": "stderr",
          "output_type": "stream",
          "text": [
            "Training: 100%|██████████| 267/267 [01:40<00:00,  2.65batch/s]\n"
          ]
        },
        {
          "name": "stdout",
          "output_type": "stream",
          "text": [
            "[G loss: 1.924444556236267 | identity: 0.018678152933716774 GAN: 1.2192445993423462 cycle: 0.06678436696529388]\n",
            "[D loss: 1.0043554306030273 | D_A: 0.4904438555240631 D_B: 0.5139116048812866]\n",
            "[Epoch 169/300]\n"
          ]
        },
        {
          "name": "stderr",
          "output_type": "stream",
          "text": [
            "Training: 100%|██████████| 267/267 [01:40<00:00,  2.65batch/s]\n"
          ]
        },
        {
          "name": "stdout",
          "output_type": "stream",
          "text": [
            "[G loss: 1.9376825094223022 | identity: 0.018457550555467606 GAN: 1.2117490768432617 cycle: 0.06890183687210083]\n",
            "[D loss: 1.0115653276443481 | D_A: 0.5197895765304565 D_B: 0.4917757511138916]\n",
            "[Epoch 170/300]\n"
          ]
        },
        {
          "name": "stderr",
          "output_type": "stream",
          "text": [
            "Training: 100%|██████████| 267/267 [01:40<00:00,  2.65batch/s]\n"
          ]
        },
        {
          "name": "stdout",
          "output_type": "stream",
          "text": [
            "[G loss: 2.1315689086914062 | identity: 0.017678920179605484 GAN: 1.4850455522537231 cycle: 0.06111656129360199]\n",
            "[D loss: 0.9444208145141602 | D_A: 0.45110172033309937 D_B: 0.4933190941810608]\n",
            "[Epoch 171/300]\n"
          ]
        },
        {
          "name": "stderr",
          "output_type": "stream",
          "text": [
            "Training: 100%|██████████| 267/267 [01:40<00:00,  2.65batch/s]\n"
          ]
        },
        {
          "name": "stdout",
          "output_type": "stream",
          "text": [
            "[G loss: 1.7946434020996094 | identity: 0.01663079671561718 GAN: 1.1662049293518066 cycle: 0.05951768904924393]\n",
            "[D loss: 0.9658277034759521 | D_A: 0.47477465867996216 D_B: 0.49105304479599]\n",
            "[Epoch 172/300]\n"
          ]
        },
        {
          "name": "stderr",
          "output_type": "stream",
          "text": [
            "Training: 100%|██████████| 267/267 [01:40<00:00,  2.65batch/s]\n"
          ]
        },
        {
          "name": "stdout",
          "output_type": "stream",
          "text": [
            "[G loss: 2.073826789855957 | identity: 0.02030480094254017 GAN: 1.381462574005127 cycle: 0.06517546623945236]\n",
            "[D loss: 0.9338853359222412 | D_A: 0.4909624755382538 D_B: 0.44292283058166504]\n",
            "[Epoch 173/300]\n"
          ]
        },
        {
          "name": "stderr",
          "output_type": "stream",
          "text": [
            "Training: 100%|██████████| 267/267 [01:40<00:00,  2.65batch/s]\n"
          ]
        },
        {
          "name": "stdout",
          "output_type": "stream",
          "text": [
            "[G loss: 2.089414119720459 | identity: 0.019488703459501266 GAN: 1.435546636581421 cycle: 0.06148901581764221]\n",
            "[D loss: 0.931103527545929 | D_A: 0.466786652803421 D_B: 0.46431687474250793]\n",
            "[Epoch 174/300]\n"
          ]
        },
        {
          "name": "stderr",
          "output_type": "stream",
          "text": [
            "Training: 100%|██████████| 267/267 [01:40<00:00,  2.65batch/s]\n"
          ]
        },
        {
          "name": "stdout",
          "output_type": "stream",
          "text": [
            "[G loss: 1.8381036520004272 | identity: 0.020099755376577377 GAN: 1.1509320735931396 cycle: 0.06469720602035522]\n",
            "[D loss: 1.0201947689056396 | D_A: 0.5691652894020081 D_B: 0.451029509305954]\n",
            "[Epoch 175/300]\n"
          ]
        },
        {
          "name": "stderr",
          "output_type": "stream",
          "text": [
            "Training: 100%|██████████| 267/267 [01:40<00:00,  2.65batch/s]\n"
          ]
        },
        {
          "name": "stdout",
          "output_type": "stream",
          "text": [
            "[G loss: 2.1606926918029785 | identity: 0.020983241498470306 GAN: 1.3887290954589844 cycle: 0.07299971580505371]\n",
            "[D loss: 0.9811819791793823 | D_A: 0.4776715040206909 D_B: 0.5035104751586914]\n",
            "[Epoch 176/300]\n"
          ]
        },
        {
          "name": "stderr",
          "output_type": "stream",
          "text": [
            "Training: 100%|██████████| 267/267 [01:40<00:00,  2.65batch/s]\n"
          ]
        },
        {
          "name": "stdout",
          "output_type": "stream",
          "text": [
            "[G loss: 2.202526807785034 | identity: 0.017044909298419952 GAN: 1.5365417003631592 cycle: 0.0631895363330841]\n",
            "[D loss: 1.0785143375396729 | D_A: 0.5527369379997253 D_B: 0.5257773995399475]\n",
            "[Epoch 177/300]\n"
          ]
        },
        {
          "name": "stderr",
          "output_type": "stream",
          "text": [
            "Training: 100%|██████████| 267/267 [01:40<00:00,  2.65batch/s]\n"
          ]
        },
        {
          "name": "stdout",
          "output_type": "stream",
          "text": [
            "[G loss: 1.6813695430755615 | identity: 0.0159047469496727 GAN: 1.0314741134643555 cycle: 0.061808593571186066]\n",
            "[D loss: 1.0217180252075195 | D_A: 0.5012648105621338 D_B: 0.5204532146453857]\n",
            "[Epoch 178/300]\n"
          ]
        },
        {
          "name": "stderr",
          "output_type": "stream",
          "text": [
            "Training: 100%|██████████| 267/267 [01:40<00:00,  2.65batch/s]\n"
          ]
        },
        {
          "name": "stdout",
          "output_type": "stream",
          "text": [
            "[G loss: 1.9688568115234375 | identity: 0.02304689586162567 GAN: 1.3020981550216675 cycle: 0.06206648051738739]\n",
            "[D loss: 0.9656050205230713 | D_A: 0.4612472951412201 D_B: 0.5043576955795288]\n",
            "[Epoch 179/300]\n"
          ]
        },
        {
          "name": "stderr",
          "output_type": "stream",
          "text": [
            "Training: 100%|██████████| 267/267 [01:40<00:00,  2.65batch/s]\n"
          ]
        },
        {
          "name": "stdout",
          "output_type": "stream",
          "text": [
            "[G loss: 1.7281477451324463 | identity: 0.01630561240017414 GAN: 1.1366894245147705 cycle: 0.055884700268507004]\n",
            "[D loss: 1.1240594387054443 | D_A: 0.5804320573806763 D_B: 0.5436273217201233]\n",
            "[Epoch 180/300]\n"
          ]
        },
        {
          "name": "stderr",
          "output_type": "stream",
          "text": [
            "Training: 100%|██████████| 267/267 [01:40<00:00,  2.64batch/s]\n"
          ]
        },
        {
          "name": "stdout",
          "output_type": "stream",
          "text": [
            "[G loss: 1.9982669353485107 | identity: 0.018351919949054718 GAN: 1.3516287803649902 cycle: 0.06099342554807663]\n",
            "[D loss: 0.9901618957519531 | D_A: 0.49892473220825195 D_B: 0.49123716354370117]\n"
          ]
        },
        {
          "name": "stderr",
          "output_type": "stream",
          "text": [
            "Creating feature extractor \"inception-v3-compat\" with features ['2048', 'logits_unbiased']\n",
            "Extracting features from input1\n",
            "Looking for samples non-recursivelty in \"evaluation_dumps/A_B\" with extensions png,jpg,jpeg\n",
            "Found 800 samples, some are lossy-compressed - this may affect metrics\n",
            "Processing samples                                                         \n",
            "Extracting features from input2\n",
            "Processing samples                                                         \n",
            "Inception Score: 2.763559800242015 ± 0.1352984440085105\n",
            "Frechet Inception Distance: 81.38294669749331\n"
          ]
        },
        {
          "name": "stdout",
          "output_type": "stream",
          "text": [
            "Geometric Mean Score: 5.426655747808322\n",
            "Geometric Mean Score: 4.338234468849368\n",
            "A->B | GMS=5.426656 FID=81.382947 IS=2.763560\n",
            "B->A | GMS=4.338234 FID=63.271086 IS=3.361857\n",
            "Average GMS: 4.882445108328845, Best: 4.7275398696046445\n",
            "I'm losing my patience! Best GMS: 4.7275398696046445\n",
            "[Epoch 181/300]\n"
          ]
        },
        {
          "name": "stderr",
          "output_type": "stream",
          "text": [
            "Training: 100%|██████████| 267/267 [01:41<00:00,  2.64batch/s]\n"
          ]
        },
        {
          "name": "stdout",
          "output_type": "stream",
          "text": [
            "[G loss: 2.2153239250183105 | identity: 0.018741466104984283 GAN: 1.51263427734375 cycle: 0.06652066111564636]\n",
            "[D loss: 0.9944172501564026 | D_A: 0.4919223189353943 D_B: 0.5024949312210083]\n",
            "[Epoch 182/300]\n"
          ]
        },
        {
          "name": "stderr",
          "output_type": "stream",
          "text": [
            "Training: 100%|██████████| 267/267 [01:40<00:00,  2.65batch/s]\n"
          ]
        },
        {
          "name": "stdout",
          "output_type": "stream",
          "text": [
            "[G loss: 2.151515245437622 | identity: 0.020210547372698784 GAN: 1.4056131839752197 cycle: 0.07054808735847473]\n",
            "[D loss: 1.0095996856689453 | D_A: 0.4791596233844757 D_B: 0.530440092086792]\n",
            "[Epoch 183/300]\n"
          ]
        },
        {
          "name": "stderr",
          "output_type": "stream",
          "text": [
            "Training: 100%|██████████| 267/267 [01:41<00:00,  2.64batch/s]\n"
          ]
        },
        {
          "name": "stdout",
          "output_type": "stream",
          "text": [
            "[G loss: 2.0340890884399414 | identity: 0.019208131358027458 GAN: 1.3563683032989502 cycle: 0.0639304667711258]\n",
            "[D loss: 1.014413833618164 | D_A: 0.500673770904541 D_B: 0.513740062713623]\n",
            "[Epoch 184/300]\n"
          ]
        },
        {
          "name": "stderr",
          "output_type": "stream",
          "text": [
            "Training: 100%|██████████| 267/267 [01:40<00:00,  2.65batch/s]\n"
          ]
        },
        {
          "name": "stdout",
          "output_type": "stream",
          "text": [
            "[G loss: 1.7830491065979004 | identity: 0.019771892577409744 GAN: 1.132289171218872 cycle: 0.061121616512537]\n",
            "[D loss: 0.9842072129249573 | D_A: 0.48565608263015747 D_B: 0.4985511302947998]\n",
            "[Epoch 185/300]\n"
          ]
        },
        {
          "name": "stderr",
          "output_type": "stream",
          "text": [
            "Training: 100%|██████████| 267/267 [01:40<00:00,  2.65batch/s]\n"
          ]
        },
        {
          "name": "stdout",
          "output_type": "stream",
          "text": [
            "[G loss: 1.9515753984451294 | identity: 0.022750362753868103 GAN: 1.2540897130966187 cycle: 0.06519849598407745]\n",
            "[D loss: 0.9145288467407227 | D_A: 0.5024703145027161 D_B: 0.412058562040329]\n",
            "[Epoch 186/300]\n"
          ]
        },
        {
          "name": "stderr",
          "output_type": "stream",
          "text": [
            "Training: 100%|██████████| 267/267 [01:40<00:00,  2.65batch/s]\n"
          ]
        },
        {
          "name": "stdout",
          "output_type": "stream",
          "text": [
            "[G loss: 2.1580417156219482 | identity: 0.01990264095366001 GAN: 1.437119483947754 cycle: 0.06811169534921646]\n",
            "[D loss: 0.9538732767105103 | D_A: 0.473453164100647 D_B: 0.4804200828075409]\n",
            "[Epoch 187/300]\n"
          ]
        },
        {
          "name": "stderr",
          "output_type": "stream",
          "text": [
            "Training: 100%|██████████| 267/267 [01:40<00:00,  2.65batch/s]\n"
          ]
        },
        {
          "name": "stdout",
          "output_type": "stream",
          "text": [
            "[G loss: 1.9583823680877686 | identity: 0.01807166077196598 GAN: 1.3274221420288086 cycle: 0.05948168784379959]\n",
            "[D loss: 1.1015020608901978 | D_A: 0.5685253143310547 D_B: 0.5329767465591431]\n",
            "[Epoch 188/300]\n"
          ]
        },
        {
          "name": "stderr",
          "output_type": "stream",
          "text": [
            "Training: 100%|██████████| 267/267 [01:40<00:00,  2.65batch/s]\n"
          ]
        },
        {
          "name": "stdout",
          "output_type": "stream",
          "text": [
            "[G loss: 2.2432198524475098 | identity: 0.020886000245809555 GAN: 1.53868567943573 cycle: 0.06627622246742249]\n",
            "[D loss: 0.9005753397941589 | D_A: 0.46153849363327026 D_B: 0.43903684616088867]\n",
            "[Epoch 189/300]\n"
          ]
        },
        {
          "name": "stderr",
          "output_type": "stream",
          "text": [
            "Training: 100%|██████████| 267/267 [01:40<00:00,  2.65batch/s]\n"
          ]
        },
        {
          "name": "stdout",
          "output_type": "stream",
          "text": [
            "[G loss: 1.9135935306549072 | identity: 0.01823476329445839 GAN: 1.2760989665985107 cycle: 0.060102492570877075]\n",
            "[D loss: 0.9994831085205078 | D_A: 0.4963487684726715 D_B: 0.5031343698501587]\n",
            "[Epoch 190/300]\n"
          ]
        },
        {
          "name": "stderr",
          "output_type": "stream",
          "text": [
            "Training: 100%|██████████| 267/267 [01:40<00:00,  2.65batch/s]\n"
          ]
        },
        {
          "name": "stdout",
          "output_type": "stream",
          "text": [
            "[G loss: 1.9592278003692627 | identity: 0.0197975505143404 GAN: 1.3062429428100586 cycle: 0.06133897602558136]\n",
            "[D loss: 0.9765337705612183 | D_A: 0.47743484377861023 D_B: 0.4990989565849304]\n",
            "[Epoch 191/300]\n"
          ]
        },
        {
          "name": "stderr",
          "output_type": "stream",
          "text": [
            "Training: 100%|██████████| 267/267 [01:40<00:00,  2.65batch/s]\n"
          ]
        },
        {
          "name": "stdout",
          "output_type": "stream",
          "text": [
            "[G loss: 2.0724408626556396 | identity: 0.018373291939496994 GAN: 1.394879698753357 cycle: 0.06408146023750305]\n",
            "[D loss: 0.8705716133117676 | D_A: 0.42024901509284973 D_B: 0.45032259821891785]\n",
            "[Epoch 192/300]\n"
          ]
        },
        {
          "name": "stderr",
          "output_type": "stream",
          "text": [
            "Training: 100%|██████████| 267/267 [01:40<00:00,  2.65batch/s]\n"
          ]
        },
        {
          "name": "stdout",
          "output_type": "stream",
          "text": [
            "[G loss: 2.1285533905029297 | identity: 0.01799444667994976 GAN: 1.4527868032455444 cycle: 0.06397776305675507]\n",
            "[D loss: 0.9064502120018005 | D_A: 0.47147539258003235 D_B: 0.4349748194217682]\n",
            "[Epoch 193/300]\n"
          ]
        },
        {
          "name": "stderr",
          "output_type": "stream",
          "text": [
            "Training: 100%|██████████| 267/267 [01:40<00:00,  2.65batch/s]\n"
          ]
        },
        {
          "name": "stdout",
          "output_type": "stream",
          "text": [
            "[G loss: 2.3314342498779297 | identity: 0.021263472735881805 GAN: 1.6631544828414917 cycle: 0.06257526576519012]\n",
            "[D loss: 0.9195370078086853 | D_A: 0.44693291187286377 D_B: 0.47260409593582153]\n",
            "[Epoch 194/300]\n"
          ]
        },
        {
          "name": "stderr",
          "output_type": "stream",
          "text": [
            "Training: 100%|██████████| 267/267 [01:40<00:00,  2.65batch/s]\n"
          ]
        },
        {
          "name": "stdout",
          "output_type": "stream",
          "text": [
            "[G loss: 2.116837978363037 | identity: 0.017940301448106766 GAN: 1.451197862625122 cycle: 0.06297595798969269]\n",
            "[D loss: 0.9174901247024536 | D_A: 0.43397200107574463 D_B: 0.483518123626709]\n",
            "[Epoch 195/300]\n"
          ]
        },
        {
          "name": "stderr",
          "output_type": "stream",
          "text": [
            "Training: 100%|██████████| 267/267 [01:40<00:00,  2.65batch/s]\n"
          ]
        },
        {
          "name": "stdout",
          "output_type": "stream",
          "text": [
            "[G loss: 2.0754811763763428 | identity: 0.019328497350215912 GAN: 1.3781046867370605 cycle: 0.0658719465136528]\n",
            "[D loss: 1.0485601425170898 | D_A: 0.4680318832397461 D_B: 0.5805282592773438]\n"
          ]
        },
        {
          "name": "stderr",
          "output_type": "stream",
          "text": [
            "Creating feature extractor \"inception-v3-compat\" with features ['2048', 'logits_unbiased']\n",
            "Extracting features from input1\n",
            "Looking for samples non-recursivelty in \"evaluation_dumps/A_B\" with extensions png,jpg,jpeg\n",
            "Found 800 samples, some are lossy-compressed - this may affect metrics\n",
            "Processing samples                                                         \n",
            "Extracting features from input2\n",
            "Processing samples                                                         \n",
            "Inception Score: 2.8344999570292746 ± 0.15174006937310097\n",
            "Frechet Inception Distance: 84.70001391333017\n"
          ]
        },
        {
          "name": "stdout",
          "output_type": "stream",
          "text": [
            "Geometric Mean Score: 5.466426504814284\n",
            "Geometric Mean Score: 4.349160973706731\n",
            "A->B | GMS=5.466427 FID=84.700014 IS=2.834500\n",
            "B->A | GMS=4.349161 FID=63.363467 IS=3.349870\n",
            "Average GMS: 4.907793739260507, Best: 4.7275398696046445\n",
            "I'm losing my patience! Best GMS: 4.7275398696046445\n",
            "[Epoch 196/300]\n"
          ]
        },
        {
          "name": "stderr",
          "output_type": "stream",
          "text": [
            "Training: 100%|██████████| 267/267 [01:41<00:00,  2.64batch/s]\n"
          ]
        },
        {
          "name": "stdout",
          "output_type": "stream",
          "text": [
            "[G loss: 1.8897229433059692 | identity: 0.017880886793136597 GAN: 1.2025957107543945 cycle: 0.06513653695583344]\n",
            "[D loss: 0.9393417239189148 | D_A: 0.4783535599708557 D_B: 0.4609881639480591]\n",
            "[Epoch 197/300]\n"
          ]
        },
        {
          "name": "stderr",
          "output_type": "stream",
          "text": [
            "Training: 100%|██████████| 267/267 [01:41<00:00,  2.64batch/s]\n"
          ]
        },
        {
          "name": "stdout",
          "output_type": "stream",
          "text": [
            "[G loss: 2.044903039932251 | identity: 0.020055146887898445 GAN: 1.3548436164855957 cycle: 0.06499490886926651]\n",
            "[D loss: 1.0320302248001099 | D_A: 0.59100341796875 D_B: 0.4410267770290375]\n",
            "[Epoch 198/300]\n"
          ]
        },
        {
          "name": "stderr",
          "output_type": "stream",
          "text": [
            "Training: 100%|██████████| 267/267 [01:41<00:00,  2.64batch/s]\n"
          ]
        },
        {
          "name": "stdout",
          "output_type": "stream",
          "text": [
            "[G loss: 2.0863993167877197 | identity: 0.01760966330766678 GAN: 1.5124008655548096 cycle: 0.05387791991233826]\n",
            "[D loss: 1.105832576751709 | D_A: 0.5116530656814575 D_B: 0.5941795706748962]\n",
            "[Epoch 199/300]\n"
          ]
        },
        {
          "name": "stderr",
          "output_type": "stream",
          "text": [
            "Training: 100%|██████████| 267/267 [01:40<00:00,  2.64batch/s]\n"
          ]
        },
        {
          "name": "stdout",
          "output_type": "stream",
          "text": [
            "[G loss: 1.8856792449951172 | identity: 0.020930081605911255 GAN: 1.253817081451416 cycle: 0.059000201523303986]\n",
            "[D loss: 0.9950131177902222 | D_A: 0.5058131217956543 D_B: 0.4891999661922455]\n",
            "[Epoch 200/300]\n"
          ]
        },
        {
          "name": "stderr",
          "output_type": "stream",
          "text": [
            "Training: 100%|██████████| 267/267 [01:40<00:00,  2.65batch/s]\n"
          ]
        },
        {
          "name": "stdout",
          "output_type": "stream",
          "text": [
            "[G loss: 2.063633918762207 | identity: 0.01849505677819252 GAN: 1.3698549270629883 cycle: 0.06567887961864471]\n",
            "[D loss: 0.9379552602767944 | D_A: 0.4605969190597534 D_B: 0.47735831141471863]\n",
            "[Epoch 201/300]\n"
          ]
        },
        {
          "name": "stderr",
          "output_type": "stream",
          "text": [
            "Training: 100%|██████████| 267/267 [01:40<00:00,  2.65batch/s]\n"
          ]
        },
        {
          "name": "stdout",
          "output_type": "stream",
          "text": [
            "[G loss: 1.9683085680007935 | identity: 0.02039417251944542 GAN: 1.3424404859542847 cycle: 0.05850797891616821]\n",
            "[D loss: 0.9811511039733887 | D_A: 0.500316858291626 D_B: 0.4808342456817627]\n",
            "[Epoch 202/300]\n"
          ]
        },
        {
          "name": "stderr",
          "output_type": "stream",
          "text": [
            "Training: 100%|██████████| 267/267 [01:40<00:00,  2.65batch/s]\n"
          ]
        },
        {
          "name": "stdout",
          "output_type": "stream",
          "text": [
            "[G loss: 2.0815184116363525 | identity: 0.0206463523209095 GAN: 1.3360052108764648 cycle: 0.07042204588651657]\n",
            "[D loss: 0.9478415846824646 | D_A: 0.4705137610435486 D_B: 0.477327823638916]\n",
            "[Epoch 203/300]\n"
          ]
        },
        {
          "name": "stderr",
          "output_type": "stream",
          "text": [
            "Training: 100%|██████████| 267/267 [01:40<00:00,  2.65batch/s]\n"
          ]
        },
        {
          "name": "stdout",
          "output_type": "stream",
          "text": [
            "[G loss: 2.067883014678955 | identity: 0.02315877005457878 GAN: 1.3564999103546143 cycle: 0.06650655716657639]\n",
            "[D loss: 0.9536311626434326 | D_A: 0.4765249788761139 D_B: 0.47710615396499634]\n",
            "[Epoch 204/300]\n"
          ]
        },
        {
          "name": "stderr",
          "output_type": "stream",
          "text": [
            "Training: 100%|██████████| 267/267 [01:40<00:00,  2.65batch/s]\n"
          ]
        },
        {
          "name": "stdout",
          "output_type": "stream",
          "text": [
            "[G loss: 1.9282684326171875 | identity: 0.018151771277189255 GAN: 1.3151443004608154 cycle: 0.05768205597996712]\n",
            "[D loss: 0.9576379060745239 | D_A: 0.4705369472503662 D_B: 0.4871009588241577]\n",
            "[Epoch 205/300]\n"
          ]
        },
        {
          "name": "stderr",
          "output_type": "stream",
          "text": [
            "Training: 100%|██████████| 267/267 [01:40<00:00,  2.65batch/s]\n"
          ]
        },
        {
          "name": "stdout",
          "output_type": "stream",
          "text": [
            "[G loss: 1.9465872049331665 | identity: 0.016600295901298523 GAN: 1.3186707496643066 cycle: 0.05947158485651016]\n",
            "[D loss: 1.0023740530014038 | D_A: 0.5540974140167236 D_B: 0.4482766389846802]\n",
            "[Epoch 206/300]\n"
          ]
        },
        {
          "name": "stderr",
          "output_type": "stream",
          "text": [
            "Training: 100%|██████████| 267/267 [01:40<00:00,  2.65batch/s]\n"
          ]
        },
        {
          "name": "stdout",
          "output_type": "stream",
          "text": [
            "[G loss: 1.9437870979309082 | identity: 0.017461705952882767 GAN: 1.332463026046753 cycle: 0.05764006823301315]\n",
            "[D loss: 0.9252797961235046 | D_A: 0.5062720775604248 D_B: 0.41900771856307983]\n",
            "[Epoch 207/300]\n"
          ]
        },
        {
          "name": "stderr",
          "output_type": "stream",
          "text": [
            "Training: 100%|██████████| 267/267 [01:40<00:00,  2.65batch/s]\n"
          ]
        },
        {
          "name": "stdout",
          "output_type": "stream",
          "text": [
            "[G loss: 2.0102078914642334 | identity: 0.016618719324469566 GAN: 1.4218575954437256 cycle: 0.05551128834486008]\n",
            "[D loss: 1.1451938152313232 | D_A: 0.525646984577179 D_B: 0.6195468902587891]\n",
            "[Epoch 208/300]\n"
          ]
        },
        {
          "name": "stderr",
          "output_type": "stream",
          "text": [
            "Training: 100%|██████████| 267/267 [01:40<00:00,  2.65batch/s]\n"
          ]
        },
        {
          "name": "stdout",
          "output_type": "stream",
          "text": [
            "[G loss: 2.113159418106079 | identity: 0.019838768988847733 GAN: 1.4184646606445312 cycle: 0.06550171971321106]\n",
            "[D loss: 0.950737476348877 | D_A: 0.49504369497299194 D_B: 0.455693781375885]\n",
            "[Epoch 209/300]\n"
          ]
        },
        {
          "name": "stderr",
          "output_type": "stream",
          "text": [
            "Training: 100%|██████████| 267/267 [01:40<00:00,  2.65batch/s]\n"
          ]
        },
        {
          "name": "stdout",
          "output_type": "stream",
          "text": [
            "[G loss: 1.9752916097640991 | identity: 0.018407991155982018 GAN: 1.2999260425567627 cycle: 0.06385495513677597]\n",
            "[D loss: 1.0049644708633423 | D_A: 0.5379887819290161 D_B: 0.46697568893432617]\n",
            "[Epoch 210/300]\n"
          ]
        },
        {
          "name": "stderr",
          "output_type": "stream",
          "text": [
            "Training: 100%|██████████| 267/267 [01:40<00:00,  2.65batch/s]\n"
          ]
        },
        {
          "name": "stdout",
          "output_type": "stream",
          "text": [
            "[G loss: 2.955976963043213 | identity: 0.019151361659169197 GAN: 1.5831308364868164 cycle: 0.05621293932199478]\n",
            "[D loss: 0.7549800872802734 | D_A: 0.37098217010498047 D_B: 0.38399791717529297]\n"
          ]
        },
        {
          "name": "stderr",
          "output_type": "stream",
          "text": [
            "Creating feature extractor \"inception-v3-compat\" with features ['2048', 'logits_unbiased']\n",
            "Extracting features from input1\n",
            "Looking for samples non-recursivelty in \"evaluation_dumps/A_B\" with extensions png,jpg,jpeg\n",
            "Found 800 samples, some are lossy-compressed - this may affect metrics\n",
            "Processing samples                                                         \n",
            "Extracting features from input2\n",
            "Processing samples                                                         \n",
            "Inception Score: 2.753084198408069 ± 0.11809215413136716\n",
            "Frechet Inception Distance: 83.30622517835417\n"
          ]
        },
        {
          "name": "stdout",
          "output_type": "stream",
          "text": [
            "Geometric Mean Score: 5.5008395950925575\n",
            "Geometric Mean Score: 4.308557380298029\n",
            "A->B | GMS=5.500840 FID=83.306225 IS=2.753084\n",
            "B->A | GMS=4.308557 FID=64.284366 IS=3.462913\n",
            "Average GMS: 4.904698487695294, Best: 4.7275398696046445\n",
            "I'm losing my patience! Best GMS: 4.7275398696046445\n",
            "[Epoch 211/300]\n"
          ]
        },
        {
          "name": "stderr",
          "output_type": "stream",
          "text": [
            "Training: 100%|██████████| 267/267 [01:41<00:00,  2.64batch/s]\n"
          ]
        },
        {
          "name": "stdout",
          "output_type": "stream",
          "text": [
            "[G loss: 2.9923839569091797 | identity: 0.02076340839266777 GAN: 1.4870166778564453 cycle: 0.07410956919193268]\n",
            "[D loss: 0.7528992295265198 | D_A: 0.3792461156845093 D_B: 0.3736531138420105]\n",
            "[Epoch 212/300]\n"
          ]
        },
        {
          "name": "stderr",
          "output_type": "stream",
          "text": [
            "Training: 100%|██████████| 267/267 [01:41<00:00,  2.64batch/s]\n"
          ]
        },
        {
          "name": "stdout",
          "output_type": "stream",
          "text": [
            "[G loss: 2.4847686290740967 | identity: 0.02023559808731079 GAN: 1.2428812980651855 cycle: 0.060021109879016876]\n",
            "[D loss: 1.2102904319763184 | D_A: 0.7540674209594727 D_B: 0.4562230706214905]\n",
            "[Epoch 213/300]\n"
          ]
        },
        {
          "name": "stderr",
          "output_type": "stream",
          "text": [
            "Training: 100%|██████████| 267/267 [01:41<00:00,  2.64batch/s]\n"
          ]
        },
        {
          "name": "stdout",
          "output_type": "stream",
          "text": [
            "[G loss: 3.077958583831787 | identity: 0.021686451509594917 GAN: 1.619306206703186 cycle: 0.06273126602172852]\n",
            "[D loss: 0.9454764127731323 | D_A: 0.4300408363342285 D_B: 0.5154355764389038]\n",
            "[Epoch 214/300]\n"
          ]
        },
        {
          "name": "stderr",
          "output_type": "stream",
          "text": [
            "Training: 100%|██████████| 267/267 [01:41<00:00,  2.64batch/s]\n"
          ]
        },
        {
          "name": "stdout",
          "output_type": "stream",
          "text": [
            "[G loss: 2.674319267272949 | identity: 0.019707990810275078 GAN: 1.3624308109283447 cycle: 0.06109650060534477]\n",
            "[D loss: 0.977225661277771 | D_A: 0.4375172555446625 D_B: 0.5397083759307861]\n",
            "[Epoch 215/300]\n"
          ]
        },
        {
          "name": "stderr",
          "output_type": "stream",
          "text": [
            "Training: 100%|██████████| 267/267 [01:40<00:00,  2.65batch/s]\n"
          ]
        },
        {
          "name": "stdout",
          "output_type": "stream",
          "text": [
            "[G loss: 2.6383516788482666 | identity: 0.01917319931089878 GAN: 1.2972666025161743 cycle: 0.06732785701751709]\n",
            "[D loss: 0.8830609321594238 | D_A: 0.42842328548431396 D_B: 0.45463764667510986]\n",
            "[Epoch 216/300]\n"
          ]
        },
        {
          "name": "stderr",
          "output_type": "stream",
          "text": [
            "Training: 100%|██████████| 267/267 [01:40<00:00,  2.65batch/s]\n"
          ]
        },
        {
          "name": "stdout",
          "output_type": "stream",
          "text": [
            "[G loss: 2.51640248298645 | identity: 0.019115731120109558 GAN: 1.2554655075073242 cycle: 0.06140885129570961]\n",
            "[D loss: 0.9844651818275452 | D_A: 0.4552357792854309 D_B: 0.5292294025421143]\n",
            "[Epoch 217/300]\n"
          ]
        },
        {
          "name": "stderr",
          "output_type": "stream",
          "text": [
            "Training: 100%|██████████| 267/267 [01:40<00:00,  2.65batch/s]\n"
          ]
        },
        {
          "name": "stdout",
          "output_type": "stream",
          "text": [
            "[G loss: 2.698355197906494 | identity: 0.020177196711301804 GAN: 1.407760500907898 cycle: 0.056653738021850586]\n",
            "[D loss: 1.0142147541046143 | D_A: 0.48147404193878174 D_B: 0.5327407717704773]\n",
            "[Epoch 218/300]\n"
          ]
        },
        {
          "name": "stderr",
          "output_type": "stream",
          "text": [
            "Training: 100%|██████████| 267/267 [01:40<00:00,  2.65batch/s]\n"
          ]
        },
        {
          "name": "stdout",
          "output_type": "stream",
          "text": [
            "[G loss: 2.58884859085083 | identity: 0.026633206754922867 GAN: 1.2804555892944336 cycle: 0.06415319442749023]\n",
            "[D loss: 0.9683194756507874 | D_A: 0.5158897042274475 D_B: 0.45242977142333984]\n",
            "[Epoch 219/300]\n"
          ]
        },
        {
          "name": "stderr",
          "output_type": "stream",
          "text": [
            "Training: 100%|██████████| 267/267 [01:40<00:00,  2.65batch/s]\n"
          ]
        },
        {
          "name": "stdout",
          "output_type": "stream",
          "text": [
            "[G loss: 2.7827682495117188 | identity: 0.020862428471446037 GAN: 1.3985791206359863 cycle: 0.06640371680259705]\n",
            "[D loss: 0.9216606616973877 | D_A: 0.5430554151535034 D_B: 0.3786052465438843]\n",
            "[Epoch 220/300]\n"
          ]
        },
        {
          "name": "stderr",
          "output_type": "stream",
          "text": [
            "Training: 100%|██████████| 267/267 [01:40<00:00,  2.65batch/s]\n"
          ]
        },
        {
          "name": "stdout",
          "output_type": "stream",
          "text": [
            "[G loss: 2.3903870582580566 | identity: 0.024993153288960457 GAN: 1.1394743919372559 cycle: 0.06561823934316635]\n",
            "[D loss: 1.0458009243011475 | D_A: 0.5342456102371216 D_B: 0.5115552544593811]\n",
            "[Epoch 221/300]\n"
          ]
        },
        {
          "name": "stderr",
          "output_type": "stream",
          "text": [
            "Training: 100%|██████████| 267/267 [01:40<00:00,  2.65batch/s]\n"
          ]
        },
        {
          "name": "stdout",
          "output_type": "stream",
          "text": [
            "[G loss: 2.976428270339966 | identity: 0.020712973549962044 GAN: 1.5340790748596191 cycle: 0.06545965373516083]\n",
            "[D loss: 1.0504703521728516 | D_A: 0.4923529028892517 D_B: 0.5581175088882446]\n",
            "[Epoch 222/300]\n"
          ]
        },
        {
          "name": "stderr",
          "output_type": "stream",
          "text": [
            "Training: 100%|██████████| 267/267 [01:40<00:00,  2.65batch/s]\n"
          ]
        },
        {
          "name": "stdout",
          "output_type": "stream",
          "text": [
            "[G loss: 2.6633520126342773 | identity: 0.019703757017850876 GAN: 1.3335928916931152 cycle: 0.06432586908340454]\n",
            "[D loss: 1.037214994430542 | D_A: 0.5106763243675232 D_B: 0.526538610458374]\n",
            "[Epoch 223/300]\n"
          ]
        },
        {
          "name": "stderr",
          "output_type": "stream",
          "text": [
            "Training: 100%|██████████| 267/267 [01:40<00:00,  2.65batch/s]\n"
          ]
        },
        {
          "name": "stdout",
          "output_type": "stream",
          "text": [
            "[G loss: 2.834355115890503 | identity: 0.020275715738534927 GAN: 1.4618749618530273 cycle: 0.06212668865919113]\n",
            "[D loss: 0.9587699770927429 | D_A: 0.5070338249206543 D_B: 0.4517361521720886]\n",
            "[Epoch 224/300]\n"
          ]
        },
        {
          "name": "stderr",
          "output_type": "stream",
          "text": [
            "Training: 100%|██████████| 267/267 [01:40<00:00,  2.65batch/s]\n"
          ]
        },
        {
          "name": "stdout",
          "output_type": "stream",
          "text": [
            "[G loss: 2.795888900756836 | identity: 0.02547449804842472 GAN: 1.3639848232269287 cycle: 0.07244373857975006]\n",
            "[D loss: 1.030474305152893 | D_A: 0.5285956859588623 D_B: 0.5018786191940308]\n",
            "[Epoch 225/300]\n"
          ]
        },
        {
          "name": "stderr",
          "output_type": "stream",
          "text": [
            "Training: 100%|██████████| 267/267 [01:40<00:00,  2.65batch/s]\n"
          ]
        },
        {
          "name": "stdout",
          "output_type": "stream",
          "text": [
            "[G loss: 2.590571880340576 | identity: 0.0234235692769289 GAN: 1.2414040565490723 cycle: 0.07050423324108124]\n",
            "[D loss: 1.0347877740859985 | D_A: 0.4895016551017761 D_B: 0.5452861189842224]\n"
          ]
        },
        {
          "name": "stderr",
          "output_type": "stream",
          "text": [
            "Creating feature extractor \"inception-v3-compat\" with features ['2048', 'logits_unbiased']\n",
            "Extracting features from input1\n",
            "Looking for samples non-recursivelty in \"evaluation_dumps/A_B\" with extensions png,jpg,jpeg\n",
            "Found 800 samples, some are lossy-compressed - this may affect metrics\n",
            "Processing samples                                                         \n",
            "Extracting features from input2\n",
            "Processing samples                                                         \n",
            "Inception Score: 2.828721388569181 ± 0.15561489886350235\n",
            "Frechet Inception Distance: 84.79557490523285\n"
          ]
        },
        {
          "name": "stdout",
          "output_type": "stream",
          "text": [
            "Geometric Mean Score: 5.475093086492652\n",
            "Geometric Mean Score: 4.500880691621877\n",
            "A->B | GMS=5.475093 FID=84.795575 IS=2.828721\n",
            "B->A | GMS=4.500881 FID=67.840796 IS=3.348852\n",
            "Average GMS: 4.9879868890572645, Best: 4.7275398696046445\n",
            "💩🚽 Getting Cooked!\n",
            "I'm losing my patience! Best GMS: 4.7275398696046445\n",
            "[Epoch 226/300]\n"
          ]
        },
        {
          "name": "stderr",
          "output_type": "stream",
          "text": [
            "Training: 100%|██████████| 267/267 [01:40<00:00,  2.65batch/s]\n"
          ]
        },
        {
          "name": "stdout",
          "output_type": "stream",
          "text": [
            "[G loss: 2.7859978675842285 | identity: 0.022058792412281036 GAN: 1.4065220355987549 cycle: 0.06541560590267181]\n",
            "[D loss: 0.980652391910553 | D_A: 0.5330616235733032 D_B: 0.44759076833724976]\n",
            "[Epoch 227/300]\n"
          ]
        },
        {
          "name": "stderr",
          "output_type": "stream",
          "text": [
            "Training: 100%|██████████| 267/267 [01:41<00:00,  2.64batch/s]\n"
          ]
        },
        {
          "name": "stdout",
          "output_type": "stream",
          "text": [
            "[G loss: 2.654047966003418 | identity: 0.02177804708480835 GAN: 1.3352339267730713 cycle: 0.06294187903404236]\n",
            "[D loss: 0.9566113352775574 | D_A: 0.4706023931503296 D_B: 0.4860089421272278]\n",
            "[Epoch 228/300]\n"
          ]
        },
        {
          "name": "stderr",
          "output_type": "stream",
          "text": [
            "Training: 100%|██████████| 267/267 [01:41<00:00,  2.64batch/s]\n"
          ]
        },
        {
          "name": "stdout",
          "output_type": "stream",
          "text": [
            "[G loss: 2.9276578426361084 | identity: 0.02336079813539982 GAN: 1.512038230895996 cycle: 0.06362397223711014]\n",
            "[D loss: 0.9636399745941162 | D_A: 0.49771878123283386 D_B: 0.46592119336128235]\n",
            "[Epoch 229/300]\n"
          ]
        },
        {
          "name": "stderr",
          "output_type": "stream",
          "text": [
            "Training: 100%|██████████| 267/267 [01:41<00:00,  2.64batch/s]\n"
          ]
        },
        {
          "name": "stdout",
          "output_type": "stream",
          "text": [
            "[G loss: 2.6394195556640625 | identity: 0.021983955055475235 GAN: 1.3134663105010986 cycle: 0.06472359597682953]\n",
            "[D loss: 0.9799513816833496 | D_A: 0.4796285927295685 D_B: 0.5003228187561035]\n",
            "[Epoch 230/300]\n"
          ]
        },
        {
          "name": "stderr",
          "output_type": "stream",
          "text": [
            "Training: 100%|██████████| 267/267 [01:41<00:00,  2.64batch/s]\n"
          ]
        },
        {
          "name": "stdout",
          "output_type": "stream",
          "text": [
            "[G loss: 2.3746066093444824 | identity: 0.020779825747013092 GAN: 1.1482174396514893 cycle: 0.0631500631570816]\n",
            "[D loss: 0.9771937131881714 | D_A: 0.5114342570304871 D_B: 0.4657594859600067]\n",
            "[Epoch 231/300]\n"
          ]
        },
        {
          "name": "stderr",
          "output_type": "stream",
          "text": [
            "Training: 100%|██████████| 267/267 [01:40<00:00,  2.65batch/s]\n"
          ]
        },
        {
          "name": "stdout",
          "output_type": "stream",
          "text": [
            "[G loss: 2.6518537998199463 | identity: 0.02595553733408451 GAN: 1.305813193321228 cycle: 0.06671784818172455]\n",
            "[D loss: 0.9770799875259399 | D_A: 0.46171748638153076 D_B: 0.5153625011444092]\n",
            "[Epoch 232/300]\n"
          ]
        },
        {
          "name": "stderr",
          "output_type": "stream",
          "text": [
            "Training: 100%|██████████| 267/267 [01:40<00:00,  2.65batch/s]\n"
          ]
        },
        {
          "name": "stdout",
          "output_type": "stream",
          "text": [
            "[G loss: 2.9412145614624023 | identity: 0.023483796045184135 GAN: 1.4919570684432983 cycle: 0.06797953695058823]\n",
            "[D loss: 0.9386943578720093 | D_A: 0.46699076890945435 D_B: 0.47170355916023254]\n",
            "[Epoch 233/300]\n"
          ]
        },
        {
          "name": "stderr",
          "output_type": "stream",
          "text": [
            "Training: 100%|██████████| 267/267 [01:40<00:00,  2.65batch/s]\n"
          ]
        },
        {
          "name": "stdout",
          "output_type": "stream",
          "text": [
            "[G loss: 2.8735220432281494 | identity: 0.020712653174996376 GAN: 1.4390101432800293 cycle: 0.0694294273853302]\n",
            "[D loss: 1.1015849113464355 | D_A: 0.5373896956443787 D_B: 0.5641951560974121]\n",
            "[Epoch 234/300]\n"
          ]
        },
        {
          "name": "stderr",
          "output_type": "stream",
          "text": [
            "Training: 100%|██████████| 267/267 [01:40<00:00,  2.65batch/s]\n"
          ]
        },
        {
          "name": "stdout",
          "output_type": "stream",
          "text": [
            "[G loss: 2.7397871017456055 | identity: 0.025056112557649612 GAN: 1.3751894235610962 cycle: 0.06519466638565063]\n",
            "[D loss: 0.9453586339950562 | D_A: 0.5161745548248291 D_B: 0.42918407917022705]\n",
            "[Epoch 235/300]\n"
          ]
        },
        {
          "name": "stderr",
          "output_type": "stream",
          "text": [
            "Training: 100%|██████████| 267/267 [01:40<00:00,  2.65batch/s]\n"
          ]
        },
        {
          "name": "stdout",
          "output_type": "stream",
          "text": [
            "[G loss: 2.6660637855529785 | identity: 0.025423910468816757 GAN: 1.2926979064941406 cycle: 0.07015929371118546]\n",
            "[D loss: 1.0239920616149902 | D_A: 0.5165004134178162 D_B: 0.5074915885925293]\n",
            "[Epoch 236/300]\n"
          ]
        },
        {
          "name": "stderr",
          "output_type": "stream",
          "text": [
            "Training: 100%|██████████| 267/267 [01:40<00:00,  2.65batch/s]\n"
          ]
        },
        {
          "name": "stdout",
          "output_type": "stream",
          "text": [
            "[G loss: 2.302603244781494 | identity: 0.02413547784090042 GAN: 1.0534799098968506 cycle: 0.06982479989528656]\n",
            "[D loss: 1.0632109642028809 | D_A: 0.5458858609199524 D_B: 0.5173251628875732]\n",
            "[Epoch 237/300]\n"
          ]
        },
        {
          "name": "stderr",
          "output_type": "stream",
          "text": [
            "Training: 100%|██████████| 267/267 [01:40<00:00,  2.65batch/s]\n"
          ]
        },
        {
          "name": "stdout",
          "output_type": "stream",
          "text": [
            "[G loss: 2.6824657917022705 | identity: 0.021750349551439285 GAN: 1.3321269750595093 cycle: 0.06625249236822128]\n",
            "[D loss: 1.06884765625 | D_A: 0.5232502222061157 D_B: 0.5455973744392395]\n",
            "[Epoch 238/300]\n"
          ]
        },
        {
          "name": "stderr",
          "output_type": "stream",
          "text": [
            "Training: 100%|██████████| 267/267 [01:40<00:00,  2.65batch/s]\n"
          ]
        },
        {
          "name": "stdout",
          "output_type": "stream",
          "text": [
            "[G loss: 2.8244521617889404 | identity: 0.023528311401605606 GAN: 1.429394006729126 cycle: 0.0656832754611969]\n",
            "[D loss: 1.0603973865509033 | D_A: 0.5542330741882324 D_B: 0.5061643123626709]\n",
            "[Epoch 239/300]\n"
          ]
        },
        {
          "name": "stderr",
          "output_type": "stream",
          "text": [
            "Training: 100%|██████████| 267/267 [01:40<00:00,  2.65batch/s]\n"
          ]
        },
        {
          "name": "stdout",
          "output_type": "stream",
          "text": [
            "[G loss: 2.691606283187866 | identity: 0.026663098484277725 GAN: 1.3146812915802002 cycle: 0.06929212808609009]\n",
            "[D loss: 0.9606091976165771 | D_A: 0.48639973998069763 D_B: 0.47420942783355713]\n",
            "[Epoch 240/300]\n"
          ]
        },
        {
          "name": "stderr",
          "output_type": "stream",
          "text": [
            "Training: 100%|██████████| 267/267 [01:40<00:00,  2.65batch/s]\n"
          ]
        },
        {
          "name": "stdout",
          "output_type": "stream",
          "text": [
            "[G loss: 2.9816250801086426 | identity: 0.027162455022335052 GAN: 1.5285824537277222 cycle: 0.06615889072418213]\n",
            "[D loss: 1.003433346748352 | D_A: 0.4764847755432129 D_B: 0.5269485712051392]\n"
          ]
        },
        {
          "name": "stderr",
          "output_type": "stream",
          "text": [
            "Creating feature extractor \"inception-v3-compat\" with features ['2048', 'logits_unbiased']\n",
            "Extracting features from input1\n",
            "Looking for samples non-recursivelty in \"evaluation_dumps/A_B\" with extensions png,jpg,jpeg\n",
            "Found 800 samples, some are lossy-compressed - this may affect metrics\n",
            "Processing samples                                                         \n",
            "Extracting features from input2\n",
            "Processing samples                                                         \n",
            "Inception Score: 2.694909842317352 ± 0.12982534814474203\n",
            "Frechet Inception Distance: 83.40591217843291\n"
          ]
        },
        {
          "name": "stdout",
          "output_type": "stream",
          "text": [
            "Geometric Mean Score: 5.563220810921756\n",
            "Geometric Mean Score: 4.63124203484145\n",
            "A->B | GMS=5.563221 FID=83.405912 IS=2.694910\n",
            "B->A | GMS=4.631242 FID=70.269844 IS=3.276227\n",
            "Average GMS: 5.0972314228816025, Best: 4.7275398696046445\n",
            "💩🚽 Getting Cooked!\n",
            "I'm losing my patience! Best GMS: 4.7275398696046445\n",
            "[Epoch 241/300]\n"
          ]
        },
        {
          "name": "stderr",
          "output_type": "stream",
          "text": [
            "Training: 100%|██████████| 267/267 [01:41<00:00,  2.64batch/s]\n"
          ]
        },
        {
          "name": "stdout",
          "output_type": "stream",
          "text": [
            "[G loss: 2.9088845252990723 | identity: 0.024563102051615715 GAN: 1.4692814350128174 cycle: 0.0680399164557457]\n",
            "[D loss: 0.9547476172447205 | D_A: 0.4791960120201111 D_B: 0.4755516052246094]\n",
            "[Epoch 242/300]\n"
          ]
        },
        {
          "name": "stderr",
          "output_type": "stream",
          "text": [
            "Training: 100%|██████████| 267/267 [01:40<00:00,  2.65batch/s]\n"
          ]
        },
        {
          "name": "stdout",
          "output_type": "stream",
          "text": [
            "[G loss: 2.8499867916107178 | identity: 0.021745353937149048 GAN: 1.4345247745513916 cycle: 0.06764540076255798]\n",
            "[D loss: 0.895506739616394 | D_A: 0.46877482533454895 D_B: 0.4267318844795227]\n",
            "[Epoch 243/300]\n"
          ]
        },
        {
          "name": "stderr",
          "output_type": "stream",
          "text": [
            "Training: 100%|██████████| 267/267 [01:41<00:00,  2.64batch/s]\n"
          ]
        },
        {
          "name": "stdout",
          "output_type": "stream",
          "text": [
            "[G loss: 2.7602877616882324 | identity: 0.023254714906215668 GAN: 1.3885600566864014 cycle: 0.06541930139064789]\n",
            "[D loss: 0.9549099206924438 | D_A: 0.5001543760299683 D_B: 0.4547555446624756]\n",
            "[Epoch 244/300]\n"
          ]
        },
        {
          "name": "stderr",
          "output_type": "stream",
          "text": [
            "Training: 100%|██████████| 267/267 [01:41<00:00,  2.63batch/s]\n"
          ]
        },
        {
          "name": "stdout",
          "output_type": "stream",
          "text": [
            "[G loss: 2.5642518997192383 | identity: 0.023393819108605385 GAN: 1.2566057443618774 cycle: 0.06559494137763977]\n",
            "[D loss: 0.9907078146934509 | D_A: 0.5193102359771729 D_B: 0.4713975787162781]\n",
            "[Epoch 245/300]\n"
          ]
        },
        {
          "name": "stderr",
          "output_type": "stream",
          "text": [
            "Training: 100%|██████████| 267/267 [01:41<00:00,  2.63batch/s]\n"
          ]
        },
        {
          "name": "stdout",
          "output_type": "stream",
          "text": [
            "[G loss: 2.964066505432129 | identity: 0.022501440718770027 GAN: 1.5261712074279785 cycle: 0.06523081660270691]\n",
            "[D loss: 1.0234026908874512 | D_A: 0.5140758752822876 D_B: 0.5093268752098083]\n",
            "[Epoch 246/300]\n"
          ]
        },
        {
          "name": "stderr",
          "output_type": "stream",
          "text": [
            "Training: 100%|██████████| 267/267 [01:41<00:00,  2.64batch/s]\n"
          ]
        },
        {
          "name": "stdout",
          "output_type": "stream",
          "text": [
            "[G loss: 2.448573350906372 | identity: 0.025169195607304573 GAN: 1.138537049293518 cycle: 0.0715598538517952]\n",
            "[D loss: 1.1692841053009033 | D_A: 0.6269773840904236 D_B: 0.542306661605835]\n",
            "[Epoch 247/300]\n"
          ]
        },
        {
          "name": "stderr",
          "output_type": "stream",
          "text": [
            "Training: 100%|██████████| 267/267 [01:41<00:00,  2.64batch/s]\n"
          ]
        },
        {
          "name": "stdout",
          "output_type": "stream",
          "text": [
            "[G loss: 2.9447786808013916 | identity: 0.02965928614139557 GAN: 1.5004452466964722 cycle: 0.06644516438245773]\n",
            "[D loss: 1.080556035041809 | D_A: 0.5884125828742981 D_B: 0.492143452167511]\n",
            "[Epoch 248/300]\n"
          ]
        },
        {
          "name": "stderr",
          "output_type": "stream",
          "text": [
            "Training: 100%|██████████| 267/267 [01:40<00:00,  2.64batch/s]\n"
          ]
        },
        {
          "name": "stdout",
          "output_type": "stream",
          "text": [
            "[G loss: 3.0560154914855957 | identity: 0.02355584129691124 GAN: 1.5691068172454834 cycle: 0.06787995994091034]\n",
            "[D loss: 1.0096200704574585 | D_A: 0.5007517337799072 D_B: 0.5088683366775513]\n",
            "[Epoch 249/300]\n"
          ]
        },
        {
          "name": "stderr",
          "output_type": "stream",
          "text": [
            "Training: 100%|██████████| 267/267 [01:40<00:00,  2.65batch/s]\n"
          ]
        },
        {
          "name": "stdout",
          "output_type": "stream",
          "text": [
            "[G loss: 2.977388858795166 | identity: 0.02375400811433792 GAN: 1.4966984987258911 cycle: 0.07085869461297989]\n",
            "[D loss: 0.9779548645019531 | D_A: 0.5105314254760742 D_B: 0.4674234092235565]\n",
            "[Epoch 250/300]\n"
          ]
        },
        {
          "name": "stderr",
          "output_type": "stream",
          "text": [
            "Training: 100%|██████████| 267/267 [01:40<00:00,  2.65batch/s]\n"
          ]
        },
        {
          "name": "stdout",
          "output_type": "stream",
          "text": [
            "[G loss: 2.692342519760132 | identity: 0.02127215638756752 GAN: 1.3138504028320312 cycle: 0.07002947479486465]\n",
            "[D loss: 1.0281627178192139 | D_A: 0.5147894620895386 D_B: 0.5133732557296753]\n",
            "[Epoch 251/300]\n"
          ]
        },
        {
          "name": "stderr",
          "output_type": "stream",
          "text": [
            "Training: 100%|██████████| 267/267 [01:40<00:00,  2.65batch/s]\n"
          ]
        },
        {
          "name": "stdout",
          "output_type": "stream",
          "text": [
            "[G loss: 2.4733943939208984 | identity: 0.026415616273880005 GAN: 1.183532953262329 cycle: 0.06716793775558472]\n",
            "[D loss: 0.9592812657356262 | D_A: 0.4884400963783264 D_B: 0.4708411693572998]\n",
            "[Epoch 252/300]\n"
          ]
        },
        {
          "name": "stderr",
          "output_type": "stream",
          "text": [
            "Training: 100%|██████████| 267/267 [01:40<00:00,  2.65batch/s]\n"
          ]
        },
        {
          "name": "stdout",
          "output_type": "stream",
          "text": [
            "[G loss: 2.9925858974456787 | identity: 0.02592458948493004 GAN: 1.488569974899292 cycle: 0.07338064163923264]\n",
            "[D loss: 1.0341328382492065 | D_A: 0.5403642654418945 D_B: 0.493768572807312]\n",
            "[Epoch 253/300]\n"
          ]
        },
        {
          "name": "stderr",
          "output_type": "stream",
          "text": [
            "Training: 100%|██████████| 267/267 [01:40<00:00,  2.65batch/s]\n"
          ]
        },
        {
          "name": "stdout",
          "output_type": "stream",
          "text": [
            "[G loss: 3.0097603797912598 | identity: 0.025123197585344315 GAN: 1.4783991575241089 cycle: 0.07670384645462036]\n",
            "[D loss: 0.9677629470825195 | D_A: 0.4815739393234253 D_B: 0.48618900775909424]\n",
            "[Epoch 254/300]\n"
          ]
        },
        {
          "name": "stderr",
          "output_type": "stream",
          "text": [
            "Training: 100%|██████████| 267/267 [01:40<00:00,  2.65batch/s]\n"
          ]
        },
        {
          "name": "stdout",
          "output_type": "stream",
          "text": [
            "[G loss: 2.639774799346924 | identity: 0.0258270762860775 GAN: 1.258184552192688 cycle: 0.07266707718372345]\n",
            "[D loss: 0.9657608270645142 | D_A: 0.49899783730506897 D_B: 0.4667630195617676]\n",
            "[Epoch 255/300]\n"
          ]
        },
        {
          "name": "stderr",
          "output_type": "stream",
          "text": [
            "Training: 100%|██████████| 267/267 [01:40<00:00,  2.65batch/s]\n"
          ]
        },
        {
          "name": "stdout",
          "output_type": "stream",
          "text": [
            "[G loss: 2.754638433456421 | identity: 0.025084540247917175 GAN: 1.3600611686706543 cycle: 0.0689462199807167]\n",
            "[D loss: 0.9566410779953003 | D_A: 0.5012012720108032 D_B: 0.45543980598449707]\n"
          ]
        },
        {
          "name": "stderr",
          "output_type": "stream",
          "text": [
            "Creating feature extractor \"inception-v3-compat\" with features ['2048', 'logits_unbiased']\n",
            "Extracting features from input1\n",
            "Looking for samples non-recursivelty in \"evaluation_dumps/A_B\" with extensions png,jpg,jpeg\n",
            "Found 800 samples, some are lossy-compressed - this may affect metrics\n",
            "Processing samples                                                         \n",
            "Extracting features from input2\n",
            "Processing samples                                                         \n",
            "Inception Score: 2.7890041476552057 ± 0.13147009023632686\n",
            "Frechet Inception Distance: 85.13414618284827\n"
          ]
        },
        {
          "name": "stdout",
          "output_type": "stream",
          "text": [
            "Geometric Mean Score: 5.524936772934042\n",
            "Geometric Mean Score: 4.662028851444492\n",
            "A->B | GMS=5.524937 FID=85.134146 IS=2.789004\n",
            "B->A | GMS=4.662029 FID=71.289581 IS=3.280017\n",
            "Average GMS: 5.093482812189267, Best: 4.7275398696046445\n",
            "💩🚽 Getting Cooked!\n",
            "I'm losing my patience! Best GMS: 4.7275398696046445\n",
            "[Epoch 256/300]\n"
          ]
        },
        {
          "name": "stderr",
          "output_type": "stream",
          "text": [
            "Training: 100%|██████████| 267/267 [01:41<00:00,  2.64batch/s]\n"
          ]
        },
        {
          "name": "stdout",
          "output_type": "stream",
          "text": [
            "[G loss: 2.70041561126709 | identity: 0.025842731818556786 GAN: 1.3311147689819336 cycle: 0.06779006868600845]\n",
            "[D loss: 0.9923121333122253 | D_A: 0.5326244235038757 D_B: 0.4596877098083496]\n",
            "[Epoch 257/300]\n"
          ]
        },
        {
          "name": "stderr",
          "output_type": "stream",
          "text": [
            "Training: 100%|██████████| 267/267 [01:40<00:00,  2.65batch/s]\n"
          ]
        },
        {
          "name": "stdout",
          "output_type": "stream",
          "text": [
            "[G loss: 2.676739454269409 | identity: 0.0230129212141037 GAN: 1.3525512218475342 cycle: 0.062489986419677734]\n",
            "[D loss: 0.9399762153625488 | D_A: 0.5202781558036804 D_B: 0.4196980595588684]\n",
            "[Epoch 258/300]\n"
          ]
        },
        {
          "name": "stderr",
          "output_type": "stream",
          "text": [
            "Training: 100%|██████████| 267/267 [01:40<00:00,  2.65batch/s]\n"
          ]
        },
        {
          "name": "stdout",
          "output_type": "stream",
          "text": [
            "[G loss: 2.7984282970428467 | identity: 0.02302078902721405 GAN: 1.3688626289367676 cycle: 0.0722113624215126]\n",
            "[D loss: 1.0410435199737549 | D_A: 0.5388944149017334 D_B: 0.5021490454673767]\n",
            "[Epoch 259/300]\n"
          ]
        },
        {
          "name": "stderr",
          "output_type": "stream",
          "text": [
            "Training: 100%|██████████| 267/267 [01:41<00:00,  2.64batch/s]\n"
          ]
        },
        {
          "name": "stdout",
          "output_type": "stream",
          "text": [
            "[G loss: 2.8725345134735107 | identity: 0.026269875466823578 GAN: 1.4470100402832031 cycle: 0.06757494807243347]\n",
            "[D loss: 1.0871577262878418 | D_A: 0.5467286705970764 D_B: 0.5404289960861206]\n",
            "[Epoch 260/300]\n"
          ]
        },
        {
          "name": "stderr",
          "output_type": "stream",
          "text": [
            "Training: 100%|██████████| 267/267 [01:41<00:00,  2.63batch/s]\n"
          ]
        },
        {
          "name": "stdout",
          "output_type": "stream",
          "text": [
            "[G loss: 2.6257760524749756 | identity: 0.024621643126010895 GAN: 1.318759560585022 cycle: 0.06230149790644646]\n",
            "[D loss: 0.9506251811981201 | D_A: 0.4879890978336334 D_B: 0.4626361131668091]\n",
            "[Epoch 261/300]\n"
          ]
        },
        {
          "name": "stderr",
          "output_type": "stream",
          "text": [
            "Training: 100%|██████████| 267/267 [01:41<00:00,  2.63batch/s]\n"
          ]
        },
        {
          "name": "stdout",
          "output_type": "stream",
          "text": [
            "[G loss: 2.5025134086608887 | identity: 0.024142585694789886 GAN: 1.2204564809799194 cycle: 0.06476861238479614]\n",
            "[D loss: 1.0296146869659424 | D_A: 0.554912805557251 D_B: 0.4747018814086914]\n",
            "[Epoch 262/300]\n"
          ]
        },
        {
          "name": "stderr",
          "output_type": "stream",
          "text": [
            "Training: 100%|██████████| 267/267 [01:41<00:00,  2.64batch/s]\n"
          ]
        },
        {
          "name": "stdout",
          "output_type": "stream",
          "text": [
            "[G loss: 2.9585506916046143 | identity: 0.024105936288833618 GAN: 1.4887354373931885 cycle: 0.07013413310050964]\n",
            "[D loss: 0.9233380556106567 | D_A: 0.5139951705932617 D_B: 0.4093429148197174]\n",
            "[Epoch 263/300]\n"
          ]
        },
        {
          "name": "stderr",
          "output_type": "stream",
          "text": [
            "Training: 100%|██████████| 267/267 [01:41<00:00,  2.64batch/s]\n"
          ]
        },
        {
          "name": "stdout",
          "output_type": "stream",
          "text": [
            "[G loss: 2.655238151550293 | identity: 0.025231007486581802 GAN: 1.3436989784240723 cycle: 0.061445869505405426]\n",
            "[D loss: 0.9419045448303223 | D_A: 0.5182257890701294 D_B: 0.42367875576019287]\n",
            "[Epoch 264/300]\n"
          ]
        },
        {
          "name": "stderr",
          "output_type": "stream",
          "text": [
            "Training: 100%|██████████| 267/267 [01:40<00:00,  2.65batch/s]\n"
          ]
        },
        {
          "name": "stdout",
          "output_type": "stream",
          "text": [
            "[G loss: 2.7754077911376953 | identity: 0.025386866182088852 GAN: 1.3760316371917725 cycle: 0.06859737634658813]\n",
            "[D loss: 0.9230053424835205 | D_A: 0.5040278434753418 D_B: 0.4189774990081787]\n",
            "[Epoch 265/300]\n"
          ]
        },
        {
          "name": "stderr",
          "output_type": "stream",
          "text": [
            "Training: 100%|██████████| 267/267 [01:40<00:00,  2.65batch/s]\n"
          ]
        },
        {
          "name": "stdout",
          "output_type": "stream",
          "text": [
            "[G loss: 2.5220508575439453 | identity: 0.025133661925792694 GAN: 1.2781527042388916 cycle: 0.057968806475400925]\n",
            "[D loss: 0.9733808040618896 | D_A: 0.49529576301574707 D_B: 0.47808507084846497]\n",
            "[Epoch 266/300]\n"
          ]
        },
        {
          "name": "stderr",
          "output_type": "stream",
          "text": [
            "Training: 100%|██████████| 267/267 [01:40<00:00,  2.65batch/s]\n"
          ]
        },
        {
          "name": "stdout",
          "output_type": "stream",
          "text": [
            "[G loss: 2.8079044818878174 | identity: 0.024224640801548958 GAN: 1.4235750436782837 cycle: 0.06483171135187149]\n",
            "[D loss: 1.0463626384735107 | D_A: 0.5407645106315613 D_B: 0.5055980682373047]\n",
            "[Epoch 267/300]\n"
          ]
        },
        {
          "name": "stderr",
          "output_type": "stream",
          "text": [
            "Training: 100%|██████████| 267/267 [01:40<00:00,  2.65batch/s]\n"
          ]
        },
        {
          "name": "stdout",
          "output_type": "stream",
          "text": [
            "[G loss: 2.7540736198425293 | identity: 0.025600910186767578 GAN: 1.342648983001709 cycle: 0.07144993543624878]\n",
            "[D loss: 1.0221667289733887 | D_A: 0.5465295314788818 D_B: 0.47563716769218445]\n",
            "[Epoch 268/300]\n"
          ]
        },
        {
          "name": "stderr",
          "output_type": "stream",
          "text": [
            "Training: 100%|██████████| 267/267 [01:40<00:00,  2.65batch/s]\n"
          ]
        },
        {
          "name": "stdout",
          "output_type": "stream",
          "text": [
            "[G loss: 3.0562944412231445 | identity: 0.02471509575843811 GAN: 1.5754456520080566 cycle: 0.06684106588363647]\n",
            "[D loss: 0.9174565076828003 | D_A: 0.44836723804473877 D_B: 0.4690892696380615]\n",
            "[Epoch 269/300]\n"
          ]
        },
        {
          "name": "stderr",
          "output_type": "stream",
          "text": [
            "Training: 100%|██████████| 267/267 [01:40<00:00,  2.65batch/s]\n"
          ]
        },
        {
          "name": "stdout",
          "output_type": "stream",
          "text": [
            "[G loss: 2.708836793899536 | identity: 0.026320043951272964 GAN: 1.3473858833312988 cycle: 0.06614379584789276]\n",
            "[D loss: 1.1248581409454346 | D_A: 0.5215880274772644 D_B: 0.6032701730728149]\n",
            "[Epoch 270/300]\n"
          ]
        },
        {
          "name": "stderr",
          "output_type": "stream",
          "text": [
            "Training: 100%|██████████| 267/267 [01:40<00:00,  2.65batch/s]\n"
          ]
        },
        {
          "name": "stdout",
          "output_type": "stream",
          "text": [
            "[G loss: 2.8209009170532227 | identity: 0.02616623230278492 GAN: 1.3862128257751465 cycle: 0.07154154777526855]\n",
            "[D loss: 1.0077295303344727 | D_A: 0.5000908970832825 D_B: 0.507638692855835]\n"
          ]
        },
        {
          "name": "stderr",
          "output_type": "stream",
          "text": [
            "Creating feature extractor \"inception-v3-compat\" with features ['2048', 'logits_unbiased']\n",
            "Extracting features from input1\n",
            "Looking for samples non-recursivelty in \"evaluation_dumps/A_B\" with extensions png,jpg,jpeg\n",
            "Found 800 samples, some are lossy-compressed - this may affect metrics\n",
            "Processing samples                                                         \n",
            "Extracting features from input2\n",
            "Processing samples                                                         \n",
            "Inception Score: 2.803546905857329 ± 0.13857019971425613\n",
            "Frechet Inception Distance: 85.01014644244248\n"
          ]
        },
        {
          "name": "stdout",
          "output_type": "stream",
          "text": [
            "Geometric Mean Score: 5.506573860314476\n",
            "Geometric Mean Score: 4.614237221058327\n",
            "A->B | GMS=5.506574 FID=85.010146 IS=2.803547\n",
            "B->A | GMS=4.614237 FID=71.448151 IS=3.355762\n",
            "Average GMS: 5.060405540686402, Best: 4.7275398696046445\n",
            "💩🚽 Getting Cooked!\n",
            "I'm losing my patience! Best GMS: 4.7275398696046445\n",
            "[Epoch 271/300]\n"
          ]
        },
        {
          "name": "stderr",
          "output_type": "stream",
          "text": [
            "Training: 100%|██████████| 267/267 [01:40<00:00,  2.64batch/s]\n"
          ]
        },
        {
          "name": "stdout",
          "output_type": "stream",
          "text": [
            "[G loss: 2.736112356185913 | identity: 0.025763316079974174 GAN: 1.3753242492675781 cycle: 0.0647362768650055]\n",
            "[D loss: 1.0314733982086182 | D_A: 0.5319978594779968 D_B: 0.49947547912597656]\n",
            "[Epoch 272/300]\n"
          ]
        },
        {
          "name": "stderr",
          "output_type": "stream",
          "text": [
            "Training: 100%|██████████| 267/267 [01:40<00:00,  2.65batch/s]\n"
          ]
        },
        {
          "name": "stdout",
          "output_type": "stream",
          "text": [
            "[G loss: 2.659182071685791 | identity: 0.026571162045001984 GAN: 1.3293644189834595 cycle: 0.06385641545057297]\n",
            "[D loss: 1.0708006620407104 | D_A: 0.5429152250289917 D_B: 0.5278854370117188]\n",
            "[Epoch 273/300]\n"
          ]
        },
        {
          "name": "stderr",
          "output_type": "stream",
          "text": [
            "Training: 100%|██████████| 267/267 [01:40<00:00,  2.65batch/s]\n"
          ]
        },
        {
          "name": "stdout",
          "output_type": "stream",
          "text": [
            "[G loss: 2.8598098754882812 | identity: 0.03128928691148758 GAN: 1.3761537075042725 cycle: 0.07642900198698044]\n",
            "[D loss: 0.9085573554039001 | D_A: 0.5112983584403992 D_B: 0.397258996963501]\n",
            "[Epoch 274/300]\n"
          ]
        },
        {
          "name": "stderr",
          "output_type": "stream",
          "text": [
            "Training: 100%|██████████| 267/267 [01:40<00:00,  2.65batch/s]\n"
          ]
        },
        {
          "name": "stdout",
          "output_type": "stream",
          "text": [
            "[G loss: 2.9869093894958496 | identity: 0.028491895645856857 GAN: 1.49126398563385 cycle: 0.07215215265750885]\n",
            "[D loss: 0.9311622381210327 | D_A: 0.4683322310447693 D_B: 0.4628300070762634]\n",
            "[Epoch 275/300]\n"
          ]
        },
        {
          "name": "stderr",
          "output_type": "stream",
          "text": [
            "Training: 100%|██████████| 267/267 [01:41<00:00,  2.64batch/s]\n"
          ]
        },
        {
          "name": "stdout",
          "output_type": "stream",
          "text": [
            "[G loss: 2.697258710861206 | identity: 0.024913456290960312 GAN: 1.3328261375427246 cycle: 0.06731060147285461]\n",
            "[D loss: 0.9346285462379456 | D_A: 0.4799990952014923 D_B: 0.45462945103645325]\n",
            "[Epoch 276/300]\n"
          ]
        },
        {
          "name": "stderr",
          "output_type": "stream",
          "text": [
            "Training: 100%|██████████| 267/267 [01:41<00:00,  2.64batch/s]\n"
          ]
        },
        {
          "name": "stdout",
          "output_type": "stream",
          "text": [
            "[G loss: 3.053532123565674 | identity: 0.02734149433672428 GAN: 1.5370430946350098 cycle: 0.07206259667873383]\n",
            "[D loss: 0.9624913334846497 | D_A: 0.5810288786888123 D_B: 0.3814624547958374]\n",
            "[Epoch 277/300]\n"
          ]
        },
        {
          "name": "stderr",
          "output_type": "stream",
          "text": [
            "Training: 100%|██████████| 267/267 [01:41<00:00,  2.64batch/s]\n"
          ]
        },
        {
          "name": "stdout",
          "output_type": "stream",
          "text": [
            "[G loss: 3.018927812576294 | identity: 0.02820773422718048 GAN: 1.5367636680603027 cycle: 0.06855744868516922]\n",
            "[D loss: 0.922362208366394 | D_A: 0.48516181111335754 D_B: 0.4372003674507141]\n",
            "[Epoch 278/300]\n"
          ]
        },
        {
          "name": "stderr",
          "output_type": "stream",
          "text": [
            "Training: 100%|██████████| 267/267 [01:41<00:00,  2.64batch/s]\n"
          ]
        },
        {
          "name": "stdout",
          "output_type": "stream",
          "text": [
            "[G loss: 2.688722848892212 | identity: 0.026008322834968567 GAN: 1.3358979225158691 cycle: 0.06588675826787949]\n",
            "[D loss: 0.9672937393188477 | D_A: 0.4911651313304901 D_B: 0.47612863779067993]\n",
            "[Epoch 279/300]\n"
          ]
        },
        {
          "name": "stderr",
          "output_type": "stream",
          "text": [
            "Training: 100%|██████████| 267/267 [01:41<00:00,  2.64batch/s]\n"
          ]
        },
        {
          "name": "stdout",
          "output_type": "stream",
          "text": [
            "[G loss: 2.7792623043060303 | identity: 0.02698320522904396 GAN: 1.3475590944290161 cycle: 0.07309404015541077]\n",
            "[D loss: 1.0257737636566162 | D_A: 0.5464779734611511 D_B: 0.47929584980010986]\n",
            "[Epoch 280/300]\n"
          ]
        },
        {
          "name": "stderr",
          "output_type": "stream",
          "text": [
            "Training: 100%|██████████| 267/267 [01:40<00:00,  2.64batch/s]\n"
          ]
        },
        {
          "name": "stdout",
          "output_type": "stream",
          "text": [
            "[G loss: 2.687448740005493 | identity: 0.023943256586790085 GAN: 1.310779094696045 cycle: 0.06973367929458618]\n",
            "[D loss: 1.0722923278808594 | D_A: 0.5775280594825745 D_B: 0.4947642683982849]\n",
            "[Epoch 281/300]\n"
          ]
        },
        {
          "name": "stderr",
          "output_type": "stream",
          "text": [
            "Training: 100%|██████████| 267/267 [01:40<00:00,  2.65batch/s]\n"
          ]
        },
        {
          "name": "stdout",
          "output_type": "stream",
          "text": [
            "[G loss: 3.021883726119995 | identity: 0.026739928871393204 GAN: 1.5850965976715088 cycle: 0.0617498941719532]\n",
            "[D loss: 1.1509175300598145 | D_A: 0.5470830798149109 D_B: 0.6038344502449036]\n",
            "[Epoch 282/300]\n"
          ]
        },
        {
          "name": "stderr",
          "output_type": "stream",
          "text": [
            "Training: 100%|██████████| 267/267 [01:40<00:00,  2.65batch/s]\n"
          ]
        },
        {
          "name": "stdout",
          "output_type": "stream",
          "text": [
            "[G loss: 2.8891899585723877 | identity: 0.028926141560077667 GAN: 1.4455697536468506 cycle: 0.06919093430042267]\n",
            "[D loss: 1.0289429426193237 | D_A: 0.5175571441650391 D_B: 0.5113857984542847]\n",
            "[Epoch 283/300]\n"
          ]
        },
        {
          "name": "stderr",
          "output_type": "stream",
          "text": [
            "Training: 100%|██████████| 267/267 [01:40<00:00,  2.65batch/s]\n"
          ]
        },
        {
          "name": "stdout",
          "output_type": "stream",
          "text": [
            "[G loss: 3.2166101932525635 | identity: 0.028760693967342377 GAN: 1.6914454698562622 cycle: 0.06506811827421188]\n",
            "[D loss: 0.9790459275245667 | D_A: 0.47392553091049194 D_B: 0.5051203966140747]\n",
            "[Epoch 284/300]\n"
          ]
        },
        {
          "name": "stderr",
          "output_type": "stream",
          "text": [
            "Training: 100%|██████████| 267/267 [01:40<00:00,  2.65batch/s]\n"
          ]
        },
        {
          "name": "stdout",
          "output_type": "stream",
          "text": [
            "[G loss: 3.071505546569824 | identity: 0.02501838654279709 GAN: 1.5672792196273804 cycle: 0.0695568323135376]\n",
            "[D loss: 0.9870294332504272 | D_A: 0.49471455812454224 D_B: 0.4923148453235626]\n",
            "[Epoch 285/300]\n"
          ]
        },
        {
          "name": "stderr",
          "output_type": "stream",
          "text": [
            "Training: 100%|██████████| 267/267 [01:40<00:00,  2.65batch/s]\n"
          ]
        },
        {
          "name": "stdout",
          "output_type": "stream",
          "text": [
            "[G loss: 2.569499969482422 | identity: 0.028264760971069336 GAN: 1.2407078742980957 cycle: 0.06801732629537582]\n",
            "[D loss: 0.9604353904724121 | D_A: 0.4928629994392395 D_B: 0.4675723612308502]\n"
          ]
        },
        {
          "name": "stderr",
          "output_type": "stream",
          "text": [
            "Creating feature extractor \"inception-v3-compat\" with features ['2048', 'logits_unbiased']\n",
            "Extracting features from input1\n",
            "Looking for samples non-recursivelty in \"evaluation_dumps/A_B\" with extensions png,jpg,jpeg\n",
            "Found 800 samples, some are lossy-compressed - this may affect metrics\n",
            "Processing samples                                                         \n",
            "Extracting features from input2\n",
            "Processing samples                                                         \n",
            "Inception Score: 2.7282326690329044 ± 0.14418612475442144\n",
            "Frechet Inception Distance: 85.2951553300704\n"
          ]
        },
        {
          "name": "stdout",
          "output_type": "stream",
          "text": [
            "Geometric Mean Score: 5.591411813435367\n",
            "Geometric Mean Score: 4.68044014473765\n",
            "A->B | GMS=5.591412 FID=85.295155 IS=2.728233\n",
            "B->A | GMS=4.680440 FID=71.106779 IS=3.245919\n",
            "Average GMS: 5.135925979086508, Best: 4.7275398696046445\n",
            "💩🚽 Getting Cooked!\n",
            "I'm losing my patience! Best GMS: 4.7275398696046445\n",
            "[Epoch 286/300]\n"
          ]
        },
        {
          "name": "stderr",
          "output_type": "stream",
          "text": [
            "Training: 100%|██████████| 267/267 [01:41<00:00,  2.64batch/s]\n"
          ]
        },
        {
          "name": "stdout",
          "output_type": "stream",
          "text": [
            "[G loss: 2.8399455547332764 | identity: 0.021838068962097168 GAN: 1.4563101530075073 cycle: 0.06336424499750137]\n",
            "[D loss: 1.0137035846710205 | D_A: 0.5508559942245483 D_B: 0.4628475308418274]\n",
            "[Epoch 287/300]\n"
          ]
        },
        {
          "name": "stderr",
          "output_type": "stream",
          "text": [
            "Training: 100%|██████████| 267/267 [01:40<00:00,  2.65batch/s]\n"
          ]
        },
        {
          "name": "stdout",
          "output_type": "stream",
          "text": [
            "[G loss: 2.937422752380371 | identity: 0.027957510203123093 GAN: 1.4623422622680664 cycle: 0.0715951919555664]\n",
            "[D loss: 0.913368821144104 | D_A: 0.518680214881897 D_B: 0.39468860626220703]\n",
            "[Epoch 288/300]\n"
          ]
        },
        {
          "name": "stderr",
          "output_type": "stream",
          "text": [
            "Training: 100%|██████████| 267/267 [01:40<00:00,  2.64batch/s]\n"
          ]
        },
        {
          "name": "stdout",
          "output_type": "stream",
          "text": [
            "[G loss: 2.9553606510162354 | identity: 0.027834905311465263 GAN: 1.5149469375610352 cycle: 0.06551054120063782]\n",
            "[D loss: 1.0119192600250244 | D_A: 0.5300573110580444 D_B: 0.4818618893623352]\n",
            "[Epoch 289/300]\n"
          ]
        },
        {
          "name": "stderr",
          "output_type": "stream",
          "text": [
            "Training: 100%|██████████| 267/267 [01:41<00:00,  2.64batch/s]\n"
          ]
        },
        {
          "name": "stdout",
          "output_type": "stream",
          "text": [
            "[G loss: 2.720168113708496 | identity: 0.025783773511648178 GAN: 1.3463528156280518 cycle: 0.0674855038523674]\n",
            "[D loss: 0.9298430681228638 | D_A: 0.5256606340408325 D_B: 0.40418240427970886]\n",
            "[Epoch 290/300]\n"
          ]
        },
        {
          "name": "stderr",
          "output_type": "stream",
          "text": [
            "Training: 100%|██████████| 267/267 [01:40<00:00,  2.64batch/s]\n"
          ]
        },
        {
          "name": "stdout",
          "output_type": "stream",
          "text": [
            "[G loss: 3.202681541442871 | identity: 0.028298359364271164 GAN: 1.6304596662521362 cycle: 0.07286936044692993]\n",
            "[D loss: 0.8702711462974548 | D_A: 0.4612513482570648 D_B: 0.40901979804039]\n",
            "[Epoch 291/300]\n"
          ]
        },
        {
          "name": "stderr",
          "output_type": "stream",
          "text": [
            "Training: 100%|██████████| 267/267 [01:41<00:00,  2.64batch/s]\n"
          ]
        },
        {
          "name": "stdout",
          "output_type": "stream",
          "text": [
            "[G loss: 2.934384346008301 | identity: 0.02736843004822731 GAN: 1.4671809673309326 cycle: 0.0706244483590126]\n",
            "[D loss: 0.9027257561683655 | D_A: 0.47087329626083374 D_B: 0.43185245990753174]\n",
            "[Epoch 292/300]\n"
          ]
        },
        {
          "name": "stderr",
          "output_type": "stream",
          "text": [
            "Training: 100%|██████████| 267/267 [01:41<00:00,  2.64batch/s]\n"
          ]
        },
        {
          "name": "stdout",
          "output_type": "stream",
          "text": [
            "[G loss: 2.4678399562835693 | identity: 0.02555016800761223 GAN: 1.160648226737976 cycle: 0.07013174891471863]\n",
            "[D loss: 0.9520353078842163 | D_A: 0.4736252427101135 D_B: 0.4784100651741028]\n",
            "[Epoch 293/300]\n"
          ]
        },
        {
          "name": "stderr",
          "output_type": "stream",
          "text": [
            "Training: 100%|██████████| 267/267 [01:41<00:00,  2.64batch/s]\n"
          ]
        },
        {
          "name": "stdout",
          "output_type": "stream",
          "text": [
            "[G loss: 2.7301130294799805 | identity: 0.02491697110235691 GAN: 1.3743312358856201 cycle: 0.06436994671821594]\n",
            "[D loss: 0.9617645740509033 | D_A: 0.5004013180732727 D_B: 0.4613632559776306]\n",
            "[Epoch 294/300]\n"
          ]
        },
        {
          "name": "stderr",
          "output_type": "stream",
          "text": [
            "Training: 100%|██████████| 267/267 [01:41<00:00,  2.64batch/s]\n"
          ]
        },
        {
          "name": "stdout",
          "output_type": "stream",
          "text": [
            "[G loss: 2.7035558223724365 | identity: 0.02573571912944317 GAN: 1.3286707401275635 cycle: 0.06848140060901642]\n",
            "[D loss: 0.9902725219726562 | D_A: 0.5142298340797424 D_B: 0.4760427176952362]\n",
            "[Epoch 295/300]\n"
          ]
        },
        {
          "name": "stderr",
          "output_type": "stream",
          "text": [
            "Training: 100%|██████████| 267/267 [01:41<00:00,  2.64batch/s]\n"
          ]
        },
        {
          "name": "stdout",
          "output_type": "stream",
          "text": [
            "[G loss: 2.8809547424316406 | identity: 0.02630241960287094 GAN: 1.4470720291137695 cycle: 0.06840445101261139]\n",
            "[D loss: 0.8872129321098328 | D_A: 0.5154646635055542 D_B: 0.37174826860427856]\n",
            "[Epoch 296/300]\n"
          ]
        },
        {
          "name": "stderr",
          "output_type": "stream",
          "text": [
            "Training: 100%|██████████| 267/267 [01:40<00:00,  2.65batch/s]\n"
          ]
        },
        {
          "name": "stdout",
          "output_type": "stream",
          "text": [
            "[G loss: 2.8805887699127197 | identity: 0.03311716765165329 GAN: 1.4443303346633911 cycle: 0.06809762120246887]\n",
            "[D loss: 0.9534460306167603 | D_A: 0.5075938105583191 D_B: 0.44585222005844116]\n",
            "[Epoch 297/300]\n"
          ]
        },
        {
          "name": "stderr",
          "output_type": "stream",
          "text": [
            "Training: 100%|██████████| 267/267 [01:40<00:00,  2.65batch/s]\n"
          ]
        },
        {
          "name": "stdout",
          "output_type": "stream",
          "text": [
            "[G loss: 2.9978904724121094 | identity: 0.026622580364346504 GAN: 1.5375688076019287 cycle: 0.06649148464202881]\n",
            "[D loss: 1.0612232685089111 | D_A: 0.5929907560348511 D_B: 0.46823248267173767]\n",
            "[Epoch 298/300]\n"
          ]
        },
        {
          "name": "stderr",
          "output_type": "stream",
          "text": [
            "Training: 100%|██████████| 267/267 [01:40<00:00,  2.65batch/s]\n"
          ]
        },
        {
          "name": "stdout",
          "output_type": "stream",
          "text": [
            "[G loss: 2.955787420272827 | identity: 0.028491180390119553 GAN: 1.4949406385421753 cycle: 0.06848853081464767]\n",
            "[D loss: 1.0315263271331787 | D_A: 0.5429313778877258 D_B: 0.4885948896408081]\n",
            "[Epoch 299/300]\n"
          ]
        },
        {
          "name": "stderr",
          "output_type": "stream",
          "text": [
            "Training: 100%|██████████| 267/267 [01:40<00:00,  2.65batch/s]\n"
          ]
        },
        {
          "name": "stdout",
          "output_type": "stream",
          "text": [
            "[G loss: 2.758423328399658 | identity: 0.028121132403612137 GAN: 1.3726952075958252 cycle: 0.06712590903043747]\n",
            "[D loss: 0.9908705949783325 | D_A: 0.5509243011474609 D_B: 0.43994632363319397]\n",
            "[Epoch 300/300]\n"
          ]
        },
        {
          "name": "stderr",
          "output_type": "stream",
          "text": [
            "Training: 100%|██████████| 267/267 [01:40<00:00,  2.65batch/s]\n"
          ]
        },
        {
          "name": "stdout",
          "output_type": "stream",
          "text": [
            "[G loss: 2.68742299079895 | identity: 0.030655842274427414 GAN: 1.2864446640014648 cycle: 0.07271000742912292]\n",
            "[D loss: 1.0234525203704834 | D_A: 0.5416955947875977 D_B: 0.48175686597824097]\n"
          ]
        },
        {
          "name": "stderr",
          "output_type": "stream",
          "text": [
            "Creating feature extractor \"inception-v3-compat\" with features ['2048', 'logits_unbiased']\n",
            "Extracting features from input1\n",
            "Looking for samples non-recursivelty in \"evaluation_dumps/A_B\" with extensions png,jpg,jpeg\n",
            "Found 800 samples, some are lossy-compressed - this may affect metrics\n",
            "Processing samples                                                         \n",
            "Extracting features from input2\n",
            "Processing samples                                                         \n",
            "Inception Score: 2.8298144889433123 ± 0.1627732723370752\n",
            "Frechet Inception Distance: 86.49993537250862\n"
          ]
        },
        {
          "name": "stdout",
          "output_type": "stream",
          "text": [
            "Geometric Mean Score: 5.528774902933022\n",
            "Geometric Mean Score: 4.637681659909433\n",
            "A->B | GMS=5.528775 FID=86.499935 IS=2.829814\n",
            "B->A | GMS=4.637682 FID=71.552335 IS=3.326764\n",
            "Average GMS: 5.083228281421228, Best: 4.7275398696046445\n",
            "💩🚽 Getting Cooked!\n",
            "I'm losing my patience! Best GMS: 4.7275398696046445\n"
          ]
        }
      ],
      "source": [
        "\"\"\"\n",
        "Step 7. Training\n",
        "\"\"\"\n",
        "n_epochs = 300\n",
        "EVALUATION_INTERVAL = 15\n",
        "evaluation_scaling = 1\n",
        "patience = 0\n",
        "USEAUTOCAST = False\n",
        "loss_history = []\n",
        "best_metrics = {\n",
        "    'AVG': float('inf'),\n",
        "    'AB': {'GMS': float('inf'), 'FID': float('inf'), 'IS': float('inf')},\n",
        "    'BA': {'GMS': float('inf'), 'FID': float('inf'), 'IS': float('inf')},\n",
        "    'BEST_AB': {'GMS': float('inf'), 'FID': float('inf'), 'IS': float('inf'), 'epoch': float('inf')},\n",
        "    'BEST_BA': {'GMS': float('inf'), 'FID': float('inf'), 'IS': float('inf'), 'epoch': float('inf')}\n",
        "}\n",
        "for epoch in range(1, n_epochs+1):\n",
        "    print(f'[Epoch {epoch}/{n_epochs}]')\n",
        "    epoch_loss = run_one_epoch(\n",
        "        G_AB, G_BA, D_A, D_B, \"train\", trainloader,\n",
        "        criterion_identity, criterion_GAN, criterion_cycle,\n",
        "        optimizer_G, optimizer_D,\n",
        "        dynamic_loss_weighting(epoch, n_epochs)\n",
        "    )\n",
        "\n",
        "    loss_history.append(epoch_loss)\n",
        "\n",
        "    # validation\n",
        "    if epoch % int(EVALUATION_INTERVAL * evaluation_scaling) == 0:\n",
        "        metrics = best_metrics.copy()\n",
        "        metrics['AB']['GMS'], metrics['AB']['FID'], metrics['AB']['IS'] = evaluate(G_AB, \n",
        "                                                                'NO_INPUT_DIR',\n",
        "                                                                'EVAL_DUMP',\n",
        "                                                                'NO_REF_DIR',\n",
        "                                                                loader_params['batch_size'],\n",
        "                                                                evaluation_transforms,\n",
        "                                                                validloader,\n",
        "                                                                'A_B',\n",
        "                                                                verbose=True)\n",
        "        metrics['BA']['GMS'], metrics['BA']['FID'], metrics['BA']['IS'] = evaluate(G_BA, \n",
        "                                                                'NO_INPUT_DIR',\n",
        "                                                                'EVAL_DUMP',\n",
        "                                                                'NO_REF_DIR',\n",
        "                                                                loader_params['batch_size'],\n",
        "                                                                evaluation_transforms,\n",
        "                                                                validloader,\n",
        "                                                                'B_A')\n",
        "\n",
        "        metricsString_AB = \" \".join([f\"{k}={v:4f}\" for k, v in metrics['AB'].items()])\n",
        "        metricsString_BA = \" \".join([f\"{k}={v:4f}\" for k, v in metrics['BA'].items()])\n",
        "        metrics['AVG'] = (metrics['AB']['GMS'] + metrics['BA']['GMS']) / 2\n",
        "\n",
        "        print(\"A->B |\", metricsString_AB)\n",
        "        print(\"B->A |\", metricsString_BA)\n",
        "        print(f\"Average GMS: {metrics['AVG']}, Best: {best_metrics['AVG']}\")\n",
        "\n",
        "        if metrics['AVG'] > best_metrics['AVG'] * 1.05:\n",
        "            print(\"💩🚽 Getting Cooked!\")\n",
        "\n",
        "        elif metrics['AVG'] < best_metrics['AVG']:\n",
        "            best_metrics['AB'] = metrics['AB'].copy()\n",
        "            best_metrics['BA'] = metrics['BA'].copy()\n",
        "            best_metrics['AVG'] = metrics['AVG']\n",
        "            patience = 0\n",
        "            print(\"(ง 🔥 ﾛ 🔥 )ง CooKING! 🚀\")\n",
        "            # Save model checkpoints  \n",
        "            torch.save(G_AB.state_dict(), f'checkpoints/G_AB_{epoch}.pth')\n",
        "            torch.save(D_A.state_dict(), f'checkpoints/D_A_{epoch}.pth')\n",
        "            torch.save(G_BA.state_dict(), f'checkpoints/G_BA_{epoch}.pth')\n",
        "            torch.save(D_B.state_dict(), f'checkpoints/D_B_{epoch}.pth')\n",
        "        else:\n",
        "            patience += 1\n",
        "\n",
        "        if patience >= 3:  # Reduce evaluation frequency\n",
        "            print(\"I'm losing my patience! Best GMS:\", best_metrics['AVG'])\n",
        "            evaluation_interval = int(1.5 * evaluation_scaling)\n",
        "        \n",
        "\n",
        "        if metrics['AB']['GMS'] < best_metrics['BEST_AB']['GMS']:\n",
        "            best_metrics['BEST_AB'] = metrics['AB'].copy()\n",
        "            best_metrics['BEST_AB']['epoch'] = epoch\n",
        "            torch.save(G_AB.state_dict(), f'checkpoints_best/G_AB.pth')\n",
        "            print('Best A->B model saved. Epoch:', epoch)\n",
        "\n",
        "        if metrics['BA']['GMS'] < best_metrics['BEST_BA']['GMS']:\n",
        "            best_metrics['BEST_BA'] = metrics['BA'].copy()\n",
        "            best_metrics['BEST_BA']['epoch'] = epoch\n",
        "            torch.save(G_BA.state_dict(), f'checkpoints_best/G_BA.pth')\n",
        "            print('Best B->A model saved. Epoch:', epoch)\n",
        "\n",
        "torch.save(G_AB.state_dict(), f'checkpoints/G_AB_{n_epochs}.pth')\n",
        "torch.save(D_A.state_dict(), f'checkpoints/D_A_{n_epochs}.pth')\n",
        "torch.save(G_BA.state_dict(), f'checkpoints/G_BA_{n_epochs}.pth')\n",
        "torch.save(D_B.state_dict(), f'checkpoints/D_B_{n_epochs}.pth')"
      ]
    },
    {
      "cell_type": "markdown",
      "id": "52cb0fb1",
      "metadata": {},
      "source": [
        "# Output Results"
      ]
    },
    {
      "cell_type": "code",
      "execution_count": 10,
      "id": "3d70abd1",
      "metadata": {},
      "outputs": [],
      "source": [
        "\n",
        "import pickle\n",
        "from datetime import datetime\n",
        "def plot_losses(loss_history):\n",
        "    formatted_loss_history = {k: [epoch_losses[k] for epoch_losses in loss_history] for k in loss_history[0]}\n",
        "    timestamp = datetime.now().strftime('%Y%m%d_%H%M')\n",
        "\n",
        "    with open(os.path.join(f\"loss_log-{timestamp}.pkl\"), 'wb') as f:\n",
        "        pickle.dump(formatted_loss_history, f)\n",
        "\n",
        "    plt.figure(figsize=(10, 6))\n",
        "    for loss_name, values in formatted_loss_history.items():\n",
        "        plt.plot(values, label=loss_name)\n",
        "\n",
        "    plt.xlabel('Epochs')\n",
        "    plt.ylabel('Loss')\n",
        "    plt.title('Training Losses Over Epochs')\n",
        "    plt.legend()\n",
        "    plt.grid(True)\n",
        "    plt.savefig(f\"loss_plot-{timestamp}.png\")\n",
        "    plt.close()\n"
      ]
    },
    {
      "cell_type": "code",
      "execution_count": 11,
      "id": "84d6ed27",
      "metadata": {},
      "outputs": [
        {
          "name": "stdout",
          "output_type": "stream",
          "text": [
            "Processing latest model...\n"
          ]
        },
        {
          "name": "stderr",
          "output_type": "stream",
          "text": [
            "Creating feature extractor \"inception-v3-compat\" with features ['2048', 'logits_unbiased']\n",
            "Extracting features from input1\n",
            "Looking for samples non-recursivelty in \"../Cartoon_images\" with extensions png,jpg,jpeg\n",
            "Found 1000 samples, some are lossy-compressed - this may affect metrics\n",
            "Processing samples                                                          \n",
            "Extracting features from input2\n",
            "Looking for samples non-recursivelty in \"./VAE_generation_Cartoon/test\" with extensions png,jpg,jpeg\n",
            "Found 1000 samples, some are lossy-compressed - this may affect metrics\n",
            "Processing samples                                                          \n",
            "Inception Score: 2.9008429245819762 ± 0.20075728985691882\n",
            "Frechet Inception Distance: 82.47525992543837\n"
          ]
        },
        {
          "name": "stdout",
          "output_type": "stream",
          "text": [
            "Geometric Mean Score: 5.332117853528706\n"
          ]
        },
        {
          "name": "stderr",
          "output_type": "stream",
          "text": [
            "Creating feature extractor \"inception-v3-compat\" with features ['2048', 'logits_unbiased']\n",
            "Extracting features from input1\n",
            "Looking for samples non-recursivelty in \"../Raw_images\" with extensions png,jpg,jpeg\n",
            "Found 1000 samples, some are lossy-compressed - this may affect metrics\n",
            "Processing samples                                                           \n",
            "Extracting features from input2\n",
            "Looking for samples non-recursivelty in \"./VAE_generation/test\" with extensions png,jpg,jpeg\n",
            "Found 1000 samples, some are lossy-compressed - this may affect metrics\n",
            "Processing samples                                                          \n",
            "Inception Score: 3.4008505085839276 ± 0.30596517491919745\n",
            "Frechet Inception Distance: 66.85725257819956\n"
          ]
        },
        {
          "name": "stdout",
          "output_type": "stream",
          "text": [
            "Geometric Mean Score: 4.43384484746878\n",
            "CSV saved to 300-4_8830-C[5_3321-82_4753-2_9008]-R[4_4338-66_8573-3_4009].csv\n",
            "\n",
            "Processing best sides...\n"
          ]
        },
        {
          "name": "stderr",
          "output_type": "stream",
          "text": [
            "Creating feature extractor \"inception-v3-compat\" with features ['2048', 'logits_unbiased']\n",
            "Extracting features from input1\n",
            "Looking for samples non-recursivelty in \"../Cartoon_images\" with extensions png,jpg,jpeg\n",
            "Found 1000 samples, some are lossy-compressed - this may affect metrics\n",
            "Processing samples                                                           \n",
            "Extracting features from input2\n",
            "Looking for samples non-recursivelty in \"./VAE_generation_Cartoon/test\" with extensions png,jpg,jpeg\n",
            "Found 1000 samples, some are lossy-compressed - this may affect metrics\n",
            "Processing samples                                                          \n",
            "Inception Score: 2.7127886127166505 ± 0.23627424865052654\n",
            "Frechet Inception Distance: 72.77546116562436\n"
          ]
        },
        {
          "name": "stdout",
          "output_type": "stream",
          "text": [
            "Geometric Mean Score: 5.179460271420223\n"
          ]
        },
        {
          "name": "stderr",
          "output_type": "stream",
          "text": [
            "Creating feature extractor \"inception-v3-compat\" with features ['2048', 'logits_unbiased']\n",
            "Extracting features from input1\n",
            "Looking for samples non-recursivelty in \"../Raw_images\" with extensions png,jpg,jpeg\n",
            "Found 1000 samples, some are lossy-compressed - this may affect metrics\n",
            "Processing samples                                                          \n",
            "Extracting features from input2\n",
            "Looking for samples non-recursivelty in \"./VAE_generation/test\" with extensions png,jpg,jpeg\n",
            "Found 1000 samples, some are lossy-compressed - this may affect metrics\n",
            "Processing samples                                                          \n",
            "Inception Score: 3.44570204489441 ± 0.28796388160360237\n",
            "Frechet Inception Distance: 49.15880657218992\n"
          ]
        },
        {
          "name": "stdout",
          "output_type": "stream",
          "text": [
            "Geometric Mean Score: 3.7771288927438262\n",
            "CSV saved to 4_4783-C[5_1795-72_7755-2_7128]-R[3_7771-49_1588-3_4457].csv\n",
            "\n",
            "Processing saved model checkpoints...\n",
            "Evaluating epoch 1\n",
            "Metrics for A -> B: Geometric Mean Score: 6.7655040274618745\n",
            "Geometric Mean Score: 7.409486328867601\n",
            "CSV saved to 1-7_0875-C[6_7655-165_7692-3_6216]-R[7_4095-197_5369-3_5981].csv\n",
            "Evaluating epoch 135\n",
            "Metrics for A -> B: Geometric Mean Score: 5.179460271420223\n",
            "Geometric Mean Score: 3.941129888071213\n",
            "CSV saved to 135-4_5603-C[5_1795-72_7755-2_7128]-R[3_9411-53_4758-3_4428].csv\n",
            "Evaluating epoch 15\n",
            "Metrics for A -> B: Geometric Mean Score: 6.4649891914201625\n",
            "Geometric Mean Score: 4.452947016881468\n",
            "CSV saved to 15-5_4590-C[6_4650-138_2807-3_3085]-R[4_4529-68_5063-3_4549].csv\n",
            "Evaluating epoch 30\n",
            "Metrics for A -> B: Geometric Mean Score: 6.160154907629157\n",
            "Geometric Mean Score: 4.048643343457692\n",
            "CSV saved to 30-5_1044-C[6_1602-113_6670-2_9954]-R[4_0486-55_2035-3_3678].csv\n",
            "Evaluating epoch 300\n",
            "Metrics for A -> B: Geometric Mean Score: 5.332117853528706\n",
            "Geometric Mean Score: 4.43384484746878\n",
            "CSV saved to 300-4_8830-C[5_3321-82_4753-2_9008]-R[4_4338-66_8573-3_4009].csv\n",
            "Evaluating epoch 45\n",
            "Metrics for A -> B: Geometric Mean Score: 5.61226266090413\n",
            "Geometric Mean Score: 4.0325376787998835\n",
            "CSV saved to 45-4_8224-C[5_6123-92_0937-2_9238]-R[4_0325-56_1704-3_4542].csv\n",
            "Evaluating epoch 60\n",
            "Metrics for A -> B: Geometric Mean Score: 5.494519466155027\n",
            "Geometric Mean Score: 3.7486163295408734\n",
            "CSV saved to 60-4_6216-C[5_4945-83_0710-2_7516]-R[3_7486-50_3122-3_5804].csv\n",
            "Evaluating epoch 75\n",
            "Metrics for A -> B: Geometric Mean Score: 5.31720805933538\n",
            "Geometric Mean Score: 3.850225567569825\n",
            "CSV saved to 75-4_5837-C[5_3172-74_1177-2_6215]-R[3_8502-50_5787-3_4119].csv\n"
          ]
        }
      ],
      "source": [
        "plot_losses(loss_history)\n",
        "\n",
        "# Parameters\n",
        "image_size = 128\n",
        "batch_size = loader_params[\"batch_size\"]\n",
        "\n",
        "# data_dir = '/kaggle/input/group-project/image_image_translation'\n",
        "data_dir = '.'\n",
        "\n",
        "\n",
        "def format_score(score):\n",
        "    return \"{:.4f}\".format(score).replace(\".\", \"_\")\n",
        "\n",
        "def report_score(s_value_1, fid_1, is_1, s_value_2, fid_2, is_2, epoch=None):\n",
        "    s_value = np.round((s_value_1+s_value_2)/2, 5)\n",
        "    df = pd.DataFrame({'id': [1], 'label': [s_value]})\n",
        "    filename = f\"{format_score(s_value)}-C[{format_score(s_value_1)}-{format_score(fid_1)}-{format_score(is_1)}]-R[{format_score(s_value_2)}-{format_score(fid_2)}-{format_score(is_2)}]\"\n",
        "    if epoch: filename = f\"{epoch}-{filename}\"\n",
        "    csv_path = filename+\".csv\"\n",
        "    df.to_csv(csv_path, index=False)\n",
        "\n",
        "    print(f\"CSV saved to {csv_path}\")\n",
        "\n",
        "\n",
        "\n",
        "# Process latest model\n",
        "print(\"Processing latest model...\")\n",
        "# G_AB.load_state_dict(torch.load(f'checkpoints_best/G_AB_{n_epochs}.pth'))\n",
        "# G_BA.load_state_dict(torch.load(f'checkpoints_best/G_BA_{n_epochs}.pth'))\n",
        "s_value_1, fid_1, is_1 = evaluate(\n",
        "    model=G_AB,\n",
        "    input_dir=os.path.join(data_dir, 'VAE_generation/test'),\n",
        "    output_dir='../Cartoon_images',\n",
        "    ref_dir=f\"{data_dir}/VAE_generation_Cartoon/test\",\n",
        "    batch_size=batch_size,\n",
        "    generate_transforms=evaluation_transforms,\n",
        "    verbose=True\n",
        ")\n",
        "s_value_2, fid_2, is_2 = evaluate(\n",
        "    model=G_BA,\n",
        "    input_dir=os.path.join(data_dir, 'VAE_generation_Cartoon/test'),\n",
        "    output_dir='../Raw_images',\n",
        "    ref_dir=f\"{data_dir}/VAE_generation/test\",\n",
        "    batch_size=batch_size,\n",
        "    generate_transforms=evaluation_transforms,\n",
        "    verbose=True\n",
        ")\n",
        "report_score(s_value_1, fid_1, is_1, s_value_2, fid_2, is_2, epoch=n_epochs)\n",
        "print()\n",
        "\n",
        "# Process best for each side\n",
        "try:\n",
        "    print(\"Processing best sides...\")\n",
        "    G_AB.load_state_dict(torch.load('checkpoints_best/G_AB.pth'))\n",
        "    G_BA.load_state_dict(torch.load('checkpoints_best/G_BA.pth'))\n",
        "    s_value_1, fid_1, is_1 = evaluate(\n",
        "        model=G_AB,\n",
        "        input_dir=os.path.join(data_dir, 'VAE_generation/test'),\n",
        "        output_dir='../Cartoon_images',\n",
        "        ref_dir=f\"{data_dir}/VAE_generation_Cartoon/test\",\n",
        "        batch_size=batch_size,\n",
        "        generate_transforms=evaluation_transforms,\n",
        "        verbose=True\n",
        "    )\n",
        "    s_value_2, fid_2, is_2 = evaluate(\n",
        "        model=G_BA,\n",
        "        input_dir=os.path.join(data_dir, 'VAE_generation_Cartoon/test'),\n",
        "        output_dir='../Raw_images',\n",
        "        ref_dir=f\"{data_dir}/VAE_generation/test\",\n",
        "        batch_size=batch_size,\n",
        "        generate_transforms=evaluation_transforms,\n",
        "        verbose=True\n",
        "    )\n",
        "    report_score(s_value_1, fid_1, is_1, s_value_2, fid_2, is_2)\n",
        "except:\n",
        "    print(\"Failed to process best sides.\")\n",
        "finally:\n",
        "    print()\n",
        "\n",
        "print(\"Processing saved model checkpoints...\")\n",
        "checkpoints_dir = 'checkpoints'\n",
        "generator_weights = defaultdict(lambda: [None, None])\n",
        "for filename in os.listdir(checkpoints_dir):\n",
        "    model_type, domain, epoch_num = filename[:-4].split('_')\n",
        "    if model_type == 'G':\n",
        "        generator_weights[epoch_num][0 if domain == 'AB' else 1] = os.path.join(checkpoints_dir, filename) \n",
        "\n",
        "for epoch_num, (G_AB_path, G_BA_path) in generator_weights.items():\n",
        "    # Process saved model\n",
        "    G_AB.load_state_dict(torch.load(G_AB_path))\n",
        "    G_BA.load_state_dict(torch.load(G_BA_path))\n",
        "    print(f\"Evaluating epoch {epoch_num}\")\n",
        "\n",
        "    print(\"Metrics for A -> B:\", end=\" \")\n",
        "    # Raw to Cartoon\n",
        "    s_value_1, fid_1, is_1 = evaluate(\n",
        "        model=G_AB,\n",
        "        input_dir=os.path.join(data_dir, 'VAE_generation/test'),\n",
        "        output_dir='../Cartoon_images',\n",
        "        ref_dir=f\"{data_dir}/VAE_generation_Cartoon/test\",\n",
        "        batch_size=batch_size,\n",
        "        generate_transforms=evaluation_transforms\n",
        "    )\n",
        "\n",
        "    # Cartoon to Raw\n",
        "    s_value_2, fid_2, is_2 = evaluate(\n",
        "        model=G_BA,\n",
        "        input_dir=os.path.join(data_dir, 'VAE_generation_Cartoon/test'),\n",
        "        output_dir='../Raw_images',\n",
        "        ref_dir=f\"{data_dir}/VAE_generation/test\",\n",
        "        batch_size=batch_size,\n",
        "        generate_transforms=evaluation_transforms\n",
        "    )\n",
        "\n",
        "    report_score(s_value_1, fid_1, is_1, s_value_2, fid_2, is_2, epoch=epoch_num)\n",
        "\n",
        "\n"
      ]
    },
    {
      "cell_type": "markdown",
      "id": "6d3ad489",
      "metadata": {},
      "source": [
        "# Clean Up"
      ]
    },
    {
      "cell_type": "code",
      "execution_count": null,
      "id": "2ae7c7ab",
      "metadata": {},
      "outputs": [],
      "source": [
        "# import gc\n",
        "# del G_AB, G_BA, D_A, D_B\n",
        "\n",
        "# gc.collect()\n",
        "# with torch.no_grad():\n",
        "#     torch.cuda.empty_cache()"
      ]
    }
  ],
  "metadata": {
    "colab": {
      "provenance": []
    },
    "kaggle": {
      "accelerator": "gpu",
      "dataSources": [
        {
          "datasetId": 6717840,
          "sourceId": 10819976,
          "sourceType": "datasetVersion"
        }
      ],
      "dockerImageVersionId": 30887,
      "isGpuEnabled": true,
      "isInternetEnabled": true,
      "language": "python",
      "sourceType": "notebook"
    },
    "kernelspec": {
      "display_name": "venv313",
      "language": "python",
      "name": "python3"
    },
    "language_info": {
      "codemirror_mode": {
        "name": "ipython",
        "version": 3
      },
      "file_extension": ".py",
      "mimetype": "text/x-python",
      "name": "python",
      "nbconvert_exporter": "python",
      "pygments_lexer": "ipython3",
      "version": "3.13.1"
    },
    "papermill": {
      "default_parameters": {},
      "duration": 9291.681683,
      "end_time": "2021-08-29T17:46:57.805996",
      "environment_variables": {},
      "exception": null,
      "input_path": "__notebook__.ipynb",
      "output_path": "__notebook__.ipynb",
      "parameters": {},
      "start_time": "2021-08-29T15:12:06.124313",
      "version": "2.3.3"
    }
  },
  "nbformat": 4,
  "nbformat_minor": 5
}
