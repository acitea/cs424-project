{
  "cells": [
    {
      "cell_type": "markdown",
      "id": "aa29655b",
      "metadata": {},
      "source": [
        "# Imports"
      ]
    },
    {
      "cell_type": "code",
      "execution_count": 1,
      "id": "3d3d4b1e",
      "metadata": {},
      "outputs": [
        {
          "name": "stdout",
          "output_type": "stream",
          "text": [
            "Random Seed: 1418598704\n"
          ]
        }
      ],
      "source": [
        "import os\n",
        "import torch\n",
        "import torch.nn as nn\n",
        "import numpy as np\n",
        "import cv2\n",
        "import matplotlib.pyplot as plt\n",
        "import itertools\n",
        "import torch_fidelity\n",
        "from torch.utils.data import Dataset, DataLoader\n",
        "from torchvision.datasets import ImageFolder\n",
        "from PIL import Image\n",
        "import torchvision.transforms as transforms\n",
        "import pandas as pd\n",
        "import random\n",
        "import torch.nn.functional as F\n",
        "import sys\n",
        "from tqdm import tqdm\n",
        "\n",
        "# SEED = 42\n",
        "SEED = random.randrange(2**32 - 1)\n",
        "random.seed(SEED)\n",
        "np.random.seed(SEED)\n",
        "torch.manual_seed(SEED)\n",
        "print(\"Random Seed:\", SEED)\n"
      ]
    },
    {
      "cell_type": "markdown",
      "id": "b974f4bc",
      "metadata": {},
      "source": [
        "# Work"
      ]
    },
    {
      "cell_type": "code",
      "execution_count": 2,
      "id": "0d800396",
      "metadata": {},
      "outputs": [
        {
          "name": "stdout",
          "output_type": "stream",
          "text": [
            "Total parameters in CycleGAN model: 23.10 million\n"
          ]
        }
      ],
      "source": [
        "from models.generators import UNetGenerator, FastStyleGenerator\n",
        "from models.discriminators import PatchDiscriminator, RandomKaggleDiscriminator, PatchSpectralDiscriminator\n",
        "\n",
        "\"\"\"\n",
        "Step 4. Initalize G and D¶\n",
        "\"\"\"\n",
        "G_AB = UNetGenerator()\n",
        "D_B = PatchDiscriminator()\n",
        "G_BA = UNetGenerator()\n",
        "D_A = PatchDiscriminator()\n",
        "\n",
        "## Total parameters in CycleGAN should be less than 60MB\n",
        "total_params = sum(p.numel() for p in G_AB.parameters()) + \\\n",
        "               sum(p.numel() for p in G_BA.parameters()) + \\\n",
        "               sum(p.numel() for p in D_A.parameters()) + \\\n",
        "               sum(p.numel() for p in D_B.parameters())\n",
        "\n",
        "\n",
        "total_params_million = total_params / (1024 * 1024)\n",
        "print(f'Total parameters in CycleGAN model: {total_params_million:.2f} million')"
      ]
    },
    {
      "cell_type": "code",
      "execution_count": 3,
      "id": "1eafc098",
      "metadata": {},
      "outputs": [],
      "source": [
        "\"\"\"\n",
        "Step 3. Define Loss\n",
        "\"\"\"\n",
        "from collections import defaultdict\n",
        "from loss_functions import GradientPreservationLoss, IdentityPreservationLoss, PatchNCELoss, HingeAdversarialLoss, EdgeConsistencyLoss, LineContinuityLoss\n",
        "\n",
        "# criterion_GAN = HingeAdversarialLoss()\n",
        "criterion_GAN = nn.BCELoss()\n",
        "criterion_cycle = nn.L1Loss()\n",
        "criterion_identity = IdentityPreservationLoss()\n",
        "criterion_gradient = GradientPreservationLoss()\n",
        "criterion_contrast = PatchNCELoss()\n",
        "# edge_loss = EdgeAwareLoss()\n",
        "\n",
        "\n",
        "def dynamic_loss_weighting(epoch, total_epochs):\n",
        "    # Early epochs: Focus on content preservation\n",
        "    d = defaultdict(float)\n",
        "    if epoch < total_epochs * 0.3:\n",
        "        d.update({\n",
        "            'identity': 5.0,\n",
        "            'gan': 1.0,\n",
        "            'cycle': 10.0,\n",
        "            'facial_component': 2.0,\n",
        "            'edge': 2.0,\n",
        "        })\n",
        "    elif epoch < total_epochs * 0.7:\n",
        "        d.update({\n",
        "            'identity': 2.0,\n",
        "            'gan': 1.0,\n",
        "            'cycle': 10.0,\n",
        "            'line': 2.0,\n",
        "            'facial_component': 5.0,\n",
        "        })\n",
        "    else:\n",
        "        d.update({\n",
        "            'identity': 1.0,\n",
        "            'gan': 1.5,\n",
        "            'cycle': 10.0,\n",
        "            'line': 3.0,\n",
        "            'facial_component': 5.0,\n",
        "        })\n",
        "    return d"
      ]
    },
    {
      "cell_type": "code",
      "execution_count": 4,
      "id": "0a855d14",
      "metadata": {},
      "outputs": [
        {
          "name": "stdout",
          "output_type": "stream",
          "text": [
            "Current GPU: 0\n",
            "Current GPU name: NVIDIA GeForce RTX 4070 Ti\n"
          ]
        }
      ],
      "source": [
        "if torch.cuda.is_available():\n",
        "    print(f\"Current GPU: {torch.cuda.current_device()}\")\n",
        "    print(f\"Current GPU name: {torch.cuda.get_device_name(torch.cuda.current_device())}\")\n",
        "    device = torch.device(\"cuda\")\n",
        "    G_AB = G_AB.cuda()\n",
        "    D_B = D_B.cuda()\n",
        "    G_BA = G_BA.cuda()\n",
        "    D_A = D_A.cuda()\n",
        "    criterion_GAN = criterion_GAN.cuda()\n",
        "    criterion_cycle = criterion_cycle.cuda()\n",
        "    criterion_identity = criterion_identity.cuda()\n",
        "    Tensor = torch.cuda.FloatTensor\n",
        "else:\n",
        "    print(\"PyTorch does not have access to GPU, falling back to CPU\")\n",
        "    Tensor = torch.Tensor\n",
        "    device = torch.device(\"cpu\")\n",
        "\n"
      ]
    },
    {
      "cell_type": "code",
      "execution_count": 5,
      "id": "4b2dcad7",
      "metadata": {},
      "outputs": [],
      "source": [
        "\"\"\"\n",
        "Step 5. Configure Optimizers\n",
        "\"\"\"\n",
        "\n",
        "def get_lr_scheduler(optimizer, n_epochs=100, n_epochs_decay=100, lr_policy='linear'):\n",
        "    if lr_policy == 'linear':\n",
        "        def lambda_rule(epoch):\n",
        "            # Keep constant for first n_epochs, then linearly decay to zero\n",
        "            lr_l = 1.0 - max(0, epoch - n_epochs) / float(n_epochs_decay + 1)\n",
        "            return lr_l\n",
        "        scheduler = torch.optim.lr_scheduler.LambdaLR(optimizer, lr_lambda=lambda_rule)\n",
        "    else:\n",
        "        raise NotImplementedError(f'learning rate policy {lr_policy} not implemented')\n",
        "    return scheduler\n",
        "\n",
        "# Optimizer setup\n",
        "optimizer_G = torch.optim.Adam(itertools.chain(G_AB.parameters(), G_BA.parameters()),\n",
        "                               lr=0.0002, betas=(0.5, 0.999))\n",
        "optimizer_D = torch.optim.Adam(itertools.chain(D_A.parameters(), D_B.parameters()),\n",
        "                               lr=0.0002, betas=(0.5, 0.999))\n",
        "\n",
        "# Learning rate schedulers\n",
        "scheduler_G = get_lr_scheduler(optimizer_G, n_epochs=100, n_epochs_decay=100)\n",
        "scheduler_D = get_lr_scheduler(optimizer_D, n_epochs=100, n_epochs_decay=100)\n"
      ]
    },
    {
      "cell_type": "code",
      "execution_count": 6,
      "id": "2479d552",
      "metadata": {},
      "outputs": [],
      "source": [
        "from typing import Callable, Literal\n",
        "\n",
        "\n",
        "def run_one_epoch(\n",
        "    G_AB: nn.Module,\n",
        "    G_BA: nn.Module,\n",
        "    D_A: nn.Module,\n",
        "    D_B: nn.Module,\n",
        "    state: Literal[\"train\", \"eval\"],\n",
        "    dataloader: DataLoader,\n",
        "    criterion_identity: Callable,\n",
        "    criterion_GAN: Callable,\n",
        "    criterion_cycle: Callable,\n",
        "    optimizer_G: torch.optim.Optimizer,\n",
        "    optimizer_D: torch.optim.Optimizer,\n",
        "    # optimizer_D_A: torch.optim.Optimizer,\n",
        "    # optimizer_D_B: torch.optim.Optimizer,\n",
        "    lambdas: dict[str, float],\n",
        ") -> dict[str, float]:\n",
        "\n",
        "    # Set training/evaluation mode only when necessary\n",
        "    if state == \"train\":\n",
        "        G_AB.train(), G_BA.train()\n",
        "        D_A.train(), D_B.train()\n",
        "    else:\n",
        "        G_AB.eval(), G_BA.eval()\n",
        "        D_A.eval(), D_B.eval()\n",
        "\n",
        "    running_losses = {\n",
        "        \"G\": 0.0, \"D_A\": 0.0, \"D_B\": 0.0,\n",
        "        \"identity\": 0.0, \"gan\": 0.0, \"cycle\": 0.0, \"line\": 0.0\n",
        "    }\n",
        "\n",
        "    # No gradient tracking during evaluation\n",
        "    torch.set_grad_enabled(state == \"train\")\n",
        "    with tqdm(dataloader, unit=\"batch\", desc=\"Training\" if state == \"train\" else \"Validation\") as tepoch:\n",
        "        for real_A, real_B in tepoch:\n",
        "            optimizer_G.zero_grad()\n",
        "            real_A, real_B = real_A.to(device, dtype=torch.float32, non_blocking=True), real_B.to(device, dtype=torch.float32, non_blocking=True)\n",
        "\n",
        "            # Prepare ground truth labels\n",
        "            valid, fake = torch.ones(real_A.size(0), 1, device=device, requires_grad=False), torch.zeros(real_A.size(0), 1, device=device, requires_grad=False)\n",
        "\n",
        "            # Train Generators\n",
        "            fake_B = G_AB(real_A)\n",
        "            fake_A = G_BA(real_B)\n",
        "\n",
        "            # Identity loss\n",
        "            loss_id_A = criterion_identity(fake_B, real_A)\n",
        "            loss_id_B = criterion_identity(fake_A, real_B)\n",
        "            loss_identity = (loss_id_A + loss_id_B) / 2\n",
        "\n",
        "            # GAN loss\n",
        "            loss_GAN_AB = criterion_GAN(D_B(fake_B), valid)\n",
        "            loss_GAN_BA = criterion_GAN(D_A(fake_A), valid)\n",
        "            loss_GAN = (loss_GAN_AB + loss_GAN_BA) / 2\n",
        "\n",
        "            # Cycle loss\n",
        "            recov_A = G_BA(fake_B)\n",
        "            recov_B = G_AB(fake_A)\n",
        "            loss_cycle_A = criterion_cycle(recov_A, real_A)\n",
        "            loss_cycle_B = criterion_cycle(recov_B, real_B)\n",
        "            loss_cycle = (loss_cycle_A + loss_cycle_B) / 2\n",
        "\n",
        "            # # Line continuity loss\n",
        "            # loss_line_A = line_loss(fake_A, real_A)\n",
        "            # loss_line_B = line_loss(fake_B, real_B)\n",
        "            # loss_line = (loss_line_A + loss_line_B) / 2\n",
        "\n",
        "            # Total generator loss\n",
        "            loss_G = lambdas['identity'] * loss_identity + lambdas['gan'] * loss_GAN + lambdas['cycle'] * loss_cycle\n",
        "\n",
        "            if state == \"train\":\n",
        "                loss_G.backward()\n",
        "                optimizer_G.step()\n",
        "\n",
        "                optimizer_D.zero_grad()\n",
        "                # Train Discriminators\n",
        "                # optimizer_D_A.zero_grad()\n",
        "                # optimizer_D_B.zero_grad()\n",
        "                \n",
        "                loss_real_A = criterion_GAN(D_A(real_A), valid)\n",
        "                loss_fake_A = criterion_GAN(D_A(fake_A.detach()), fake)\n",
        "                loss_D_A = (loss_real_A + loss_fake_A) / 2\n",
        "                \n",
        "                loss_real_B = criterion_GAN(D_B(real_B), valid)\n",
        "                loss_fake_B = criterion_GAN(D_B(fake_B.detach()), fake)\n",
        "                loss_D_B = (loss_real_B + loss_fake_B) / 2\n",
        "                \n",
        "                loss_D = (loss_D_A + loss_D_B)\n",
        "                loss_D.backward()\n",
        "                optimizer_D.step()\n",
        "                # optimizer_D_A.step()\n",
        "                # optimizer_D_B.step()\n",
        "\n",
        "            # Accumulate losses\n",
        "            running_losses[\"G\"] += loss_G.item()\n",
        "            running_losses[\"D_A\"] += loss_D_A.item()\n",
        "            running_losses[\"D_B\"] += loss_D_B.item()\n",
        "            running_losses[\"identity\"] += loss_identity.item()\n",
        "            running_losses[\"gan\"] += loss_GAN.item()\n",
        "            running_losses[\"cycle\"] += loss_cycle.item()\n",
        "            # running_losses[\"line\"] += loss_line.item()\n",
        "\n",
        "    print(f'[G loss: {loss_G.item()} | identity: {loss_identity.item()} GAN: {loss_GAN.item()} cycle: {loss_cycle.item()}]')\n",
        "    print(f'[D loss: {loss_D.item()} | D_A: {loss_D_A.item()} D_B: {loss_D_B.item()}]')\n",
        "    # Average the losses over the dataset\n",
        "    return {k: v / len(dataloader) for k, v in running_losses.items()}"
      ]
    },
    {
      "cell_type": "code",
      "execution_count": 7,
      "id": "6e619ac7",
      "metadata": {},
      "outputs": [],
      "source": [
        "\"\"\"\n",
        "Step 6. DataLoader\n",
        "\"\"\"\n",
        "from CustomImageDataset import CustomImageDataset as ImageDataset\n",
        "# data_dir = '/kaggle/input/group-project/image_image_translation'\n",
        "data_dir = ''\n",
        "\n",
        "image_size = (128, 128)\n",
        "transforms_ = transforms.Compose([\n",
        "    transforms.Resize(image_size),\n",
        "    transforms.ToTensor(),\n",
        "    transforms.Normalize((0.5, 0.5, 0.5), (0.5, 0.5, 0.5))\n",
        "])\n",
        "\n",
        "loader_params = {\n",
        "    \"batch_size\": 20,\n",
        "    \"num_workers\": 2,\n",
        "    \"pin_memory\": False,\n",
        "    \"shuffle\": True,\n",
        "    # \"prefetch_factor\": 2,\n",
        "    \"persistent_workers\": True\n",
        "}\n",
        "\n",
        "\n",
        "trainloader = DataLoader(\n",
        "    ImageDataset(data_dir, mode='train', transform=transforms_),\n",
        "    **loader_params\n",
        ")\n",
        "\n",
        "loader_params[\"shuffle\"] = False\n",
        "validloader = DataLoader(\n",
        "    ImageDataset(data_dir, mode='valid', transform=transforms_),\n",
        "    **loader_params\n",
        ")"
      ]
    },
    {
      "cell_type": "code",
      "execution_count": 8,
      "id": "409ea73f-b928-4e03-bc93-65204998136c",
      "metadata": {
        "id": "409ea73f-b928-4e03-bc93-65204998136c",
        "trusted": true
      },
      "outputs": [
        {
          "name": "stdout",
          "output_type": "stream",
          "text": [
            "[Epoch 1/200]\n"
          ]
        },
        {
          "name": "stderr",
          "output_type": "stream",
          "text": [
            "Training: 100%|██████████| 160/160 [01:20<00:00,  1.99batch/s]\n"
          ]
        },
        {
          "name": "stdout",
          "output_type": "stream",
          "text": [
            "[G loss: 3.1249022483825684 | identity: 0.11807626485824585 GAN: 0.7539727687835693 cycle: 0.1780548244714737]\n",
            "[D loss: 1.298529863357544 | D_A: 0.6687344908714294 D_B: 0.6297953128814697]\n",
            "[Epoch 2/200]\n"
          ]
        },
        {
          "name": "stderr",
          "output_type": "stream",
          "text": [
            "Training: 100%|██████████| 160/160 [01:14<00:00,  2.13batch/s]\n"
          ]
        },
        {
          "name": "stdout",
          "output_type": "stream",
          "text": [
            "[G loss: 3.084479331970215 | identity: 0.09351526945829391 GAN: 0.8887666463851929 cycle: 0.17281362414360046]\n",
            "[D loss: 1.09140944480896 | D_A: 0.5438265800476074 D_B: 0.5475828647613525]\n",
            "[Epoch 3/200]\n"
          ]
        },
        {
          "name": "stderr",
          "output_type": "stream",
          "text": [
            "Training: 100%|██████████| 160/160 [01:15<00:00,  2.11batch/s]\n"
          ]
        },
        {
          "name": "stdout",
          "output_type": "stream",
          "text": [
            "[G loss: 2.8346965312957764 | identity: 0.078213632106781 GAN: 0.898759126663208 cycle: 0.15448692440986633]\n",
            "[D loss: 0.9998123049736023 | D_A: 0.5343945026397705 D_B: 0.4654178023338318]\n",
            "[Epoch 4/200]\n"
          ]
        },
        {
          "name": "stderr",
          "output_type": "stream",
          "text": [
            "Training: 100%|██████████| 160/160 [01:15<00:00,  2.12batch/s]\n"
          ]
        },
        {
          "name": "stdout",
          "output_type": "stream",
          "text": [
            "[G loss: 2.685359477996826 | identity: 0.07695738226175308 GAN: 0.9445135593414307 cycle: 0.13560590147972107]\n",
            "[D loss: 0.9915921688079834 | D_A: 0.5839433670043945 D_B: 0.40764880180358887]\n",
            "[Epoch 5/200]\n"
          ]
        },
        {
          "name": "stderr",
          "output_type": "stream",
          "text": [
            "Training: 100%|██████████| 160/160 [01:14<00:00,  2.14batch/s]\n"
          ]
        },
        {
          "name": "stdout",
          "output_type": "stream",
          "text": [
            "[G loss: 2.7170677185058594 | identity: 0.08187495917081833 GAN: 0.9024450778961182 cycle: 0.14052477478981018]\n",
            "[D loss: 1.0561755895614624 | D_A: 0.5838242769241333 D_B: 0.4723513126373291]\n",
            "[Epoch 6/200]\n"
          ]
        },
        {
          "name": "stderr",
          "output_type": "stream",
          "text": [
            "Training: 100%|██████████| 160/160 [01:14<00:00,  2.14batch/s]\n"
          ]
        },
        {
          "name": "stdout",
          "output_type": "stream",
          "text": [
            "[G loss: 3.2656846046447754 | identity: 0.08247421681880951 GAN: 1.0303808450698853 cycle: 0.18229326605796814]\n",
            "[D loss: 1.000614881515503 | D_A: 0.5343567728996277 D_B: 0.46625804901123047]\n",
            "[Epoch 7/200]\n"
          ]
        },
        {
          "name": "stderr",
          "output_type": "stream",
          "text": [
            "Training: 100%|██████████| 160/160 [01:14<00:00,  2.14batch/s]\n"
          ]
        },
        {
          "name": "stdout",
          "output_type": "stream",
          "text": [
            "[G loss: 2.5520691871643066 | identity: 0.0820823460817337 GAN: 0.9019919633865356 cycle: 0.12396656721830368]\n",
            "[D loss: 1.1402349472045898 | D_A: 0.6350061893463135 D_B: 0.5052286982536316]\n",
            "[Epoch 8/200]\n"
          ]
        },
        {
          "name": "stderr",
          "output_type": "stream",
          "text": [
            "Training: 100%|██████████| 160/160 [01:14<00:00,  2.14batch/s]\n"
          ]
        },
        {
          "name": "stdout",
          "output_type": "stream",
          "text": [
            "[G loss: 2.6160836219787598 | identity: 0.07211015373468399 GAN: 1.0453461408615112 cycle: 0.1210186779499054]\n",
            "[D loss: 1.1241345405578613 | D_A: 0.6047364473342896 D_B: 0.5193981528282166]\n",
            "[Epoch 9/200]\n"
          ]
        },
        {
          "name": "stderr",
          "output_type": "stream",
          "text": [
            "Training: 100%|██████████| 160/160 [01:14<00:00,  2.13batch/s]\n"
          ]
        },
        {
          "name": "stdout",
          "output_type": "stream",
          "text": [
            "[G loss: 2.750093460083008 | identity: 0.0799054503440857 GAN: 0.8786400556564331 cycle: 0.14719262719154358]\n",
            "[D loss: 1.1176059246063232 | D_A: 0.6125754117965698 D_B: 0.5050304532051086]\n",
            "[Epoch 10/200]\n"
          ]
        },
        {
          "name": "stderr",
          "output_type": "stream",
          "text": [
            "Training: 100%|██████████| 160/160 [01:14<00:00,  2.14batch/s]\n"
          ]
        },
        {
          "name": "stdout",
          "output_type": "stream",
          "text": [
            "[G loss: 2.567897319793701 | identity: 0.07674886286258698 GAN: 0.8606473207473755 cycle: 0.13235057890415192]\n",
            "[D loss: 1.1909873485565186 | D_A: 0.6356446146965027 D_B: 0.5553427934646606]\n",
            "[Epoch 11/200]\n"
          ]
        },
        {
          "name": "stderr",
          "output_type": "stream",
          "text": [
            "Training: 100%|██████████| 160/160 [01:14<00:00,  2.15batch/s]\n"
          ]
        },
        {
          "name": "stdout",
          "output_type": "stream",
          "text": [
            "[G loss: 2.4894590377807617 | identity: 0.0785139799118042 GAN: 0.8186011910438538 cycle: 0.12782877683639526]\n",
            "[D loss: 1.2176810503005981 | D_A: 0.6492592692375183 D_B: 0.5684217810630798]\n",
            "[Epoch 12/200]\n"
          ]
        },
        {
          "name": "stderr",
          "output_type": "stream",
          "text": [
            "Training: 100%|██████████| 160/160 [01:14<00:00,  2.15batch/s]\n"
          ]
        },
        {
          "name": "stdout",
          "output_type": "stream",
          "text": [
            "[G loss: 2.4166393280029297 | identity: 0.0693303719162941 GAN: 0.8927463293075562 cycle: 0.11772412061691284]\n",
            "[D loss: 1.1849955320358276 | D_A: 0.6135878562927246 D_B: 0.571407675743103]\n",
            "[Epoch 13/200]\n"
          ]
        },
        {
          "name": "stderr",
          "output_type": "stream",
          "text": [
            "Training: 100%|██████████| 160/160 [01:14<00:00,  2.15batch/s]\n"
          ]
        },
        {
          "name": "stdout",
          "output_type": "stream",
          "text": [
            "[G loss: 2.4112768173217773 | identity: 0.0741153433918953 GAN: 0.9265214204788208 cycle: 0.11141787469387054]\n",
            "[D loss: 1.1345289945602417 | D_A: 0.6500275731086731 D_B: 0.4845014214515686]\n",
            "[Epoch 14/200]\n"
          ]
        },
        {
          "name": "stderr",
          "output_type": "stream",
          "text": [
            "Training: 100%|██████████| 160/160 [01:14<00:00,  2.14batch/s]\n"
          ]
        },
        {
          "name": "stdout",
          "output_type": "stream",
          "text": [
            "[G loss: 2.31013822555542 | identity: 0.07135570049285889 GAN: 0.8808146119117737 cycle: 0.10725449025630951]\n",
            "[D loss: 1.2192583084106445 | D_A: 0.6252433061599731 D_B: 0.5940149426460266]\n",
            "[Epoch 15/200]\n"
          ]
        },
        {
          "name": "stderr",
          "output_type": "stream",
          "text": [
            "Training: 100%|██████████| 160/160 [01:14<00:00,  2.14batch/s]\n"
          ]
        },
        {
          "name": "stdout",
          "output_type": "stream",
          "text": [
            "[G loss: 2.190796375274658 | identity: 0.06981679797172546 GAN: 0.8243235349655151 cycle: 0.10173888504505157]\n",
            "[D loss: 1.2453992366790771 | D_A: 0.6782345175743103 D_B: 0.5671646595001221]\n",
            "[Epoch 16/200]\n"
          ]
        },
        {
          "name": "stderr",
          "output_type": "stream",
          "text": [
            "Training: 100%|██████████| 160/160 [01:14<00:00,  2.15batch/s]\n"
          ]
        },
        {
          "name": "stdout",
          "output_type": "stream",
          "text": [
            "[G loss: 2.1349377632141113 | identity: 0.07398606091737747 GAN: 0.7571187615394592 cycle: 0.10078887641429901]\n",
            "[D loss: 1.2306373119354248 | D_A: 0.6199885010719299 D_B: 0.6106488108634949]\n",
            "[Epoch 17/200]\n"
          ]
        },
        {
          "name": "stderr",
          "output_type": "stream",
          "text": [
            "Training: 100%|██████████| 160/160 [01:14<00:00,  2.14batch/s]\n"
          ]
        },
        {
          "name": "stdout",
          "output_type": "stream",
          "text": [
            "[G loss: 2.107522964477539 | identity: 0.06947795301675797 GAN: 0.8123016953468323 cycle: 0.09478316456079483]\n",
            "[D loss: 1.216559886932373 | D_A: 0.6426582932472229 D_B: 0.5739015340805054]\n",
            "[Epoch 18/200]\n"
          ]
        },
        {
          "name": "stderr",
          "output_type": "stream",
          "text": [
            "Training: 100%|██████████| 160/160 [01:14<00:00,  2.14batch/s]\n"
          ]
        },
        {
          "name": "stdout",
          "output_type": "stream",
          "text": [
            "[G loss: 2.6663565635681152 | identity: 0.09723058342933655 GAN: 0.8835105895996094 cycle: 0.12966932356357574]\n",
            "[D loss: 1.1041176319122314 | D_A: 0.619200587272644 D_B: 0.4849171042442322]\n",
            "[Epoch 19/200]\n"
          ]
        },
        {
          "name": "stderr",
          "output_type": "stream",
          "text": [
            "Training: 100%|██████████| 160/160 [01:14<00:00,  2.15batch/s]\n"
          ]
        },
        {
          "name": "stdout",
          "output_type": "stream",
          "text": [
            "[G loss: 2.3073925971984863 | identity: 0.08071441948413849 GAN: 0.9244996309280396 cycle: 0.09793208539485931]\n",
            "[D loss: 1.1178879737854004 | D_A: 0.6064672470092773 D_B: 0.511420726776123]\n",
            "[Epoch 20/200]\n"
          ]
        },
        {
          "name": "stderr",
          "output_type": "stream",
          "text": [
            "Training: 100%|██████████| 160/160 [01:14<00:00,  2.14batch/s]\n"
          ]
        },
        {
          "name": "stdout",
          "output_type": "stream",
          "text": [
            "[G loss: 2.1600232124328613 | identity: 0.0680139884352684 GAN: 0.7549552321434021 cycle: 0.1064998134970665]\n",
            "[D loss: 1.156652808189392 | D_A: 0.6097666025161743 D_B: 0.5468862056732178]\n",
            "[Epoch 21/200]\n"
          ]
        },
        {
          "name": "stderr",
          "output_type": "stream",
          "text": [
            "Training: 100%|██████████| 160/160 [01:14<00:00,  2.14batch/s]\n"
          ]
        },
        {
          "name": "stdout",
          "output_type": "stream",
          "text": [
            "[G loss: 2.324533462524414 | identity: 0.08025387674570084 GAN: 0.8483906984329224 cycle: 0.10748735815286636]\n",
            "[D loss: 1.1301937103271484 | D_A: 0.6130435466766357 D_B: 0.5171501040458679]\n",
            "[Epoch 22/200]\n"
          ]
        },
        {
          "name": "stderr",
          "output_type": "stream",
          "text": [
            "Training: 100%|██████████| 160/160 [01:14<00:00,  2.14batch/s]\n"
          ]
        },
        {
          "name": "stdout",
          "output_type": "stream",
          "text": [
            "[G loss: 2.292598009109497 | identity: 0.07295085489749908 GAN: 0.8907614946365356 cycle: 0.10370822250843048]\n",
            "[D loss: 1.044633150100708 | D_A: 0.5255553722381592 D_B: 0.5190777778625488]\n",
            "[Epoch 23/200]\n"
          ]
        },
        {
          "name": "stderr",
          "output_type": "stream",
          "text": [
            "Training: 100%|██████████| 160/160 [01:14<00:00,  2.14batch/s]\n"
          ]
        },
        {
          "name": "stdout",
          "output_type": "stream",
          "text": [
            "[G loss: 2.1663291454315186 | identity: 0.07341264188289642 GAN: 0.942620038986206 cycle: 0.08566457778215408]\n",
            "[D loss: 1.1498091220855713 | D_A: 0.6062520146369934 D_B: 0.5435571074485779]\n",
            "[Epoch 24/200]\n"
          ]
        },
        {
          "name": "stderr",
          "output_type": "stream",
          "text": [
            "Training: 100%|██████████| 160/160 [01:14<00:00,  2.14batch/s]\n"
          ]
        },
        {
          "name": "stdout",
          "output_type": "stream",
          "text": [
            "[G loss: 2.071658134460449 | identity: 0.07138638943433762 GAN: 0.8055005073547363 cycle: 0.09092257171869278]\n",
            "[D loss: 1.1173608303070068 | D_A: 0.5888603925704956 D_B: 0.5285003781318665]\n",
            "[Epoch 25/200]\n"
          ]
        },
        {
          "name": "stderr",
          "output_type": "stream",
          "text": [
            "Training: 100%|██████████| 160/160 [01:14<00:00,  2.15batch/s]\n"
          ]
        },
        {
          "name": "stdout",
          "output_type": "stream",
          "text": [
            "[G loss: 2.2762608528137207 | identity: 0.09277202188968658 GAN: 0.9756840467453003 cycle: 0.08367165923118591]\n",
            "[D loss: 1.1277225017547607 | D_A: 0.6190866231918335 D_B: 0.5086358189582825]\n",
            "[Epoch 26/200]\n"
          ]
        },
        {
          "name": "stderr",
          "output_type": "stream",
          "text": [
            "Training: 100%|██████████| 160/160 [01:14<00:00,  2.14batch/s]\n"
          ]
        },
        {
          "name": "stdout",
          "output_type": "stream",
          "text": [
            "[G loss: 2.2532126903533936 | identity: 0.09171958267688751 GAN: 1.003825068473816 cycle: 0.07907897233963013]\n",
            "[D loss: 1.2026550769805908 | D_A: 0.6666321754455566 D_B: 0.5360228419303894]\n",
            "[Epoch 27/200]\n"
          ]
        },
        {
          "name": "stderr",
          "output_type": "stream",
          "text": [
            "Training: 100%|██████████| 160/160 [01:14<00:00,  2.14batch/s]\n"
          ]
        },
        {
          "name": "stdout",
          "output_type": "stream",
          "text": [
            "[G loss: 2.2524263858795166 | identity: 0.08374733477830887 GAN: 0.9667657613754272 cycle: 0.08669239282608032]\n",
            "[D loss: 1.0740083456039429 | D_A: 0.5354969501495361 D_B: 0.5385113954544067]\n",
            "[Epoch 28/200]\n"
          ]
        },
        {
          "name": "stderr",
          "output_type": "stream",
          "text": [
            "Training: 100%|██████████| 160/160 [01:14<00:00,  2.14batch/s]\n"
          ]
        },
        {
          "name": "stdout",
          "output_type": "stream",
          "text": [
            "[G loss: 2.2647323608398438 | identity: 0.09040123224258423 GAN: 0.8743523359298706 cycle: 0.09383737295866013]\n",
            "[D loss: 1.1274995803833008 | D_A: 0.5958260297775269 D_B: 0.5316735506057739]\n",
            "[Epoch 29/200]\n"
          ]
        },
        {
          "name": "stderr",
          "output_type": "stream",
          "text": [
            "Training: 100%|██████████| 160/160 [01:14<00:00,  2.14batch/s]\n"
          ]
        },
        {
          "name": "stdout",
          "output_type": "stream",
          "text": [
            "[G loss: 1.8925306797027588 | identity: 0.07465080916881561 GAN: 0.7938321828842163 cycle: 0.07254444807767868]\n",
            "[D loss: 1.1241906881332397 | D_A: 0.5725512504577637 D_B: 0.5516394376754761]\n",
            "[Epoch 30/200]\n"
          ]
        },
        {
          "name": "stderr",
          "output_type": "stream",
          "text": [
            "Training: 100%|██████████| 160/160 [01:14<00:00,  2.14batch/s]\n"
          ]
        },
        {
          "name": "stdout",
          "output_type": "stream",
          "text": [
            "[G loss: 2.1470794677734375 | identity: 0.09178558737039566 GAN: 0.891248345375061 cycle: 0.07969032227993011]\n",
            "[D loss: 1.115006685256958 | D_A: 0.5649267435073853 D_B: 0.550079882144928]\n",
            "[Epoch 31/200]\n"
          ]
        },
        {
          "name": "stderr",
          "output_type": "stream",
          "text": [
            "Training: 100%|██████████| 160/160 [01:14<00:00,  2.14batch/s]\n"
          ]
        },
        {
          "name": "stdout",
          "output_type": "stream",
          "text": [
            "[G loss: 2.1475465297698975 | identity: 0.08271228522062302 GAN: 1.0046881437301636 cycle: 0.07292968779802322]\n",
            "[D loss: 1.02459716796875 | D_A: 0.524712324142456 D_B: 0.49988478422164917]\n",
            "[Epoch 32/200]\n"
          ]
        },
        {
          "name": "stderr",
          "output_type": "stream",
          "text": [
            "Training: 100%|██████████| 160/160 [01:14<00:00,  2.14batch/s]\n"
          ]
        },
        {
          "name": "stdout",
          "output_type": "stream",
          "text": [
            "[G loss: 2.428287982940674 | identity: 0.09713171422481537 GAN: 1.120682716369629 cycle: 0.08219466358423233]\n",
            "[D loss: 1.103986144065857 | D_A: 0.554643988609314 D_B: 0.549342155456543]\n",
            "[Epoch 33/200]\n"
          ]
        },
        {
          "name": "stderr",
          "output_type": "stream",
          "text": [
            "Training: 100%|██████████| 160/160 [01:14<00:00,  2.14batch/s]\n"
          ]
        },
        {
          "name": "stdout",
          "output_type": "stream",
          "text": [
            "[G loss: 1.9443395137786865 | identity: 0.07480163127183914 GAN: 0.9079491496086121 cycle: 0.06623822450637817]\n",
            "[D loss: 1.0633924007415771 | D_A: 0.5611669421195984 D_B: 0.5022254586219788]\n",
            "[Epoch 34/200]\n"
          ]
        },
        {
          "name": "stderr",
          "output_type": "stream",
          "text": [
            "Training: 100%|██████████| 160/160 [01:14<00:00,  2.15batch/s]\n"
          ]
        },
        {
          "name": "stdout",
          "output_type": "stream",
          "text": [
            "[G loss: 2.1299185752868652 | identity: 0.0775480568408966 GAN: 0.9578030705451965 cycle: 0.07843752950429916]\n",
            "[D loss: 1.0735175609588623 | D_A: 0.5586659908294678 D_B: 0.5148515701293945]\n",
            "[Epoch 35/200]\n"
          ]
        },
        {
          "name": "stderr",
          "output_type": "stream",
          "text": [
            "Training: 100%|██████████| 160/160 [01:14<00:00,  2.14batch/s]\n"
          ]
        },
        {
          "name": "stdout",
          "output_type": "stream",
          "text": [
            "[G loss: 2.0288171768188477 | identity: 0.08591236174106598 GAN: 0.9086052179336548 cycle: 0.06906501948833466]\n",
            "[D loss: 1.0282459259033203 | D_A: 0.5154837369918823 D_B: 0.512762188911438]\n",
            "[Epoch 36/200]\n"
          ]
        },
        {
          "name": "stderr",
          "output_type": "stream",
          "text": [
            "Training: 100%|██████████| 160/160 [01:14<00:00,  2.14batch/s]\n"
          ]
        },
        {
          "name": "stdout",
          "output_type": "stream",
          "text": [
            "[G loss: 1.9654834270477295 | identity: 0.09276760369539261 GAN: 0.801195502281189 cycle: 0.07004499435424805]\n",
            "[D loss: 1.1758428812026978 | D_A: 0.5966813564300537 D_B: 0.579161524772644]\n",
            "[Epoch 37/200]\n"
          ]
        },
        {
          "name": "stderr",
          "output_type": "stream",
          "text": [
            "Training: 100%|██████████| 160/160 [01:11<00:00,  2.23batch/s]\n"
          ]
        },
        {
          "name": "stdout",
          "output_type": "stream",
          "text": [
            "[G loss: 2.0446107387542725 | identity: 0.08983910083770752 GAN: 0.7552883625030518 cycle: 0.08401268720626831]\n",
            "[D loss: 1.2044525146484375 | D_A: 0.6543840169906616 D_B: 0.5500685572624207]\n",
            "[Epoch 38/200]\n"
          ]
        },
        {
          "name": "stderr",
          "output_type": "stream",
          "text": [
            "Training: 100%|██████████| 160/160 [01:11<00:00,  2.23batch/s]\n"
          ]
        },
        {
          "name": "stdout",
          "output_type": "stream",
          "text": [
            "[G loss: 2.391392707824707 | identity: 0.09292863309383392 GAN: 1.0418647527694702 cycle: 0.08848847448825836]\n",
            "[D loss: 1.0755385160446167 | D_A: 0.5630425214767456 D_B: 0.5124959945678711]\n",
            "[Epoch 39/200]\n"
          ]
        },
        {
          "name": "stderr",
          "output_type": "stream",
          "text": [
            "Training: 100%|██████████| 160/160 [01:11<00:00,  2.23batch/s]\n"
          ]
        },
        {
          "name": "stdout",
          "output_type": "stream",
          "text": [
            "[G loss: 2.2109317779541016 | identity: 0.08812327682971954 GAN: 0.9960640072822571 cycle: 0.07742514461278915]\n",
            "[D loss: 1.0069942474365234 | D_A: 0.5821207761764526 D_B: 0.4248735308647156]\n",
            "[Epoch 40/200]\n"
          ]
        },
        {
          "name": "stderr",
          "output_type": "stream",
          "text": [
            "Training: 100%|██████████| 160/160 [01:11<00:00,  2.23batch/s]\n"
          ]
        },
        {
          "name": "stdout",
          "output_type": "stream",
          "text": [
            "[G loss: 2.3151743412017822 | identity: 0.0911843329668045 GAN: 1.0012634992599487 cycle: 0.08579891920089722]\n",
            "[D loss: 1.065525770187378 | D_A: 0.5399133563041687 D_B: 0.525612473487854]\n",
            "[Epoch 41/200]\n"
          ]
        },
        {
          "name": "stderr",
          "output_type": "stream",
          "text": [
            "Training: 100%|██████████| 160/160 [01:11<00:00,  2.23batch/s]\n"
          ]
        },
        {
          "name": "stdout",
          "output_type": "stream",
          "text": [
            "[G loss: 2.4805214405059814 | identity: 0.10334780812263489 GAN: 1.0082887411117554 cycle: 0.09554936736822128]\n",
            "[D loss: 1.1097252368927002 | D_A: 0.5797582268714905 D_B: 0.5299669504165649]\n",
            "[Epoch 42/200]\n"
          ]
        },
        {
          "name": "stderr",
          "output_type": "stream",
          "text": [
            "Training: 100%|██████████| 160/160 [01:11<00:00,  2.23batch/s]\n"
          ]
        },
        {
          "name": "stdout",
          "output_type": "stream",
          "text": [
            "[G loss: 2.158430337905884 | identity: 0.09277081489562988 GAN: 0.9615398645401001 cycle: 0.07330363988876343]\n",
            "[D loss: 0.9941352605819702 | D_A: 0.49130427837371826 D_B: 0.502830982208252]\n",
            "[Epoch 43/200]\n"
          ]
        },
        {
          "name": "stderr",
          "output_type": "stream",
          "text": [
            "Training: 100%|██████████| 160/160 [01:11<00:00,  2.23batch/s]\n"
          ]
        },
        {
          "name": "stdout",
          "output_type": "stream",
          "text": [
            "[G loss: 2.0512564182281494 | identity: 0.09104405343532562 GAN: 0.8706356883049011 cycle: 0.0725400373339653]\n",
            "[D loss: 1.0752410888671875 | D_A: 0.5513949394226074 D_B: 0.5238462090492249]\n",
            "[Epoch 44/200]\n"
          ]
        },
        {
          "name": "stderr",
          "output_type": "stream",
          "text": [
            "Training: 100%|██████████| 160/160 [01:11<00:00,  2.23batch/s]\n"
          ]
        },
        {
          "name": "stdout",
          "output_type": "stream",
          "text": [
            "[G loss: 1.9951295852661133 | identity: 0.0929623693227768 GAN: 0.8885037899017334 cycle: 0.06418139487504959]\n",
            "[D loss: 1.0489846467971802 | D_A: 0.5249928832054138 D_B: 0.5239917635917664]\n",
            "[Epoch 45/200]\n"
          ]
        },
        {
          "name": "stderr",
          "output_type": "stream",
          "text": [
            "Training: 100%|██████████| 160/160 [01:11<00:00,  2.23batch/s]\n"
          ]
        },
        {
          "name": "stdout",
          "output_type": "stream",
          "text": [
            "[G loss: 1.9948102235794067 | identity: 0.09197941422462463 GAN: 0.7823897004127502 cycle: 0.07525233924388885]\n",
            "[D loss: 1.145622968673706 | D_A: 0.5804957747459412 D_B: 0.5651271343231201]\n",
            "[Epoch 46/200]\n"
          ]
        },
        {
          "name": "stderr",
          "output_type": "stream",
          "text": [
            "Training: 100%|██████████| 160/160 [01:11<00:00,  2.23batch/s]\n"
          ]
        },
        {
          "name": "stdout",
          "output_type": "stream",
          "text": [
            "[G loss: 2.4712021350860596 | identity: 0.09013707935810089 GAN: 1.1532511711120605 cycle: 0.08672656118869781]\n",
            "[D loss: 1.1524574756622314 | D_A: 0.5532407760620117 D_B: 0.5992167592048645]\n",
            "[Epoch 47/200]\n"
          ]
        },
        {
          "name": "stderr",
          "output_type": "stream",
          "text": [
            "Training: 100%|██████████| 160/160 [01:11<00:00,  2.23batch/s]\n"
          ]
        },
        {
          "name": "stdout",
          "output_type": "stream",
          "text": [
            "[G loss: 2.1547422409057617 | identity: 0.09266071021556854 GAN: 0.8973995447158813 cycle: 0.07940392196178436]\n",
            "[D loss: 1.1150503158569336 | D_A: 0.5634194612503052 D_B: 0.5516308546066284]\n",
            "[Epoch 48/200]\n"
          ]
        },
        {
          "name": "stderr",
          "output_type": "stream",
          "text": [
            "Training: 100%|██████████| 160/160 [01:11<00:00,  2.23batch/s]\n"
          ]
        },
        {
          "name": "stdout",
          "output_type": "stream",
          "text": [
            "[G loss: 2.098306655883789 | identity: 0.09681344032287598 GAN: 0.8386507630348206 cycle: 0.07755888998508453]\n",
            "[D loss: 1.044600486755371 | D_A: 0.5307338237762451 D_B: 0.5138666033744812]\n",
            "[Epoch 49/200]\n"
          ]
        },
        {
          "name": "stderr",
          "output_type": "stream",
          "text": [
            "Training: 100%|██████████| 160/160 [01:11<00:00,  2.23batch/s]\n"
          ]
        },
        {
          "name": "stdout",
          "output_type": "stream",
          "text": [
            "[G loss: 2.090550184249878 | identity: 0.09857521951198578 GAN: 0.9186007976531982 cycle: 0.06790733337402344]\n",
            "[D loss: 1.0945048332214355 | D_A: 0.5800877809524536 D_B: 0.5144170522689819]\n",
            "[Epoch 50/200]\n"
          ]
        },
        {
          "name": "stderr",
          "output_type": "stream",
          "text": [
            "Training: 100%|██████████| 160/160 [01:11<00:00,  2.23batch/s]\n"
          ]
        },
        {
          "name": "stdout",
          "output_type": "stream",
          "text": [
            "[G loss: 1.8949166536331177 | identity: 0.09207598865032196 GAN: 0.8250987529754639 cycle: 0.06094379723072052]\n",
            "[D loss: 1.1703702211380005 | D_A: 0.5875098705291748 D_B: 0.5828603506088257]\n",
            "[Epoch 51/200]\n"
          ]
        },
        {
          "name": "stderr",
          "output_type": "stream",
          "text": [
            "Training: 100%|██████████| 160/160 [01:11<00:00,  2.23batch/s]\n"
          ]
        },
        {
          "name": "stdout",
          "output_type": "stream",
          "text": [
            "[G loss: 1.9356211423873901 | identity: 0.101328544318676 GAN: 0.8301346302032471 cycle: 0.05988438427448273]\n",
            "[D loss: 1.1143720149993896 | D_A: 0.5649888515472412 D_B: 0.5493831634521484]\n",
            "[Epoch 52/200]\n"
          ]
        },
        {
          "name": "stderr",
          "output_type": "stream",
          "text": [
            "Training: 100%|██████████| 160/160 [01:11<00:00,  2.23batch/s]\n"
          ]
        },
        {
          "name": "stdout",
          "output_type": "stream",
          "text": [
            "[G loss: 2.1203744411468506 | identity: 0.102529376745224 GAN: 0.9498151540756226 cycle: 0.06579123437404633]\n",
            "[D loss: 1.1271249055862427 | D_A: 0.5602985620498657 D_B: 0.566826343536377]\n",
            "[Epoch 53/200]\n"
          ]
        },
        {
          "name": "stderr",
          "output_type": "stream",
          "text": [
            "Training: 100%|██████████| 160/160 [01:11<00:00,  2.23batch/s]\n"
          ]
        },
        {
          "name": "stdout",
          "output_type": "stream",
          "text": [
            "[G loss: 2.546565055847168 | identity: 0.1069435179233551 GAN: 1.0889196395874023 cycle: 0.09229280054569244]\n",
            "[D loss: 1.151353359222412 | D_A: 0.5676723718643188 D_B: 0.5836809277534485]\n",
            "[Epoch 54/200]\n"
          ]
        },
        {
          "name": "stderr",
          "output_type": "stream",
          "text": [
            "Training: 100%|██████████| 160/160 [01:11<00:00,  2.23batch/s]\n"
          ]
        },
        {
          "name": "stdout",
          "output_type": "stream",
          "text": [
            "[G loss: 2.1371092796325684 | identity: 0.10246974229812622 GAN: 0.9336986541748047 cycle: 0.06910620629787445]\n",
            "[D loss: 1.1120388507843018 | D_A: 0.5782256126403809 D_B: 0.5338132977485657]\n",
            "[Epoch 55/200]\n"
          ]
        },
        {
          "name": "stderr",
          "output_type": "stream",
          "text": [
            "Training: 100%|██████████| 160/160 [01:11<00:00,  2.23batch/s]\n"
          ]
        },
        {
          "name": "stdout",
          "output_type": "stream",
          "text": [
            "[G loss: 2.2834956645965576 | identity: 0.10123571753501892 GAN: 0.9929548501968384 cycle: 0.0784362256526947]\n",
            "[D loss: 1.1456854343414307 | D_A: 0.5976414084434509 D_B: 0.548043966293335]\n",
            "[Epoch 56/200]\n"
          ]
        },
        {
          "name": "stderr",
          "output_type": "stream",
          "text": [
            "Training: 100%|██████████| 160/160 [01:11<00:00,  2.23batch/s]\n"
          ]
        },
        {
          "name": "stdout",
          "output_type": "stream",
          "text": [
            "[G loss: 1.8545727729797363 | identity: 0.09877686202526093 GAN: 0.7279977798461914 cycle: 0.06326907128095627]\n",
            "[D loss: 1.2046844959259033 | D_A: 0.5923863649368286 D_B: 0.6122980713844299]\n",
            "[Epoch 57/200]\n"
          ]
        },
        {
          "name": "stderr",
          "output_type": "stream",
          "text": [
            "Training: 100%|██████████| 160/160 [01:11<00:00,  2.23batch/s]\n"
          ]
        },
        {
          "name": "stdout",
          "output_type": "stream",
          "text": [
            "[G loss: 1.9730461835861206 | identity: 0.10165052115917206 GAN: 0.8599026799201965 cycle: 0.060489095747470856]\n",
            "[D loss: 1.0568628311157227 | D_A: 0.5321885943412781 D_B: 0.5246741771697998]\n",
            "[Epoch 58/200]\n"
          ]
        },
        {
          "name": "stderr",
          "output_type": "stream",
          "text": [
            "Training: 100%|██████████| 160/160 [01:11<00:00,  2.23batch/s]\n"
          ]
        },
        {
          "name": "stdout",
          "output_type": "stream",
          "text": [
            "[G loss: 2.0465402603149414 | identity: 0.09513770043849945 GAN: 0.9984120726585388 cycle: 0.05724398046731949]\n",
            "[D loss: 1.0540635585784912 | D_A: 0.5408297777175903 D_B: 0.5132338404655457]\n",
            "[Epoch 59/200]\n"
          ]
        },
        {
          "name": "stderr",
          "output_type": "stream",
          "text": [
            "Training: 100%|██████████| 160/160 [01:11<00:00,  2.23batch/s]\n"
          ]
        },
        {
          "name": "stdout",
          "output_type": "stream",
          "text": [
            "[G loss: 1.9513709545135498 | identity: 0.10621923208236694 GAN: 0.8253763318061829 cycle: 0.059489838778972626]\n",
            "[D loss: 1.1565876007080078 | D_A: 0.6046380400657654 D_B: 0.5519495606422424]\n",
            "[Epoch 60/200]\n"
          ]
        },
        {
          "name": "stderr",
          "output_type": "stream",
          "text": [
            "Training: 100%|██████████| 160/160 [01:11<00:00,  2.23batch/s]\n"
          ]
        },
        {
          "name": "stdout",
          "output_type": "stream",
          "text": [
            "[G loss: 1.8411750793457031 | identity: 0.13211238384246826 GAN: 0.9173048138618469 cycle: 0.06596455723047256]\n",
            "[D loss: 1.2168340682983398 | D_A: 0.6066162586212158 D_B: 0.6102177500724792]\n",
            "[Epoch 61/200]\n"
          ]
        },
        {
          "name": "stderr",
          "output_type": "stream",
          "text": [
            "Training: 100%|██████████| 160/160 [01:11<00:00,  2.23batch/s]\n"
          ]
        },
        {
          "name": "stdout",
          "output_type": "stream",
          "text": [
            "[G loss: 1.686429500579834 | identity: 0.12755805253982544 GAN: 0.8632421493530273 cycle: 0.056807126849889755]\n",
            "[D loss: 1.2217557430267334 | D_A: 0.6442400813102722 D_B: 0.5775156617164612]\n",
            "[Epoch 62/200]\n"
          ]
        },
        {
          "name": "stderr",
          "output_type": "stream",
          "text": [
            "Training: 100%|██████████| 160/160 [01:11<00:00,  2.23batch/s]\n"
          ]
        },
        {
          "name": "stdout",
          "output_type": "stream",
          "text": [
            "[G loss: 1.631625771522522 | identity: 0.13510897755622864 GAN: 0.77716064453125 cycle: 0.058424726128578186]\n",
            "[D loss: 1.156510829925537 | D_A: 0.6062238216400146 D_B: 0.5502870082855225]\n",
            "[Epoch 63/200]\n"
          ]
        },
        {
          "name": "stderr",
          "output_type": "stream",
          "text": [
            "Training: 100%|██████████| 160/160 [01:11<00:00,  2.23batch/s]\n"
          ]
        },
        {
          "name": "stdout",
          "output_type": "stream",
          "text": [
            "[G loss: 1.6452680826187134 | identity: 0.12473012506961823 GAN: 0.7255387902259827 cycle: 0.06702689826488495]\n",
            "[D loss: 1.2412593364715576 | D_A: 0.6299179792404175 D_B: 0.6113412976264954]\n",
            "[Epoch 64/200]\n"
          ]
        },
        {
          "name": "stderr",
          "output_type": "stream",
          "text": [
            "Training: 100%|██████████| 160/160 [01:11<00:00,  2.23batch/s]\n"
          ]
        },
        {
          "name": "stdout",
          "output_type": "stream",
          "text": [
            "[G loss: 1.8085033893585205 | identity: 0.12999488413333893 GAN: 0.8572872877120972 cycle: 0.06912264227867126]\n",
            "[D loss: 1.2004458904266357 | D_A: 0.6426768898963928 D_B: 0.5577689409255981]\n",
            "[Epoch 65/200]\n"
          ]
        },
        {
          "name": "stderr",
          "output_type": "stream",
          "text": [
            "Training: 100%|██████████| 160/160 [01:11<00:00,  2.23batch/s]\n"
          ]
        },
        {
          "name": "stdout",
          "output_type": "stream",
          "text": [
            "[G loss: 1.710218071937561 | identity: 0.1517932415008545 GAN: 0.8053327202796936 cycle: 0.06012989208102226]\n",
            "[D loss: 1.1791198253631592 | D_A: 0.6044489145278931 D_B: 0.5746709108352661]\n",
            "[Epoch 66/200]\n"
          ]
        },
        {
          "name": "stderr",
          "output_type": "stream",
          "text": [
            "Training: 100%|██████████| 160/160 [01:11<00:00,  2.23batch/s]\n"
          ]
        },
        {
          "name": "stdout",
          "output_type": "stream",
          "text": [
            "[G loss: 1.5568181276321411 | identity: 0.13560479879379272 GAN: 0.7403312921524048 cycle: 0.05452772602438927]\n",
            "[D loss: 1.1410483121871948 | D_A: 0.5989792346954346 D_B: 0.5420690774917603]\n",
            "[Epoch 67/200]\n"
          ]
        },
        {
          "name": "stderr",
          "output_type": "stream",
          "text": [
            "Training: 100%|██████████| 160/160 [01:11<00:00,  2.23batch/s]\n"
          ]
        },
        {
          "name": "stdout",
          "output_type": "stream",
          "text": [
            "[G loss: 1.5935362577438354 | identity: 0.14514963328838348 GAN: 0.7538607716560364 cycle: 0.05493762344121933]\n",
            "[D loss: 1.1680893898010254 | D_A: 0.598469614982605 D_B: 0.5696197152137756]\n",
            "[Epoch 68/200]\n"
          ]
        },
        {
          "name": "stderr",
          "output_type": "stream",
          "text": [
            "Training: 100%|██████████| 160/160 [01:11<00:00,  2.23batch/s]\n"
          ]
        },
        {
          "name": "stdout",
          "output_type": "stream",
          "text": [
            "[G loss: 1.7811243534088135 | identity: 0.14494997262954712 GAN: 0.7949100732803345 cycle: 0.069631427526474]\n",
            "[D loss: 1.195664882659912 | D_A: 0.6156262159347534 D_B: 0.5800386667251587]\n",
            "[Epoch 69/200]\n"
          ]
        },
        {
          "name": "stderr",
          "output_type": "stream",
          "text": [
            "Training: 100%|██████████| 160/160 [01:11<00:00,  2.23batch/s]\n"
          ]
        },
        {
          "name": "stdout",
          "output_type": "stream",
          "text": [
            "[G loss: 1.6555759906768799 | identity: 0.1413027048110962 GAN: 0.8194693326950073 cycle: 0.05535011738538742]\n",
            "[D loss: 1.257577657699585 | D_A: 0.6736283898353577 D_B: 0.5839493274688721]\n",
            "[Epoch 70/200]\n"
          ]
        },
        {
          "name": "stderr",
          "output_type": "stream",
          "text": [
            "Training: 100%|██████████| 160/160 [01:11<00:00,  2.23batch/s]\n"
          ]
        },
        {
          "name": "stdout",
          "output_type": "stream",
          "text": [
            "[G loss: 1.6490113735198975 | identity: 0.1322890967130661 GAN: 0.8404303789138794 cycle: 0.054400283843278885]\n",
            "[D loss: 1.1143146753311157 | D_A: 0.5730825662612915 D_B: 0.5412321090698242]\n",
            "[Epoch 71/200]\n"
          ]
        },
        {
          "name": "stderr",
          "output_type": "stream",
          "text": [
            "Training: 100%|██████████| 160/160 [01:11<00:00,  2.23batch/s]\n"
          ]
        },
        {
          "name": "stdout",
          "output_type": "stream",
          "text": [
            "[G loss: 1.7347638607025146 | identity: 0.1515444964170456 GAN: 0.8463996648788452 cycle: 0.058527521789073944]\n",
            "[D loss: 1.1305574178695679 | D_A: 0.6073734760284424 D_B: 0.5231839418411255]\n",
            "[Epoch 72/200]\n"
          ]
        },
        {
          "name": "stderr",
          "output_type": "stream",
          "text": [
            "Training: 100%|██████████| 160/160 [01:11<00:00,  2.23batch/s]\n"
          ]
        },
        {
          "name": "stdout",
          "output_type": "stream",
          "text": [
            "[G loss: 1.6559287309646606 | identity: 0.1312418282032013 GAN: 0.8653032779693604 cycle: 0.05281418561935425]\n",
            "[D loss: 1.1648950576782227 | D_A: 0.611199676990509 D_B: 0.5536954402923584]\n",
            "[Epoch 73/200]\n"
          ]
        },
        {
          "name": "stderr",
          "output_type": "stream",
          "text": [
            "Training: 100%|██████████| 160/160 [01:11<00:00,  2.23batch/s]\n"
          ]
        },
        {
          "name": "stdout",
          "output_type": "stream",
          "text": [
            "[G loss: 1.7220180034637451 | identity: 0.15613551437854767 GAN: 0.8098796010017395 cycle: 0.05998673290014267]\n",
            "[D loss: 1.191162347793579 | D_A: 0.617508053779602 D_B: 0.573654294013977]\n",
            "[Epoch 74/200]\n"
          ]
        },
        {
          "name": "stderr",
          "output_type": "stream",
          "text": [
            "Training: 100%|██████████| 160/160 [01:11<00:00,  2.23batch/s]\n"
          ]
        },
        {
          "name": "stdout",
          "output_type": "stream",
          "text": [
            "[G loss: 1.767258882522583 | identity: 0.14925038814544678 GAN: 0.8651962876319885 cycle: 0.06035618484020233]\n",
            "[D loss: 1.1276402473449707 | D_A: 0.5920447111129761 D_B: 0.5355955362319946]\n",
            "[Epoch 75/200]\n"
          ]
        },
        {
          "name": "stderr",
          "output_type": "stream",
          "text": [
            "Training: 100%|██████████| 160/160 [01:11<00:00,  2.23batch/s]\n"
          ]
        },
        {
          "name": "stdout",
          "output_type": "stream",
          "text": [
            "[G loss: 1.6428202390670776 | identity: 0.12740057706832886 GAN: 0.8546674251556396 cycle: 0.05333516746759415]\n",
            "[D loss: 1.1411076784133911 | D_A: 0.5946741104125977 D_B: 0.5464335680007935]\n",
            "[Epoch 76/200]\n"
          ]
        },
        {
          "name": "stderr",
          "output_type": "stream",
          "text": [
            "Training: 100%|██████████| 160/160 [01:11<00:00,  2.23batch/s]\n"
          ]
        },
        {
          "name": "stdout",
          "output_type": "stream",
          "text": [
            "[G loss: 1.595280408859253 | identity: 0.1365637481212616 GAN: 0.7755099534988403 cycle: 0.05466430261731148]\n",
            "[D loss: 1.2034635543823242 | D_A: 0.6377056241035461 D_B: 0.5657578706741333]\n",
            "[Epoch 77/200]\n"
          ]
        },
        {
          "name": "stderr",
          "output_type": "stream",
          "text": [
            "Training: 100%|██████████| 160/160 [01:11<00:00,  2.23batch/s]\n"
          ]
        },
        {
          "name": "stdout",
          "output_type": "stream",
          "text": [
            "[G loss: 1.5732855796813965 | identity: 0.1363522708415985 GAN: 0.8115017414093018 cycle: 0.04890792444348335]\n",
            "[D loss: 1.1373119354248047 | D_A: 0.5797467231750488 D_B: 0.5575652122497559]\n",
            "[Epoch 78/200]\n"
          ]
        },
        {
          "name": "stderr",
          "output_type": "stream",
          "text": [
            "Training: 100%|██████████| 160/160 [01:11<00:00,  2.23batch/s]\n"
          ]
        },
        {
          "name": "stdout",
          "output_type": "stream",
          "text": [
            "[G loss: 1.5272150039672852 | identity: 0.13981303572654724 GAN: 0.7198901772499084 cycle: 0.052769869565963745]\n",
            "[D loss: 1.220603585243225 | D_A: 0.6021860837936401 D_B: 0.618417501449585]\n",
            "[Epoch 79/200]\n"
          ]
        },
        {
          "name": "stderr",
          "output_type": "stream",
          "text": [
            "Training: 100%|██████████| 160/160 [01:11<00:00,  2.23batch/s]\n"
          ]
        },
        {
          "name": "stdout",
          "output_type": "stream",
          "text": [
            "[G loss: 1.5868600606918335 | identity: 0.13507595658302307 GAN: 0.7371097207069397 cycle: 0.05795983970165253]\n",
            "[D loss: 1.2268458604812622 | D_A: 0.6211321353912354 D_B: 0.6057137250900269]\n",
            "[Epoch 80/200]\n"
          ]
        },
        {
          "name": "stderr",
          "output_type": "stream",
          "text": [
            "Training: 100%|██████████| 160/160 [01:11<00:00,  2.23batch/s]\n"
          ]
        },
        {
          "name": "stdout",
          "output_type": "stream",
          "text": [
            "[G loss: 1.7045927047729492 | identity: 0.14759182929992676 GAN: 0.8460696339607239 cycle: 0.05633394420146942]\n",
            "[D loss: 1.1182506084442139 | D_A: 0.5850895643234253 D_B: 0.5331610441207886]\n",
            "[Epoch 81/200]\n"
          ]
        },
        {
          "name": "stderr",
          "output_type": "stream",
          "text": [
            "Training: 100%|██████████| 160/160 [01:11<00:00,  2.23batch/s]\n"
          ]
        },
        {
          "name": "stdout",
          "output_type": "stream",
          "text": [
            "[G loss: 1.5904345512390137 | identity: 0.1412762999534607 GAN: 0.739382266998291 cycle: 0.056849971413612366]\n",
            "[D loss: 1.1578319072723389 | D_A: 0.572725772857666 D_B: 0.5851061344146729]\n",
            "[Epoch 82/200]\n"
          ]
        },
        {
          "name": "stderr",
          "output_type": "stream",
          "text": [
            "Training: 100%|██████████| 160/160 [01:11<00:00,  2.23batch/s]\n"
          ]
        },
        {
          "name": "stdout",
          "output_type": "stream",
          "text": [
            "[G loss: 1.8072428703308105 | identity: 0.13227909803390503 GAN: 1.026023507118225 cycle: 0.05166611820459366]\n",
            "[D loss: 1.1119792461395264 | D_A: 0.5737757086753845 D_B: 0.5382035374641418]\n",
            "[Epoch 83/200]\n"
          ]
        },
        {
          "name": "stderr",
          "output_type": "stream",
          "text": [
            "Training: 100%|██████████| 160/160 [01:11<00:00,  2.23batch/s]\n"
          ]
        },
        {
          "name": "stdout",
          "output_type": "stream",
          "text": [
            "[G loss: 1.6451349258422852 | identity: 0.1304623931646347 GAN: 0.8570317625999451 cycle: 0.052717845886945724]\n",
            "[D loss: 1.0981202125549316 | D_A: 0.5680552124977112 D_B: 0.5300650596618652]\n",
            "[Epoch 84/200]\n"
          ]
        },
        {
          "name": "stderr",
          "output_type": "stream",
          "text": [
            "Training: 100%|██████████| 160/160 [01:11<00:00,  2.23batch/s]\n"
          ]
        },
        {
          "name": "stdout",
          "output_type": "stream",
          "text": [
            "[G loss: 1.6535131931304932 | identity: 0.13329286873340607 GAN: 0.8790798187255859 cycle: 0.050784774124622345]\n",
            "[D loss: 1.131978988647461 | D_A: 0.5883049964904785 D_B: 0.5436739325523376]\n",
            "[Epoch 85/200]\n"
          ]
        },
        {
          "name": "stderr",
          "output_type": "stream",
          "text": [
            "Training: 100%|██████████| 160/160 [01:11<00:00,  2.23batch/s]\n"
          ]
        },
        {
          "name": "stdout",
          "output_type": "stream",
          "text": [
            "[G loss: 1.6435418128967285 | identity: 0.14650845527648926 GAN: 0.7992587089538574 cycle: 0.055126626044511795]\n",
            "[D loss: 1.136138916015625 | D_A: 0.5596982836723328 D_B: 0.5764405727386475]\n",
            "[Epoch 86/200]\n"
          ]
        },
        {
          "name": "stderr",
          "output_type": "stream",
          "text": [
            "Training: 100%|██████████| 160/160 [01:11<00:00,  2.23batch/s]\n"
          ]
        },
        {
          "name": "stdout",
          "output_type": "stream",
          "text": [
            "[G loss: 1.6515823602676392 | identity: 0.1479504406452179 GAN: 0.7859805822372437 cycle: 0.056970082223415375]\n",
            "[D loss: 1.1526174545288086 | D_A: 0.5766727924346924 D_B: 0.5759446620941162]\n",
            "[Epoch 87/200]\n"
          ]
        },
        {
          "name": "stderr",
          "output_type": "stream",
          "text": [
            "Training: 100%|██████████| 160/160 [01:11<00:00,  2.23batch/s]\n"
          ]
        },
        {
          "name": "stdout",
          "output_type": "stream",
          "text": [
            "[G loss: 1.6867530345916748 | identity: 0.14449790120124817 GAN: 0.8777391910552979 cycle: 0.05200180411338806]\n",
            "[D loss: 1.125889539718628 | D_A: 0.5867207050323486 D_B: 0.5391687750816345]\n",
            "[Epoch 88/200]\n"
          ]
        },
        {
          "name": "stderr",
          "output_type": "stream",
          "text": [
            "Training: 100%|██████████| 160/160 [01:11<00:00,  2.23batch/s]\n"
          ]
        },
        {
          "name": "stdout",
          "output_type": "stream",
          "text": [
            "[G loss: 1.7740809917449951 | identity: 0.1630217581987381 GAN: 0.8920824527740479 cycle: 0.05559550225734711]\n",
            "[D loss: 1.1403981447219849 | D_A: 0.5967741012573242 D_B: 0.5436240434646606]\n",
            "[Epoch 89/200]\n"
          ]
        },
        {
          "name": "stderr",
          "output_type": "stream",
          "text": [
            "Training: 100%|██████████| 160/160 [01:11<00:00,  2.23batch/s]\n"
          ]
        },
        {
          "name": "stdout",
          "output_type": "stream",
          "text": [
            "[G loss: 1.5778815746307373 | identity: 0.13127395510673523 GAN: 0.8490180969238281 cycle: 0.046631548553705215]\n",
            "[D loss: 1.1390931606292725 | D_A: 0.5824761390686035 D_B: 0.556617021560669]\n",
            "[Epoch 90/200]\n"
          ]
        },
        {
          "name": "stderr",
          "output_type": "stream",
          "text": [
            "Training: 100%|██████████| 160/160 [01:11<00:00,  2.23batch/s]\n"
          ]
        },
        {
          "name": "stdout",
          "output_type": "stream",
          "text": [
            "[G loss: 1.6806169748306274 | identity: 0.12967059016227722 GAN: 0.9304829835891724 cycle: 0.0490792840719223]\n",
            "[D loss: 1.1460883617401123 | D_A: 0.6086360216140747 D_B: 0.5374523401260376]\n",
            "[Epoch 91/200]\n"
          ]
        },
        {
          "name": "stderr",
          "output_type": "stream",
          "text": [
            "Training: 100%|██████████| 160/160 [01:11<00:00,  2.23batch/s]\n"
          ]
        },
        {
          "name": "stdout",
          "output_type": "stream",
          "text": [
            "[G loss: 1.5014278888702393 | identity: 0.13042418658733368 GAN: 0.7103615999221802 cycle: 0.053021784871816635]\n",
            "[D loss: 1.1664490699768066 | D_A: 0.5958237051963806 D_B: 0.5706253051757812]\n",
            "[Epoch 92/200]\n"
          ]
        },
        {
          "name": "stderr",
          "output_type": "stream",
          "text": [
            "Training: 100%|██████████| 160/160 [01:11<00:00,  2.23batch/s]\n"
          ]
        },
        {
          "name": "stdout",
          "output_type": "stream",
          "text": [
            "[G loss: 1.6553391218185425 | identity: 0.14489677548408508 GAN: 0.8533411622047424 cycle: 0.05122043937444687]\n",
            "[D loss: 1.1068214178085327 | D_A: 0.558826208114624 D_B: 0.5479952096939087]\n",
            "[Epoch 93/200]\n"
          ]
        },
        {
          "name": "stderr",
          "output_type": "stream",
          "text": [
            "Training: 100%|██████████| 160/160 [01:11<00:00,  2.23batch/s]\n"
          ]
        },
        {
          "name": "stdout",
          "output_type": "stream",
          "text": [
            "[G loss: 1.626203179359436 | identity: 0.13908503949642181 GAN: 0.770424485206604 cycle: 0.05776085704565048]\n",
            "[D loss: 1.156195878982544 | D_A: 0.5748115181922913 D_B: 0.5813844203948975]\n",
            "[Epoch 94/200]\n"
          ]
        },
        {
          "name": "stderr",
          "output_type": "stream",
          "text": [
            "Training: 100%|██████████| 160/160 [01:11<00:00,  2.23batch/s]\n"
          ]
        },
        {
          "name": "stdout",
          "output_type": "stream",
          "text": [
            "[G loss: 1.684923529624939 | identity: 0.15857750177383423 GAN: 0.8475121259689331 cycle: 0.05202563852071762]\n",
            "[D loss: 1.148275375366211 | D_A: 0.5875304341316223 D_B: 0.5607448816299438]\n",
            "[Epoch 95/200]\n"
          ]
        },
        {
          "name": "stderr",
          "output_type": "stream",
          "text": [
            "Training: 100%|██████████| 160/160 [01:11<00:00,  2.23batch/s]\n"
          ]
        },
        {
          "name": "stdout",
          "output_type": "stream",
          "text": [
            "[G loss: 1.6146876811981201 | identity: 0.15675261616706848 GAN: 0.670941948890686 cycle: 0.06302405893802643]\n",
            "[D loss: 1.228071928024292 | D_A: 0.6236702799797058 D_B: 0.6044016480445862]\n",
            "[Epoch 96/200]\n"
          ]
        },
        {
          "name": "stderr",
          "output_type": "stream",
          "text": [
            "Training: 100%|██████████| 160/160 [01:11<00:00,  2.23batch/s]\n"
          ]
        },
        {
          "name": "stdout",
          "output_type": "stream",
          "text": [
            "[G loss: 1.6391690969467163 | identity: 0.14671671390533447 GAN: 0.8756200671195984 cycle: 0.04701155424118042]\n",
            "[D loss: 1.169602632522583 | D_A: 0.586807131767273 D_B: 0.5827954411506653]\n",
            "[Epoch 97/200]\n"
          ]
        },
        {
          "name": "stderr",
          "output_type": "stream",
          "text": [
            "Training: 100%|██████████| 160/160 [01:11<00:00,  2.23batch/s]\n"
          ]
        },
        {
          "name": "stdout",
          "output_type": "stream",
          "text": [
            "[G loss: 1.6419947147369385 | identity: 0.14074395596981049 GAN: 0.8722437620162964 cycle: 0.048826299607753754]\n",
            "[D loss: 1.1280791759490967 | D_A: 0.571610152721405 D_B: 0.5564690828323364]\n",
            "[Epoch 98/200]\n"
          ]
        },
        {
          "name": "stderr",
          "output_type": "stream",
          "text": [
            "Training: 100%|██████████| 160/160 [01:11<00:00,  2.23batch/s]\n"
          ]
        },
        {
          "name": "stdout",
          "output_type": "stream",
          "text": [
            "[G loss: 1.689515233039856 | identity: 0.1424141526222229 GAN: 0.8620160818099976 cycle: 0.05426708608865738]\n",
            "[D loss: 1.1767933368682861 | D_A: 0.5865592956542969 D_B: 0.5902339816093445]\n",
            "[Epoch 99/200]\n"
          ]
        },
        {
          "name": "stderr",
          "output_type": "stream",
          "text": [
            "Training: 100%|██████████| 160/160 [01:11<00:00,  2.23batch/s]\n"
          ]
        },
        {
          "name": "stdout",
          "output_type": "stream",
          "text": [
            "[G loss: 1.7218639850616455 | identity: 0.1495814025402069 GAN: 0.9005420207977295 cycle: 0.052215903997421265]\n",
            "[D loss: 1.1700931787490845 | D_A: 0.5998942852020264 D_B: 0.5701988935470581]\n",
            "[Epoch 100/200]\n"
          ]
        },
        {
          "name": "stderr",
          "output_type": "stream",
          "text": [
            "Training: 100%|██████████| 160/160 [01:11<00:00,  2.23batch/s]\n"
          ]
        },
        {
          "name": "stdout",
          "output_type": "stream",
          "text": [
            "[G loss: 1.73812735080719 | identity: 0.14887821674346924 GAN: 0.8926193714141846 cycle: 0.05477515608072281]\n",
            "[D loss: 1.1130030155181885 | D_A: 0.5668666362762451 D_B: 0.5461363792419434]\n",
            "[Epoch 101/200]\n"
          ]
        },
        {
          "name": "stderr",
          "output_type": "stream",
          "text": [
            "Training: 100%|██████████| 160/160 [01:11<00:00,  2.23batch/s]\n"
          ]
        },
        {
          "name": "stdout",
          "output_type": "stream",
          "text": [
            "[G loss: 1.6712660789489746 | identity: 0.1481686532497406 GAN: 0.8807626366615295 cycle: 0.04941660910844803]\n",
            "[D loss: 1.1558566093444824 | D_A: 0.5936511158943176 D_B: 0.56220543384552]\n",
            "[Epoch 102/200]\n"
          ]
        },
        {
          "name": "stderr",
          "output_type": "stream",
          "text": [
            "Training: 100%|██████████| 160/160 [01:11<00:00,  2.23batch/s]\n"
          ]
        },
        {
          "name": "stdout",
          "output_type": "stream",
          "text": [
            "[G loss: 1.4861626625061035 | identity: 0.14335112273693085 GAN: 0.7638805508613586 cycle: 0.04355798661708832]\n",
            "[D loss: 1.157217264175415 | D_A: 0.5831853151321411 D_B: 0.5740319490432739]\n",
            "[Epoch 103/200]\n"
          ]
        },
        {
          "name": "stderr",
          "output_type": "stream",
          "text": [
            "Training: 100%|██████████| 160/160 [01:11<00:00,  2.23batch/s]\n"
          ]
        },
        {
          "name": "stdout",
          "output_type": "stream",
          "text": [
            "[G loss: 1.7212090492248535 | identity: 0.1464223861694336 GAN: 0.8502712249755859 cycle: 0.05780930817127228]\n",
            "[D loss: 1.1573041677474976 | D_A: 0.5750983953475952 D_B: 0.5822057723999023]\n",
            "[Epoch 104/200]\n"
          ]
        },
        {
          "name": "stderr",
          "output_type": "stream",
          "text": [
            "Training: 100%|██████████| 160/160 [01:11<00:00,  2.23batch/s]\n"
          ]
        },
        {
          "name": "stdout",
          "output_type": "stream",
          "text": [
            "[G loss: 1.7047615051269531 | identity: 0.13994765281677246 GAN: 0.924488365650177 cycle: 0.050037793815135956]\n",
            "[D loss: 1.1431442499160767 | D_A: 0.5667377710342407 D_B: 0.5764064788818359]\n",
            "[Epoch 105/200]\n"
          ]
        },
        {
          "name": "stderr",
          "output_type": "stream",
          "text": [
            "Training: 100%|██████████| 160/160 [01:11<00:00,  2.23batch/s]\n"
          ]
        },
        {
          "name": "stdout",
          "output_type": "stream",
          "text": [
            "[G loss: 1.5565145015716553 | identity: 0.1356509029865265 GAN: 0.80601966381073 cycle: 0.04791930317878723]\n",
            "[D loss: 1.1489869356155396 | D_A: 0.5699527859687805 D_B: 0.579034149646759]\n",
            "[Epoch 106/200]\n"
          ]
        },
        {
          "name": "stderr",
          "output_type": "stream",
          "text": [
            "Training: 100%|██████████| 160/160 [01:11<00:00,  2.23batch/s]\n"
          ]
        },
        {
          "name": "stdout",
          "output_type": "stream",
          "text": [
            "[G loss: 1.7924602031707764 | identity: 0.14653147757053375 GAN: 0.9661885499954224 cycle: 0.05332086607813835]\n",
            "[D loss: 1.1702929735183716 | D_A: 0.5567703247070312 D_B: 0.6135226488113403]\n",
            "[Epoch 107/200]\n"
          ]
        },
        {
          "name": "stderr",
          "output_type": "stream",
          "text": [
            "Training: 100%|██████████| 160/160 [01:11<00:00,  2.23batch/s]\n"
          ]
        },
        {
          "name": "stdout",
          "output_type": "stream",
          "text": [
            "[G loss: 1.578008770942688 | identity: 0.14159396290779114 GAN: 0.8124105930328369 cycle: 0.048241034150123596]\n",
            "[D loss: 1.190974473953247 | D_A: 0.5901244878768921 D_B: 0.6008500456809998]\n",
            "[Epoch 108/200]\n"
          ]
        },
        {
          "name": "stderr",
          "output_type": "stream",
          "text": [
            "Training: 100%|██████████| 160/160 [01:11<00:00,  2.23batch/s]\n"
          ]
        },
        {
          "name": "stdout",
          "output_type": "stream",
          "text": [
            "[G loss: 1.7893413305282593 | identity: 0.14137813448905945 GAN: 0.9665537476539612 cycle: 0.05400313436985016]\n",
            "[D loss: 1.1475603580474854 | D_A: 0.5750135183334351 D_B: 0.5725467801094055]\n",
            "[Epoch 109/200]\n"
          ]
        },
        {
          "name": "stderr",
          "output_type": "stream",
          "text": [
            "Training: 100%|██████████| 160/160 [01:11<00:00,  2.23batch/s]\n"
          ]
        },
        {
          "name": "stdout",
          "output_type": "stream",
          "text": [
            "[G loss: 1.56170654296875 | identity: 0.1468411535024643 GAN: 0.7783384919166565 cycle: 0.04896857589483261]\n",
            "[D loss: 1.1611958742141724 | D_A: 0.577288031578064 D_B: 0.5839078426361084]\n",
            "[Epoch 110/200]\n"
          ]
        },
        {
          "name": "stderr",
          "output_type": "stream",
          "text": [
            "Training: 100%|██████████| 160/160 [01:11<00:00,  2.23batch/s]\n"
          ]
        },
        {
          "name": "stdout",
          "output_type": "stream",
          "text": [
            "[G loss: 1.7089428901672363 | identity: 0.14640703797340393 GAN: 0.8694937229156494 cycle: 0.0546635165810585]\n",
            "[D loss: 1.105889081954956 | D_A: 0.5626325607299805 D_B: 0.5432565212249756]\n",
            "[Epoch 111/200]\n"
          ]
        },
        {
          "name": "stderr",
          "output_type": "stream",
          "text": [
            "Training: 100%|██████████| 160/160 [01:11<00:00,  2.23batch/s]\n"
          ]
        },
        {
          "name": "stdout",
          "output_type": "stream",
          "text": [
            "[G loss: 1.6386828422546387 | identity: 0.13833016157150269 GAN: 0.8874330520629883 cycle: 0.0474589467048645]\n",
            "[D loss: 1.1532840728759766 | D_A: 0.5899306535720825 D_B: 0.563353419303894]\n",
            "[Epoch 112/200]\n"
          ]
        },
        {
          "name": "stderr",
          "output_type": "stream",
          "text": [
            "Training: 100%|██████████| 160/160 [01:11<00:00,  2.23batch/s]\n"
          ]
        },
        {
          "name": "stdout",
          "output_type": "stream",
          "text": [
            "[G loss: 1.5784169435501099 | identity: 0.1413194239139557 GAN: 0.7677364349365234 cycle: 0.05280417203903198]\n",
            "[D loss: 1.137845516204834 | D_A: 0.5622365474700928 D_B: 0.5756089091300964]\n",
            "[Epoch 113/200]\n"
          ]
        },
        {
          "name": "stderr",
          "output_type": "stream",
          "text": [
            "Training: 100%|██████████| 160/160 [01:11<00:00,  2.23batch/s]\n"
          ]
        },
        {
          "name": "stdout",
          "output_type": "stream",
          "text": [
            "[G loss: 1.644773244857788 | identity: 0.1592232882976532 GAN: 0.8357278108596802 cycle: 0.049059897661209106]\n",
            "[D loss: 1.1482322216033936 | D_A: 0.5807862281799316 D_B: 0.5674459338188171]\n",
            "[Epoch 114/200]\n"
          ]
        },
        {
          "name": "stderr",
          "output_type": "stream",
          "text": [
            "Training: 100%|██████████| 160/160 [01:11<00:00,  2.23batch/s]\n"
          ]
        },
        {
          "name": "stdout",
          "output_type": "stream",
          "text": [
            "[G loss: 1.5759212970733643 | identity: 0.14873215556144714 GAN: 0.8372360467910767 cycle: 0.04412210360169411]\n",
            "[D loss: 1.1290898323059082 | D_A: 0.5643594861030579 D_B: 0.5647302865982056]\n",
            "[Epoch 115/200]\n"
          ]
        },
        {
          "name": "stderr",
          "output_type": "stream",
          "text": [
            "Training: 100%|██████████| 160/160 [01:11<00:00,  2.23batch/s]\n"
          ]
        },
        {
          "name": "stdout",
          "output_type": "stream",
          "text": [
            "[G loss: 1.6465985774993896 | identity: 0.1520061194896698 GAN: 0.8632482290267944 cycle: 0.04793381690979004]\n",
            "[D loss: 1.142446517944336 | D_A: 0.5672423839569092 D_B: 0.5752041339874268]\n",
            "[Epoch 116/200]\n"
          ]
        },
        {
          "name": "stderr",
          "output_type": "stream",
          "text": [
            "Training: 100%|██████████| 160/160 [01:11<00:00,  2.23batch/s]\n"
          ]
        },
        {
          "name": "stdout",
          "output_type": "stream",
          "text": [
            "[G loss: 1.6319643259048462 | identity: 0.14159315824508667 GAN: 0.8578048944473267 cycle: 0.04909731447696686]\n",
            "[D loss: 1.0878151655197144 | D_A: 0.5464639067649841 D_B: 0.5413512587547302]\n",
            "[Epoch 117/200]\n"
          ]
        },
        {
          "name": "stderr",
          "output_type": "stream",
          "text": [
            "Training: 100%|██████████| 160/160 [01:11<00:00,  2.23batch/s]\n"
          ]
        },
        {
          "name": "stdout",
          "output_type": "stream",
          "text": [
            "[G loss: 1.7038310766220093 | identity: 0.14909657835960388 GAN: 0.9328468441963196 cycle: 0.047279104590415955]\n",
            "[D loss: 1.125319480895996 | D_A: 0.553676187992096 D_B: 0.5716433525085449]\n",
            "[Epoch 118/200]\n"
          ]
        },
        {
          "name": "stderr",
          "output_type": "stream",
          "text": [
            "Training: 100%|██████████| 160/160 [01:11<00:00,  2.23batch/s]\n"
          ]
        },
        {
          "name": "stdout",
          "output_type": "stream",
          "text": [
            "[G loss: 1.591585636138916 | identity: 0.14854645729064941 GAN: 0.848341703414917 cycle: 0.04461510106921196]\n",
            "[D loss: 1.0886882543563843 | D_A: 0.5373234152793884 D_B: 0.5513648390769958]\n",
            "[Epoch 119/200]\n"
          ]
        },
        {
          "name": "stderr",
          "output_type": "stream",
          "text": [
            "Training: 100%|██████████| 160/160 [01:11<00:00,  2.23batch/s]\n"
          ]
        },
        {
          "name": "stdout",
          "output_type": "stream",
          "text": [
            "[G loss: 1.6548298597335815 | identity: 0.1477549970149994 GAN: 0.8468673229217529 cycle: 0.051245249807834625]\n",
            "[D loss: 1.138348937034607 | D_A: 0.5615842342376709 D_B: 0.576764702796936]\n",
            "[Epoch 120/200]\n"
          ]
        },
        {
          "name": "stderr",
          "output_type": "stream",
          "text": [
            "Training: 100%|██████████| 160/160 [01:11<00:00,  2.23batch/s]\n"
          ]
        },
        {
          "name": "stdout",
          "output_type": "stream",
          "text": [
            "[G loss: 1.5862672328948975 | identity: 0.1670508086681366 GAN: 0.7786841988563538 cycle: 0.04734813794493675]\n",
            "[D loss: 1.1377830505371094 | D_A: 0.578300952911377 D_B: 0.5594821572303772]\n",
            "[Epoch 121/200]\n"
          ]
        },
        {
          "name": "stderr",
          "output_type": "stream",
          "text": [
            "Training: 100%|██████████| 160/160 [01:11<00:00,  2.23batch/s]\n"
          ]
        },
        {
          "name": "stdout",
          "output_type": "stream",
          "text": [
            "[G loss: 1.7043447494506836 | identity: 0.1559617817401886 GAN: 0.8985306024551392 cycle: 0.04938904941082001]\n",
            "[D loss: 1.1524581909179688 | D_A: 0.5716308951377869 D_B: 0.5808273553848267]\n",
            "[Epoch 122/200]\n"
          ]
        },
        {
          "name": "stderr",
          "output_type": "stream",
          "text": [
            "Training: 100%|██████████| 160/160 [01:11<00:00,  2.23batch/s]\n"
          ]
        },
        {
          "name": "stdout",
          "output_type": "stream",
          "text": [
            "[G loss: 1.5847463607788086 | identity: 0.15653519332408905 GAN: 0.8226197361946106 cycle: 0.04490562528371811]\n",
            "[D loss: 1.1571975946426392 | D_A: 0.5792616009712219 D_B: 0.5779359936714172]\n",
            "[Epoch 123/200]\n"
          ]
        },
        {
          "name": "stderr",
          "output_type": "stream",
          "text": [
            "Training: 100%|██████████| 160/160 [01:11<00:00,  2.23batch/s]\n"
          ]
        },
        {
          "name": "stdout",
          "output_type": "stream",
          "text": [
            "[G loss: 1.628890037536621 | identity: 0.14960187673568726 GAN: 0.8026255369186401 cycle: 0.05270606651902199]\n",
            "[D loss: 1.1953034400939941 | D_A: 0.6030344367027283 D_B: 0.5922690033912659]\n",
            "[Epoch 124/200]\n"
          ]
        },
        {
          "name": "stderr",
          "output_type": "stream",
          "text": [
            "Training: 100%|██████████| 160/160 [01:11<00:00,  2.23batch/s]\n"
          ]
        },
        {
          "name": "stdout",
          "output_type": "stream",
          "text": [
            "[G loss: 1.6022108793258667 | identity: 0.16402554512023926 GAN: 0.7733030915260315 cycle: 0.050085678696632385]\n",
            "[D loss: 1.1658939123153687 | D_A: 0.5907700061798096 D_B: 0.5751239061355591]\n",
            "[Epoch 125/200]\n"
          ]
        },
        {
          "name": "stderr",
          "output_type": "stream",
          "text": [
            "Training: 100%|██████████| 160/160 [01:11<00:00,  2.23batch/s]\n"
          ]
        },
        {
          "name": "stdout",
          "output_type": "stream",
          "text": [
            "[G loss: 1.6520607471466064 | identity: 0.15286709368228912 GAN: 0.8703805804252625 cycle: 0.0475945919752121]\n",
            "[D loss: 1.1320759057998657 | D_A: 0.5575718879699707 D_B: 0.574504017829895]\n",
            "[Epoch 126/200]\n"
          ]
        },
        {
          "name": "stderr",
          "output_type": "stream",
          "text": [
            "Training: 100%|██████████| 160/160 [01:11<00:00,  2.23batch/s]\n"
          ]
        },
        {
          "name": "stdout",
          "output_type": "stream",
          "text": [
            "[G loss: 1.6383388042449951 | identity: 0.14988377690315247 GAN: 0.8329868316650391 cycle: 0.05055845528841019]\n",
            "[D loss: 1.1433110237121582 | D_A: 0.5733642578125 D_B: 0.5699467658996582]\n",
            "[Epoch 127/200]\n"
          ]
        },
        {
          "name": "stderr",
          "output_type": "stream",
          "text": [
            "Training: 100%|██████████| 160/160 [01:11<00:00,  2.23batch/s]\n"
          ]
        },
        {
          "name": "stdout",
          "output_type": "stream",
          "text": [
            "[G loss: 1.5422182083129883 | identity: 0.15334461629390717 GAN: 0.7991355657577515 cycle: 0.04363933950662613]\n",
            "[D loss: 1.1503407955169678 | D_A: 0.5886845588684082 D_B: 0.5616561770439148]\n",
            "[Epoch 128/200]\n"
          ]
        },
        {
          "name": "stderr",
          "output_type": "stream",
          "text": [
            "Training: 100%|██████████| 160/160 [01:11<00:00,  2.23batch/s]\n"
          ]
        },
        {
          "name": "stdout",
          "output_type": "stream",
          "text": [
            "[G loss: 1.5383139848709106 | identity: 0.15280942618846893 GAN: 0.7672210931777954 cycle: 0.04654739797115326]\n",
            "[D loss: 1.1632159948349 | D_A: 0.5983780026435852 D_B: 0.5648379921913147]\n",
            "[Epoch 129/200]\n"
          ]
        },
        {
          "name": "stderr",
          "output_type": "stream",
          "text": [
            "Training: 100%|██████████| 160/160 [01:11<00:00,  2.23batch/s]\n"
          ]
        },
        {
          "name": "stdout",
          "output_type": "stream",
          "text": [
            "[G loss: 1.6462337970733643 | identity: 0.14551028609275818 GAN: 0.881545901298523 cycle: 0.047366730868816376]\n",
            "[D loss: 1.1338915824890137 | D_A: 0.5723879337310791 D_B: 0.5615036487579346]\n",
            "[Epoch 130/200]\n"
          ]
        },
        {
          "name": "stderr",
          "output_type": "stream",
          "text": [
            "Training: 100%|██████████| 160/160 [01:11<00:00,  2.23batch/s]\n"
          ]
        },
        {
          "name": "stdout",
          "output_type": "stream",
          "text": [
            "[G loss: 1.8192216157913208 | identity: 0.1403007209300995 GAN: 0.9686228632926941 cycle: 0.056999728083610535]\n",
            "[D loss: 1.1496319770812988 | D_A: 0.5692538022994995 D_B: 0.5803781747817993]\n",
            "[Epoch 131/200]\n"
          ]
        },
        {
          "name": "stderr",
          "output_type": "stream",
          "text": [
            "Training: 100%|██████████| 160/160 [01:11<00:00,  2.23batch/s]\n"
          ]
        },
        {
          "name": "stdout",
          "output_type": "stream",
          "text": [
            "[G loss: 1.6695438623428345 | identity: 0.1453714370727539 GAN: 0.8597456216812134 cycle: 0.05190553516149521]\n",
            "[D loss: 1.1226933002471924 | D_A: 0.5670716166496277 D_B: 0.5556216239929199]\n",
            "[Epoch 132/200]\n"
          ]
        },
        {
          "name": "stderr",
          "output_type": "stream",
          "text": [
            "Training: 100%|██████████| 160/160 [01:11<00:00,  2.23batch/s]\n"
          ]
        },
        {
          "name": "stdout",
          "output_type": "stream",
          "text": [
            "[G loss: 1.8093470335006714 | identity: 0.15105852484703064 GAN: 0.8340049982070923 cycle: 0.0673225075006485]\n",
            "[D loss: 1.1343257427215576 | D_A: 0.5676790475845337 D_B: 0.5666466951370239]\n",
            "[Epoch 133/200]\n"
          ]
        },
        {
          "name": "stderr",
          "output_type": "stream",
          "text": [
            "Training: 100%|██████████| 160/160 [01:11<00:00,  2.23batch/s]\n"
          ]
        },
        {
          "name": "stdout",
          "output_type": "stream",
          "text": [
            "[G loss: 1.4428280591964722 | identity: 0.14989200234413147 GAN: 0.7220420837402344 cycle: 0.0421002022922039]\n",
            "[D loss: 1.206170678138733 | D_A: 0.6156550645828247 D_B: 0.5905156135559082]\n",
            "[Epoch 134/200]\n"
          ]
        },
        {
          "name": "stderr",
          "output_type": "stream",
          "text": [
            "Training: 100%|██████████| 160/160 [01:11<00:00,  2.23batch/s]\n"
          ]
        },
        {
          "name": "stdout",
          "output_type": "stream",
          "text": [
            "[G loss: 1.629703164100647 | identity: 0.1476641297340393 GAN: 0.873650074005127 cycle: 0.04607248306274414]\n",
            "[D loss: 1.0896388292312622 | D_A: 0.5457581877708435 D_B: 0.5438806414604187]\n",
            "[Epoch 135/200]\n"
          ]
        },
        {
          "name": "stderr",
          "output_type": "stream",
          "text": [
            "Training: 100%|██████████| 160/160 [01:11<00:00,  2.23batch/s]\n"
          ]
        },
        {
          "name": "stdout",
          "output_type": "stream",
          "text": [
            "[G loss: 1.7293999195098877 | identity: 0.1483595073223114 GAN: 0.9785001277923584 cycle: 0.04541806876659393]\n",
            "[D loss: 1.2081332206726074 | D_A: 0.5836310386657715 D_B: 0.6245021820068359]\n",
            "[Epoch 136/200]\n"
          ]
        },
        {
          "name": "stderr",
          "output_type": "stream",
          "text": [
            "Training: 100%|██████████| 160/160 [01:11<00:00,  2.23batch/s]\n"
          ]
        },
        {
          "name": "stdout",
          "output_type": "stream",
          "text": [
            "[G loss: 1.5653221607208252 | identity: 0.1480255275964737 GAN: 0.8379174470901489 cycle: 0.04313536733388901]\n",
            "[D loss: 1.1504359245300293 | D_A: 0.570824384689331 D_B: 0.5796115398406982]\n",
            "[Epoch 137/200]\n"
          ]
        },
        {
          "name": "stderr",
          "output_type": "stream",
          "text": [
            "Training: 100%|██████████| 160/160 [01:11<00:00,  2.23batch/s]\n"
          ]
        },
        {
          "name": "stdout",
          "output_type": "stream",
          "text": [
            "[G loss: 1.5113093852996826 | identity: 0.14727020263671875 GAN: 0.7666018605232239 cycle: 0.04501672089099884]\n",
            "[D loss: 1.1730093955993652 | D_A: 0.5798913240432739 D_B: 0.5931181311607361]\n",
            "[Epoch 138/200]\n"
          ]
        },
        {
          "name": "stderr",
          "output_type": "stream",
          "text": [
            "Training: 100%|██████████| 160/160 [01:11<00:00,  2.23batch/s]\n"
          ]
        },
        {
          "name": "stdout",
          "output_type": "stream",
          "text": [
            "[G loss: 1.597066879272461 | identity: 0.1445164978504181 GAN: 0.8229492902755737 cycle: 0.04850845783948898]\n",
            "[D loss: 1.1920043230056763 | D_A: 0.5820249915122986 D_B: 0.6099793314933777]\n",
            "[Epoch 139/200]\n"
          ]
        },
        {
          "name": "stderr",
          "output_type": "stream",
          "text": [
            "Training: 100%|██████████| 160/160 [01:11<00:00,  2.23batch/s]\n"
          ]
        },
        {
          "name": "stdout",
          "output_type": "stream",
          "text": [
            "[G loss: 1.6139435768127441 | identity: 0.14715629816055298 GAN: 0.8642642498016357 cycle: 0.045536674559116364]\n",
            "[D loss: 1.1464622020721436 | D_A: 0.5755106210708618 D_B: 0.5709515810012817]\n",
            "[Epoch 140/200]\n"
          ]
        },
        {
          "name": "stderr",
          "output_type": "stream",
          "text": [
            "Training: 100%|██████████| 160/160 [01:11<00:00,  2.23batch/s]\n"
          ]
        },
        {
          "name": "stdout",
          "output_type": "stream",
          "text": [
            "[G loss: 1.8888518810272217 | identity: 0.19430223107337952 GAN: 0.7976265549659729 cycle: 0.049810975790023804]\n",
            "[D loss: 1.2215360403060913 | D_A: 0.6357474327087402 D_B: 0.5857886075973511]\n",
            "[Epoch 141/200]\n"
          ]
        },
        {
          "name": "stderr",
          "output_type": "stream",
          "text": [
            "Training: 100%|██████████| 160/160 [01:11<00:00,  2.23batch/s]\n"
          ]
        },
        {
          "name": "stdout",
          "output_type": "stream",
          "text": [
            "[G loss: 1.773648738861084 | identity: 0.16617771983146667 GAN: 0.7512025237083435 cycle: 0.048066720366477966]\n",
            "[D loss: 1.2262500524520874 | D_A: 0.6046228408813477 D_B: 0.6216272115707397]\n",
            "[Epoch 142/200]\n"
          ]
        },
        {
          "name": "stderr",
          "output_type": "stream",
          "text": [
            "Training: 100%|██████████| 160/160 [01:11<00:00,  2.23batch/s]\n"
          ]
        },
        {
          "name": "stdout",
          "output_type": "stream",
          "text": [
            "[G loss: 1.9695420265197754 | identity: 0.18886160850524902 GAN: 0.8437883853912354 cycle: 0.051499783992767334]\n",
            "[D loss: 1.2116177082061768 | D_A: 0.5946289300918579 D_B: 0.6169887781143188]\n",
            "[Epoch 143/200]\n"
          ]
        },
        {
          "name": "stderr",
          "output_type": "stream",
          "text": [
            "Training: 100%|██████████| 160/160 [01:11<00:00,  2.23batch/s]\n"
          ]
        },
        {
          "name": "stdout",
          "output_type": "stream",
          "text": [
            "[G loss: 1.7732704877853394 | identity: 0.17929385602474213 GAN: 0.7568926811218262 cycle: 0.04586375877261162]\n",
            "[D loss: 1.20802903175354 | D_A: 0.6043944358825684 D_B: 0.6036345362663269]\n",
            "[Epoch 144/200]\n"
          ]
        },
        {
          "name": "stderr",
          "output_type": "stream",
          "text": [
            "Training: 100%|██████████| 160/160 [01:11<00:00,  2.23batch/s]\n"
          ]
        },
        {
          "name": "stdout",
          "output_type": "stream",
          "text": [
            "[G loss: 1.9709043502807617 | identity: 0.1786297708749771 GAN: 0.8313674926757812 cycle: 0.054522328078746796]\n",
            "[D loss: 1.219825029373169 | D_A: 0.6087028980255127 D_B: 0.6111221313476562]\n",
            "[Epoch 145/200]\n"
          ]
        },
        {
          "name": "stderr",
          "output_type": "stream",
          "text": [
            "Training: 100%|██████████| 160/160 [01:11<00:00,  2.23batch/s]\n"
          ]
        },
        {
          "name": "stdout",
          "output_type": "stream",
          "text": [
            "[G loss: 1.838625431060791 | identity: 0.1755756139755249 GAN: 0.7434087991714478 cycle: 0.05479365214705467]\n",
            "[D loss: 1.1937146186828613 | D_A: 0.6095918416976929 D_B: 0.5841227769851685]\n",
            "[Epoch 146/200]\n"
          ]
        },
        {
          "name": "stderr",
          "output_type": "stream",
          "text": [
            "Training: 100%|██████████| 160/160 [01:11<00:00,  2.23batch/s]\n"
          ]
        },
        {
          "name": "stdout",
          "output_type": "stream",
          "text": [
            "[G loss: 1.8055174350738525 | identity: 0.17021732032299042 GAN: 0.7791157960891724 cycle: 0.046662647277116776]\n",
            "[D loss: 1.2512091398239136 | D_A: 0.6187735795974731 D_B: 0.6324355602264404]\n",
            "[Epoch 147/200]\n"
          ]
        },
        {
          "name": "stderr",
          "output_type": "stream",
          "text": [
            "Training: 100%|██████████| 160/160 [01:11<00:00,  2.23batch/s]\n"
          ]
        },
        {
          "name": "stdout",
          "output_type": "stream",
          "text": [
            "[G loss: 1.9413650035858154 | identity: 0.1957779824733734 GAN: 0.8221598863601685 cycle: 0.051234714686870575]\n",
            "[D loss: 1.2329877614974976 | D_A: 0.6191718578338623 D_B: 0.6138159036636353]\n",
            "[Epoch 148/200]\n"
          ]
        },
        {
          "name": "stderr",
          "output_type": "stream",
          "text": [
            "Training: 100%|██████████| 160/160 [01:11<00:00,  2.23batch/s]\n"
          ]
        },
        {
          "name": "stdout",
          "output_type": "stream",
          "text": [
            "[G loss: 1.8673654794692993 | identity: 0.18562939763069153 GAN: 0.7822444438934326 cycle: 0.050836943089962006]\n",
            "[D loss: 1.2121522426605225 | D_A: 0.601936936378479 D_B: 0.6102153062820435]\n",
            "[Epoch 149/200]\n"
          ]
        },
        {
          "name": "stderr",
          "output_type": "stream",
          "text": [
            "Training: 100%|██████████| 160/160 [01:11<00:00,  2.23batch/s]\n"
          ]
        },
        {
          "name": "stdout",
          "output_type": "stream",
          "text": [
            "[G loss: 1.7916336059570312 | identity: 0.1811850666999817 GAN: 0.7560574412345886 cycle: 0.0476362444460392]\n",
            "[D loss: 1.2433831691741943 | D_A: 0.609209418296814 D_B: 0.6341736912727356]\n",
            "[Epoch 150/200]\n"
          ]
        },
        {
          "name": "stderr",
          "output_type": "stream",
          "text": [
            "Training: 100%|██████████| 160/160 [01:11<00:00,  2.23batch/s]\n"
          ]
        },
        {
          "name": "stdout",
          "output_type": "stream",
          "text": [
            "[G loss: 1.8759040832519531 | identity: 0.16818374395370483 GAN: 0.7797225713729858 cycle: 0.05381365492939949]\n",
            "[D loss: 1.2623751163482666 | D_A: 0.6272012591362 D_B: 0.6351737976074219]\n",
            "[Epoch 151/200]\n"
          ]
        },
        {
          "name": "stderr",
          "output_type": "stream",
          "text": [
            "Training: 100%|██████████| 160/160 [01:11<00:00,  2.23batch/s]\n"
          ]
        },
        {
          "name": "stdout",
          "output_type": "stream",
          "text": [
            "[G loss: 1.856448769569397 | identity: 0.17187777161598206 GAN: 0.7649991512298584 cycle: 0.05370722711086273]\n",
            "[D loss: 1.2334086894989014 | D_A: 0.6177957057952881 D_B: 0.6156129837036133]\n",
            "[Epoch 152/200]\n"
          ]
        },
        {
          "name": "stderr",
          "output_type": "stream",
          "text": [
            "Training: 100%|██████████| 160/160 [01:11<00:00,  2.23batch/s]\n"
          ]
        },
        {
          "name": "stdout",
          "output_type": "stream",
          "text": [
            "[G loss: 1.8513903617858887 | identity: 0.1973440945148468 GAN: 0.772117555141449 cycle: 0.04958700016140938]\n",
            "[D loss: 1.2272412776947021 | D_A: 0.5910921096801758 D_B: 0.6361491680145264]\n",
            "[Epoch 153/200]\n"
          ]
        },
        {
          "name": "stderr",
          "output_type": "stream",
          "text": [
            "Training: 100%|██████████| 160/160 [01:11<00:00,  2.23batch/s]\n"
          ]
        },
        {
          "name": "stdout",
          "output_type": "stream",
          "text": [
            "[G loss: 1.8751577138900757 | identity: 0.18023577332496643 GAN: 0.813463032245636 cycle: 0.04747273772954941]\n",
            "[D loss: 1.245572566986084 | D_A: 0.6041487455368042 D_B: 0.6414238810539246]\n",
            "[Epoch 154/200]\n"
          ]
        },
        {
          "name": "stderr",
          "output_type": "stream",
          "text": [
            "Training: 100%|██████████| 160/160 [01:11<00:00,  2.23batch/s]\n"
          ]
        },
        {
          "name": "stdout",
          "output_type": "stream",
          "text": [
            "[G loss: 1.829547643661499 | identity: 0.18799614906311035 GAN: 0.7675260305404663 cycle: 0.0490262508392334]\n",
            "[D loss: 1.2364070415496826 | D_A: 0.6242545247077942 D_B: 0.6121525168418884]\n",
            "[Epoch 155/200]\n"
          ]
        },
        {
          "name": "stderr",
          "output_type": "stream",
          "text": [
            "Training: 100%|██████████| 160/160 [01:11<00:00,  2.23batch/s]\n"
          ]
        },
        {
          "name": "stdout",
          "output_type": "stream",
          "text": [
            "[G loss: 1.915639877319336 | identity: 0.182216078042984 GAN: 0.7865958213806152 cycle: 0.05535300821065903]\n",
            "[D loss: 1.233543038368225 | D_A: 0.6108350157737732 D_B: 0.6227080225944519]\n",
            "[Epoch 156/200]\n"
          ]
        },
        {
          "name": "stderr",
          "output_type": "stream",
          "text": [
            "Training: 100%|██████████| 160/160 [01:11<00:00,  2.23batch/s]\n"
          ]
        },
        {
          "name": "stdout",
          "output_type": "stream",
          "text": [
            "[G loss: 1.8928256034851074 | identity: 0.17474974691867828 GAN: 0.8125780820846558 cycle: 0.04992087930440903]\n",
            "[D loss: 1.2339081764221191 | D_A: 0.6026297807693481 D_B: 0.631278395652771]\n",
            "[Epoch 157/200]\n"
          ]
        },
        {
          "name": "stderr",
          "output_type": "stream",
          "text": [
            "Training: 100%|██████████| 160/160 [01:11<00:00,  2.23batch/s]\n"
          ]
        },
        {
          "name": "stdout",
          "output_type": "stream",
          "text": [
            "[G loss: 1.8194676637649536 | identity: 0.18800023198127747 GAN: 0.7911498546600342 cycle: 0.04447426646947861]\n",
            "[D loss: 1.2353603839874268 | D_A: 0.610159695148468 D_B: 0.625200629234314]\n",
            "[Epoch 158/200]\n"
          ]
        },
        {
          "name": "stderr",
          "output_type": "stream",
          "text": [
            "Training: 100%|██████████| 160/160 [01:11<00:00,  2.23batch/s]\n"
          ]
        },
        {
          "name": "stdout",
          "output_type": "stream",
          "text": [
            "[G loss: 1.755720853805542 | identity: 0.18284393846988678 GAN: 0.7423271536827087 cycle: 0.045938629657030106]\n",
            "[D loss: 1.2688276767730713 | D_A: 0.6241662502288818 D_B: 0.6446614265441895]\n",
            "[Epoch 159/200]\n"
          ]
        },
        {
          "name": "stderr",
          "output_type": "stream",
          "text": [
            "Training: 100%|██████████| 160/160 [01:11<00:00,  2.23batch/s]\n"
          ]
        },
        {
          "name": "stdout",
          "output_type": "stream",
          "text": [
            "[G loss: 1.7810465097427368 | identity: 0.17581021785736084 GAN: 0.7806870937347412 cycle: 0.043420568108558655]\n",
            "[D loss: 1.2666850090026855 | D_A: 0.6256648898124695 D_B: 0.6410200595855713]\n",
            "[Epoch 160/200]\n"
          ]
        },
        {
          "name": "stderr",
          "output_type": "stream",
          "text": [
            "Training: 100%|██████████| 160/160 [01:11<00:00,  2.23batch/s]\n"
          ]
        },
        {
          "name": "stdout",
          "output_type": "stream",
          "text": [
            "[G loss: 1.8204262256622314 | identity: 0.19080042839050293 GAN: 0.7460075616836548 cycle: 0.051061443984508514]\n",
            "[D loss: 1.2453219890594482 | D_A: 0.6155516505241394 D_B: 0.6297703385353088]\n",
            "[Epoch 161/200]\n"
          ]
        },
        {
          "name": "stderr",
          "output_type": "stream",
          "text": [
            "Training: 100%|██████████| 160/160 [01:11<00:00,  2.23batch/s]\n"
          ]
        },
        {
          "name": "stdout",
          "output_type": "stream",
          "text": [
            "[G loss: 1.73338782787323 | identity: 0.1855010986328125 GAN: 0.7180861234664917 cycle: 0.04707576334476471]\n",
            "[D loss: 1.2656018733978271 | D_A: 0.6344054937362671 D_B: 0.6311964392662048]\n",
            "[Epoch 162/200]\n"
          ]
        },
        {
          "name": "stderr",
          "output_type": "stream",
          "text": [
            "Training: 100%|██████████| 160/160 [01:11<00:00,  2.23batch/s]\n"
          ]
        },
        {
          "name": "stdout",
          "output_type": "stream",
          "text": [
            "[G loss: 1.8923490047454834 | identity: 0.18505516648292542 GAN: 0.7834842205047607 cycle: 0.053206756711006165]\n",
            "[D loss: 1.243643045425415 | D_A: 0.6277570724487305 D_B: 0.6158859133720398]\n",
            "[Epoch 163/200]\n"
          ]
        },
        {
          "name": "stderr",
          "output_type": "stream",
          "text": [
            "Training: 100%|██████████| 160/160 [01:11<00:00,  2.23batch/s]\n"
          ]
        },
        {
          "name": "stdout",
          "output_type": "stream",
          "text": [
            "[G loss: 1.8619121313095093 | identity: 0.18887457251548767 GAN: 0.7880195379257202 cycle: 0.04910082742571831]\n",
            "[D loss: 1.242564082145691 | D_A: 0.6240140199661255 D_B: 0.6185500621795654]\n",
            "[Epoch 164/200]\n"
          ]
        },
        {
          "name": "stderr",
          "output_type": "stream",
          "text": [
            "Training: 100%|██████████| 160/160 [01:11<00:00,  2.23batch/s]\n"
          ]
        },
        {
          "name": "stdout",
          "output_type": "stream",
          "text": [
            "[G loss: 1.9678926467895508 | identity: 0.17520414292812347 GAN: 0.8716936111450195 cycle: 0.04851480945944786]\n",
            "[D loss: 1.2566478252410889 | D_A: 0.6230509877204895 D_B: 0.6335968971252441]\n",
            "[Epoch 165/200]\n"
          ]
        },
        {
          "name": "stderr",
          "output_type": "stream",
          "text": [
            "Training: 100%|██████████| 160/160 [01:11<00:00,  2.23batch/s]\n"
          ]
        },
        {
          "name": "stdout",
          "output_type": "stream",
          "text": [
            "[G loss: 1.799088716506958 | identity: 0.1717432141304016 GAN: 0.7655254602432251 cycle: 0.047905731946229935]\n",
            "[D loss: 1.2339140176773071 | D_A: 0.6205666661262512 D_B: 0.6133473515510559]\n",
            "[Epoch 166/200]\n"
          ]
        },
        {
          "name": "stderr",
          "output_type": "stream",
          "text": [
            "Training: 100%|██████████| 160/160 [01:11<00:00,  2.23batch/s]\n"
          ]
        },
        {
          "name": "stdout",
          "output_type": "stream",
          "text": [
            "[G loss: 1.8216837644577026 | identity: 0.1865783929824829 GAN: 0.7880374193191528 cycle: 0.04530491679906845]\n",
            "[D loss: 1.2399811744689941 | D_A: 0.6136056184768677 D_B: 0.6263755559921265]\n",
            "[Epoch 167/200]\n"
          ]
        },
        {
          "name": "stderr",
          "output_type": "stream",
          "text": [
            "Training: 100%|██████████| 160/160 [01:11<00:00,  2.23batch/s]\n"
          ]
        },
        {
          "name": "stdout",
          "output_type": "stream",
          "text": [
            "[G loss: 1.702172040939331 | identity: 0.1726098656654358 GAN: 0.7152126431465149 cycle: 0.04567433148622513]\n",
            "[D loss: 1.2406296730041504 | D_A: 0.6176944971084595 D_B: 0.6229351162910461]\n",
            "[Epoch 168/200]\n"
          ]
        },
        {
          "name": "stderr",
          "output_type": "stream",
          "text": [
            "Training: 100%|██████████| 160/160 [01:11<00:00,  2.23batch/s]\n"
          ]
        },
        {
          "name": "stdout",
          "output_type": "stream",
          "text": [
            "[G loss: 1.7163901329040527 | identity: 0.17628446221351624 GAN: 0.7078258991241455 cycle: 0.04783668369054794]\n",
            "[D loss: 1.2634601593017578 | D_A: 0.6282352805137634 D_B: 0.6352248787879944]\n",
            "[Epoch 169/200]\n"
          ]
        },
        {
          "name": "stderr",
          "output_type": "stream",
          "text": [
            "Training: 100%|██████████| 160/160 [01:11<00:00,  2.23batch/s]\n"
          ]
        },
        {
          "name": "stdout",
          "output_type": "stream",
          "text": [
            "[G loss: 1.7955471277236938 | identity: 0.18629594147205353 GAN: 0.7754138708114624 cycle: 0.04461303725838661]\n",
            "[D loss: 1.2367950677871704 | D_A: 0.6161859035491943 D_B: 0.6206091642379761]\n",
            "[Epoch 170/200]\n"
          ]
        },
        {
          "name": "stderr",
          "output_type": "stream",
          "text": [
            "Training: 100%|██████████| 160/160 [01:11<00:00,  2.23batch/s]\n"
          ]
        },
        {
          "name": "stdout",
          "output_type": "stream",
          "text": [
            "[G loss: 1.7116482257843018 | identity: 0.17697234451770782 GAN: 0.7247461676597595 cycle: 0.044755659997463226]\n",
            "[D loss: 1.2612671852111816 | D_A: 0.6080362796783447 D_B: 0.6532309055328369]\n",
            "[Epoch 171/200]\n"
          ]
        },
        {
          "name": "stderr",
          "output_type": "stream",
          "text": [
            "Training: 100%|██████████| 160/160 [01:11<00:00,  2.23batch/s]\n"
          ]
        },
        {
          "name": "stdout",
          "output_type": "stream",
          "text": [
            "[G loss: 1.6669716835021973 | identity: 0.17936967313289642 GAN: 0.6719931364059448 cycle: 0.04796123504638672]\n",
            "[D loss: 1.2772648334503174 | D_A: 0.6338146328926086 D_B: 0.643450140953064]\n",
            "[Epoch 172/200]\n"
          ]
        },
        {
          "name": "stderr",
          "output_type": "stream",
          "text": [
            "Training: 100%|██████████| 160/160 [01:11<00:00,  2.23batch/s]\n"
          ]
        },
        {
          "name": "stdout",
          "output_type": "stream",
          "text": [
            "[G loss: 1.7455495595932007 | identity: 0.1809215545654297 GAN: 0.7378321886062622 cycle: 0.04578796774148941]\n",
            "[D loss: 1.2542184591293335 | D_A: 0.6233420968055725 D_B: 0.630876362323761]\n",
            "[Epoch 173/200]\n"
          ]
        },
        {
          "name": "stderr",
          "output_type": "stream",
          "text": [
            "Training: 100%|██████████| 160/160 [01:11<00:00,  2.23batch/s]\n"
          ]
        },
        {
          "name": "stdout",
          "output_type": "stream",
          "text": [
            "[G loss: 1.81794011592865 | identity: 0.1794753074645996 GAN: 0.7886897325515747 cycle: 0.045543015003204346]\n",
            "[D loss: 1.2762385606765747 | D_A: 0.6278051137924194 D_B: 0.6484334468841553]\n",
            "[Epoch 174/200]\n"
          ]
        },
        {
          "name": "stderr",
          "output_type": "stream",
          "text": [
            "Training: 100%|██████████| 160/160 [01:11<00:00,  2.23batch/s]\n"
          ]
        },
        {
          "name": "stdout",
          "output_type": "stream",
          "text": [
            "[G loss: 1.849729299545288 | identity: 0.1797289252281189 GAN: 0.7864879369735718 cycle: 0.04902684688568115]\n",
            "[D loss: 1.2448171377182007 | D_A: 0.6236604452133179 D_B: 0.6211566925048828]\n",
            "[Epoch 175/200]\n"
          ]
        },
        {
          "name": "stderr",
          "output_type": "stream",
          "text": [
            "Training: 100%|██████████| 160/160 [01:11<00:00,  2.23batch/s]\n"
          ]
        },
        {
          "name": "stdout",
          "output_type": "stream",
          "text": [
            "[G loss: 1.7766520977020264 | identity: 0.19628798961639404 GAN: 0.7428852915763855 cycle: 0.04660361632704735]\n",
            "[D loss: 1.2782996892929077 | D_A: 0.6330483555793762 D_B: 0.6452513337135315]\n",
            "[Epoch 176/200]\n"
          ]
        },
        {
          "name": "stderr",
          "output_type": "stream",
          "text": [
            "Training: 100%|██████████| 160/160 [01:11<00:00,  2.23batch/s]\n"
          ]
        },
        {
          "name": "stdout",
          "output_type": "stream",
          "text": [
            "[G loss: 1.8572009801864624 | identity: 0.19012999534606934 GAN: 0.8091423511505127 cycle: 0.04533574357628822]\n",
            "[D loss: 1.2434425354003906 | D_A: 0.6199841499328613 D_B: 0.6234583854675293]\n",
            "[Epoch 177/200]\n"
          ]
        },
        {
          "name": "stderr",
          "output_type": "stream",
          "text": [
            "Training: 100%|██████████| 160/160 [01:11<00:00,  2.23batch/s]\n"
          ]
        },
        {
          "name": "stdout",
          "output_type": "stream",
          "text": [
            "[G loss: 1.8436545133590698 | identity: 0.1805763989686966 GAN: 0.7936360836029053 cycle: 0.047262392938137054]\n",
            "[D loss: 1.2686097621917725 | D_A: 0.6306964755058289 D_B: 0.6379132270812988]\n",
            "[Epoch 178/200]\n"
          ]
        },
        {
          "name": "stderr",
          "output_type": "stream",
          "text": [
            "Training: 100%|██████████| 160/160 [01:11<00:00,  2.23batch/s]\n"
          ]
        },
        {
          "name": "stdout",
          "output_type": "stream",
          "text": [
            "[G loss: 1.800189733505249 | identity: 0.18629267811775208 GAN: 0.7594940662384033 cycle: 0.047465600073337555]\n",
            "[D loss: 1.2597622871398926 | D_A: 0.6385904550552368 D_B: 0.6211718320846558]\n",
            "[Epoch 179/200]\n"
          ]
        },
        {
          "name": "stderr",
          "output_type": "stream",
          "text": [
            "Training: 100%|██████████| 160/160 [01:11<00:00,  2.23batch/s]\n"
          ]
        },
        {
          "name": "stdout",
          "output_type": "stream",
          "text": [
            "[G loss: 1.814207673072815 | identity: 0.17051149904727936 GAN: 0.7824525833129883 cycle: 0.047001734375953674]\n",
            "[D loss: 1.2662699222564697 | D_A: 0.6425796747207642 D_B: 0.6236902475357056]\n",
            "[Epoch 180/200]\n"
          ]
        },
        {
          "name": "stderr",
          "output_type": "stream",
          "text": [
            "Training: 100%|██████████| 160/160 [01:11<00:00,  2.23batch/s]\n"
          ]
        },
        {
          "name": "stdout",
          "output_type": "stream",
          "text": [
            "[G loss: 1.8561407327651978 | identity: 0.17721161246299744 GAN: 0.7982926368713379 cycle: 0.04814901202917099]\n",
            "[D loss: 1.2410215139389038 | D_A: 0.6161677837371826 D_B: 0.6248537302017212]\n",
            "[Epoch 181/200]\n"
          ]
        },
        {
          "name": "stderr",
          "output_type": "stream",
          "text": [
            "Training: 100%|██████████| 160/160 [01:11<00:00,  2.23batch/s]\n"
          ]
        },
        {
          "name": "stdout",
          "output_type": "stream",
          "text": [
            "[G loss: 1.7195122241973877 | identity: 0.17274890840053558 GAN: 0.7327205538749695 cycle: 0.04476824402809143]\n",
            "[D loss: 1.2913305759429932 | D_A: 0.647979199886322 D_B: 0.6433514356613159]\n",
            "[Epoch 182/200]\n"
          ]
        },
        {
          "name": "stderr",
          "output_type": "stream",
          "text": [
            "Training: 100%|██████████| 160/160 [01:11<00:00,  2.23batch/s]\n"
          ]
        },
        {
          "name": "stdout",
          "output_type": "stream",
          "text": [
            "[G loss: 1.7711718082427979 | identity: 0.18434932827949524 GAN: 0.7644690275192261 cycle: 0.044011905789375305]\n",
            "[D loss: 1.2587947845458984 | D_A: 0.6197975873947144 D_B: 0.6389971971511841]\n",
            "[Epoch 183/200]\n"
          ]
        },
        {
          "name": "stderr",
          "output_type": "stream",
          "text": [
            "Training: 100%|██████████| 160/160 [01:11<00:00,  2.23batch/s]\n"
          ]
        },
        {
          "name": "stdout",
          "output_type": "stream",
          "text": [
            "[G loss: 1.8163913488388062 | identity: 0.18528790771961212 GAN: 0.7760522365570068 cycle: 0.04670250043272972]\n",
            "[D loss: 1.257181167602539 | D_A: 0.6210460662841797 D_B: 0.6361350417137146]\n",
            "[Epoch 184/200]\n"
          ]
        },
        {
          "name": "stderr",
          "output_type": "stream",
          "text": [
            "Training: 100%|██████████| 160/160 [01:11<00:00,  2.23batch/s]\n"
          ]
        },
        {
          "name": "stdout",
          "output_type": "stream",
          "text": [
            "[G loss: 1.7905833721160889 | identity: 0.18193775415420532 GAN: 0.7543595433235168 cycle: 0.04771063104271889]\n",
            "[D loss: 1.2854249477386475 | D_A: 0.6390726566314697 D_B: 0.646352231502533]\n",
            "[Epoch 185/200]\n"
          ]
        },
        {
          "name": "stderr",
          "output_type": "stream",
          "text": [
            "Training: 100%|██████████| 160/160 [01:11<00:00,  2.23batch/s]\n"
          ]
        },
        {
          "name": "stdout",
          "output_type": "stream",
          "text": [
            "[G loss: 1.8890748023986816 | identity: 0.1754601001739502 GAN: 0.8066737651824951 cycle: 0.05036040395498276]\n",
            "[D loss: 1.2891511917114258 | D_A: 0.652786135673523 D_B: 0.6363651156425476]\n",
            "[Epoch 186/200]\n"
          ]
        },
        {
          "name": "stderr",
          "output_type": "stream",
          "text": [
            "Training: 100%|██████████| 160/160 [01:11<00:00,  2.23batch/s]\n"
          ]
        },
        {
          "name": "stdout",
          "output_type": "stream",
          "text": [
            "[G loss: 1.7359462976455688 | identity: 0.17456504702568054 GAN: 0.7586010694503784 cycle: 0.04234796762466431]\n",
            "[D loss: 1.2815606594085693 | D_A: 0.6388809680938721 D_B: 0.6426796913146973]\n",
            "[Epoch 187/200]\n"
          ]
        },
        {
          "name": "stderr",
          "output_type": "stream",
          "text": [
            "Training: 100%|██████████| 160/160 [01:11<00:00,  2.23batch/s]\n"
          ]
        },
        {
          "name": "stdout",
          "output_type": "stream",
          "text": [
            "[G loss: 1.7969952821731567 | identity: 0.18602913618087769 GAN: 0.766426682472229 cycle: 0.04613260179758072]\n",
            "[D loss: 1.288535714149475 | D_A: 0.635919451713562 D_B: 0.6526162624359131]\n",
            "[Epoch 188/200]\n"
          ]
        },
        {
          "name": "stderr",
          "output_type": "stream",
          "text": [
            "Training: 100%|██████████| 160/160 [01:11<00:00,  2.23batch/s]\n"
          ]
        },
        {
          "name": "stdout",
          "output_type": "stream",
          "text": [
            "[G loss: 1.7967593669891357 | identity: 0.18836882710456848 GAN: 0.7574244141578674 cycle: 0.04722539335489273]\n",
            "[D loss: 1.2697398662567139 | D_A: 0.6347526907920837 D_B: 0.6349872350692749]\n",
            "[Epoch 189/200]\n"
          ]
        },
        {
          "name": "stderr",
          "output_type": "stream",
          "text": [
            "Training: 100%|██████████| 160/160 [01:11<00:00,  2.23batch/s]\n"
          ]
        },
        {
          "name": "stdout",
          "output_type": "stream",
          "text": [
            "[G loss: 1.8464583158493042 | identity: 0.17957919836044312 GAN: 0.7747241258621216 cycle: 0.05047927796840668]\n",
            "[D loss: 1.265219807624817 | D_A: 0.6274940967559814 D_B: 0.6377257108688354]\n",
            "[Epoch 190/200]\n"
          ]
        },
        {
          "name": "stderr",
          "output_type": "stream",
          "text": [
            "Training: 100%|██████████| 160/160 [01:11<00:00,  2.23batch/s]\n"
          ]
        },
        {
          "name": "stdout",
          "output_type": "stream",
          "text": [
            "[G loss: 1.7822741270065308 | identity: 0.18609511852264404 GAN: 0.7574025392532349 cycle: 0.046007510274648666]\n",
            "[D loss: 1.2806215286254883 | D_A: 0.6459839344024658 D_B: 0.6346376538276672]\n",
            "[Epoch 191/200]\n"
          ]
        },
        {
          "name": "stderr",
          "output_type": "stream",
          "text": [
            "Training: 100%|██████████| 160/160 [01:11<00:00,  2.23batch/s]\n"
          ]
        },
        {
          "name": "stdout",
          "output_type": "stream",
          "text": [
            "[G loss: 1.7489831447601318 | identity: 0.17590370774269104 GAN: 0.7678620219230652 cycle: 0.04212864488363266]\n",
            "[D loss: 1.3036662340164185 | D_A: 0.6503943204879761 D_B: 0.6532719135284424]\n",
            "[Epoch 192/200]\n"
          ]
        },
        {
          "name": "stderr",
          "output_type": "stream",
          "text": [
            "Training: 100%|██████████| 160/160 [01:11<00:00,  2.23batch/s]\n"
          ]
        },
        {
          "name": "stdout",
          "output_type": "stream",
          "text": [
            "[G loss: 1.7976460456848145 | identity: 0.17999544739723206 GAN: 0.7804557681083679 cycle: 0.04469669610261917]\n",
            "[D loss: 1.2989497184753418 | D_A: 0.647745668888092 D_B: 0.6512040495872498]\n",
            "[Epoch 193/200]\n"
          ]
        },
        {
          "name": "stderr",
          "output_type": "stream",
          "text": [
            "Training: 100%|██████████| 160/160 [01:11<00:00,  2.23batch/s]\n"
          ]
        },
        {
          "name": "stdout",
          "output_type": "stream",
          "text": [
            "[G loss: 1.841383695602417 | identity: 0.18186303973197937 GAN: 0.7956578731536865 cycle: 0.046603377908468246]\n",
            "[D loss: 1.2813291549682617 | D_A: 0.6407838463783264 D_B: 0.6405453681945801]\n",
            "[Epoch 194/200]\n"
          ]
        },
        {
          "name": "stderr",
          "output_type": "stream",
          "text": [
            "Training: 100%|██████████| 160/160 [01:11<00:00,  2.23batch/s]\n"
          ]
        },
        {
          "name": "stdout",
          "output_type": "stream",
          "text": [
            "[G loss: 1.746885061264038 | identity: 0.18901264667510986 GAN: 0.743401288986206 cycle: 0.04427704960107803]\n",
            "[D loss: 1.247514247894287 | D_A: 0.6311590075492859 D_B: 0.616355299949646]\n",
            "[Epoch 195/200]\n"
          ]
        },
        {
          "name": "stderr",
          "output_type": "stream",
          "text": [
            "Training: 100%|██████████| 160/160 [01:11<00:00,  2.23batch/s]\n"
          ]
        },
        {
          "name": "stdout",
          "output_type": "stream",
          "text": [
            "[G loss: 1.7901222705841064 | identity: 0.17980065941810608 GAN: 0.7447876930236816 cycle: 0.04931400716304779]\n",
            "[D loss: 1.2905642986297607 | D_A: 0.6388437747955322 D_B: 0.6517205834388733]\n",
            "[Epoch 196/200]\n"
          ]
        },
        {
          "name": "stderr",
          "output_type": "stream",
          "text": [
            "Training: 100%|██████████| 160/160 [01:11<00:00,  2.23batch/s]\n"
          ]
        },
        {
          "name": "stdout",
          "output_type": "stream",
          "text": [
            "[G loss: 1.7675235271453857 | identity: 0.19402608275413513 GAN: 0.7119994759559631 cycle: 0.05054980888962746]\n",
            "[D loss: 1.2549057006835938 | D_A: 0.6423792839050293 D_B: 0.6125264763832092]\n",
            "[Epoch 197/200]\n"
          ]
        },
        {
          "name": "stderr",
          "output_type": "stream",
          "text": [
            "Training: 100%|██████████| 160/160 [01:11<00:00,  2.23batch/s]\n"
          ]
        },
        {
          "name": "stdout",
          "output_type": "stream",
          "text": [
            "[G loss: 1.835546612739563 | identity: 0.1800437569618225 GAN: 0.7664941549301147 cycle: 0.05057617649435997]\n",
            "[D loss: 1.2381224632263184 | D_A: 0.6222848892211914 D_B: 0.6158375144004822]\n",
            "[Epoch 198/200]\n"
          ]
        },
        {
          "name": "stderr",
          "output_type": "stream",
          "text": [
            "Training: 100%|██████████| 160/160 [01:11<00:00,  2.23batch/s]\n"
          ]
        },
        {
          "name": "stdout",
          "output_type": "stream",
          "text": [
            "[G loss: 1.7292804718017578 | identity: 0.18626132607460022 GAN: 0.717125654220581 cycle: 0.0467330738902092]\n",
            "[D loss: 1.302215814590454 | D_A: 0.6584782600402832 D_B: 0.6437375545501709]\n",
            "[Epoch 199/200]\n"
          ]
        },
        {
          "name": "stderr",
          "output_type": "stream",
          "text": [
            "Training: 100%|██████████| 160/160 [01:11<00:00,  2.23batch/s]\n"
          ]
        },
        {
          "name": "stdout",
          "output_type": "stream",
          "text": [
            "[G loss: 1.7903443574905396 | identity: 0.18468546867370605 GAN: 0.747728705406189 cycle: 0.048406586050987244]\n",
            "[D loss: 1.2710974216461182 | D_A: 0.6333482265472412 D_B: 0.637749195098877]\n",
            "[Epoch 200/200]\n"
          ]
        },
        {
          "name": "stderr",
          "output_type": "stream",
          "text": [
            "Training: 100%|██████████| 160/160 [01:11<00:00,  2.23batch/s]"
          ]
        },
        {
          "name": "stdout",
          "output_type": "stream",
          "text": [
            "[G loss: 1.8236892223358154 | identity: 0.17696642875671387 GAN: 0.8128668069839478 cycle: 0.04274224862456322]\n",
            "[D loss: 1.271430253982544 | D_A: 0.6459071636199951 D_B: 0.625523030757904]\n"
          ]
        },
        {
          "name": "stderr",
          "output_type": "stream",
          "text": [
            "\n"
          ]
        }
      ],
      "source": [
        "\"\"\"\n",
        "Step 7. Training\n",
        "\"\"\"\n",
        "n_epochs = 200\n",
        "for epoch in range(1, n_epochs + 1):\n",
        "    print(f'[Epoch {epoch}/{n_epochs}]')\n",
        "    run_one_epoch(\n",
        "        G_AB, G_BA, D_A, D_B, \"train\", trainloader,\n",
        "        criterion_identity, criterion_GAN, criterion_cycle,\n",
        "        optimizer_G, optimizer_D,\n",
        "        dynamic_loss_weighting(epoch, n_epochs)\n",
        "    )\n",
        "\n",
        "    # validation\n",
        "    if epoch % 25 == 0:\n",
        "    #     valid_real_A, valid_real_B = next(iter(testloader))\n",
        "    #     sample_images(valid_real_A, valid_real_B)\n",
        "\n",
        "    #     loss_D = (loss_D_A + loss_D_B) / 2\n",
        "    #     print(f'[Epoch {epoch+1}/{n_epochs}]')\n",
        "    #     print(f'[G loss: {loss_G.item()} | identity: {loss_identity.item()} GAN: {loss_GAN.item()} cycle: {loss_cycle.item()}]')\n",
        "    #     print(f'[D loss: {loss_D.item()} | D_A: {loss_D_A.item()} D_B: {loss_D_B.item()}]')\n",
        "\n",
        "\n",
        "        # Save model checkpoints  \n",
        "        torch.save(G_AB.state_dict(), f'checkpoints/G_AB_{epoch}.pth')\n",
        "        torch.save(D_A.state_dict(), f'checkpoints/D_A_{epoch}.pth')\n",
        "        torch.save(G_BA.state_dict(), f'checkpoints/G_BA_{epoch}.pth')\n",
        "        torch.save(D_B.state_dict(), f'checkpoints/D_B_{epoch}.pth')\n"
      ]
    },
    {
      "cell_type": "markdown",
      "id": "52cb0fb1",
      "metadata": {},
      "source": [
        "# Output Results"
      ]
    },
    {
      "cell_type": "code",
      "execution_count": 9,
      "id": "3d70abd1",
      "metadata": {},
      "outputs": [],
      "source": [
        "from typing import Type\n",
        "def evaluate(\n",
        "    model: torch.nn.Module,\n",
        "    input_dir: str,\n",
        "    output_dir: str,\n",
        "    ref_dir: str,\n",
        "    batch_size: int,\n",
        "    image_size: int,\n",
        "    tensor_type: Type[torch.Tensor]\n",
        ") -> float:\n",
        "    if not os.path.exists(output_dir):\n",
        "        os.makedirs(output_dir)\n",
        "\n",
        "    generate_transforms = transforms.Compose([\n",
        "        transforms.Resize(image_size),\n",
        "        transforms.ToTensor(),\n",
        "        transforms.Normalize((0.5, 0.5, 0.5), (0.5, 0.5, 0.5))\n",
        "    ])\n",
        "\n",
        "    to_image = transforms.ToPILImage()\n",
        "\n",
        "    files = [os.path.join(input_dir, name) for name in os.listdir(input_dir)]\n",
        "\n",
        "    model.eval()\n",
        "    for i in range(0, len(files), batch_size):\n",
        "        # Read and transform images\n",
        "        imgs = [generate_transforms(Image.open(files[j])) for j in range(i, min(len(files), i + batch_size))]\n",
        "        imgs = torch.stack(imgs, 0).type(tensor_type)\n",
        "\n",
        "        # Generate images\n",
        "        fake_imgs = model(imgs).detach().cpu()\n",
        "\n",
        "        # Save generated images\n",
        "        for j in range(fake_imgs.size(0)):\n",
        "            img = fake_imgs[j].squeeze().permute(1, 2, 0).numpy()\n",
        "            img = (img - np.min(img)) * 255 / (np.max(img) - np.min(img))\n",
        "            img = to_image(img.astype(np.uint8))\n",
        "            _, name = os.path.split(files[i + j])\n",
        "            img.save(os.path.join(output_dir, name))\n",
        "\n",
        "    # Compute metrics\n",
        "    metrics: dict[str, float] = torch_fidelity.calculate_metrics(\n",
        "        input1=output_dir,\n",
        "        input2=ref_dir,\n",
        "        cuda=True,\n",
        "        fid=True,\n",
        "        isc=True\n",
        "    )\n",
        "\n",
        "    fid_score: float = metrics[\"frechet_inception_distance\"]\n",
        "    is_score: float = metrics[\"inception_score_mean\"]\n",
        "\n",
        "    if is_score > 0:\n",
        "        gms: float = np.sqrt(fid_score / is_score)\n",
        "        print(\"Geometric Mean Score:\", gms)\n",
        "        return gms, fid_score, is_score\n",
        "    else:\n",
        "        print(\"IS is 0, GMS cannot be computed!\")\n",
        "        return 0, 0, 0\n"
      ]
    },
    {
      "cell_type": "code",
      "execution_count": 10,
      "id": "84d6ed27",
      "metadata": {},
      "outputs": [
        {
          "name": "stderr",
          "output_type": "stream",
          "text": [
            "Creating feature extractor \"inception-v3-compat\" with features ['logits_unbiased', '2048']\n",
            "Extracting features from input1\n",
            "Looking for samples non-recursivelty in \"../Cartoon_images\" with extensions png,jpg,jpeg\n",
            "Found 1000 samples, some are lossy-compressed - this may affect metrics\n",
            "c:\\Users\\a\\Desktop\\cs424-project\\venv313\\Lib\\site-packages\\torch_fidelity\\datasets.py:16: UserWarning: TypedStorage is deprecated. It will be removed in the future and UntypedStorage will be the only storage class. This should only matter to you if you are using storages directly.  To access UntypedStorage directly, use tensor.untyped_storage() instead of tensor.storage()\n",
            "  img = torch.ByteTensor(torch.ByteStorage.from_buffer(img.tobytes())).view(height, width, 3)\n",
            "Processing samples                                                          \n",
            "Extracting features from input2\n",
            "Looking for samples non-recursivelty in \"./VAE_generation_Cartoon/test\" with extensions png,jpg,jpeg\n",
            "Found 1000 samples, some are lossy-compressed - this may affect metrics\n",
            "Processing samples                                                          \n",
            "Inception Score: 3.641478300048873 ± 0.2730496996239195\n",
            "Frechet Inception Distance: 158.03639741698598\n"
          ]
        },
        {
          "name": "stdout",
          "output_type": "stream",
          "text": [
            "Geometric Mean Score: 6.5877892521854955\n"
          ]
        },
        {
          "name": "stderr",
          "output_type": "stream",
          "text": [
            "Creating feature extractor \"inception-v3-compat\" with features ['logits_unbiased', '2048']\n",
            "Extracting features from input1\n",
            "Looking for samples non-recursivelty in \"../Raw_images\" with extensions png,jpg,jpeg\n",
            "Found 1000 samples, some are lossy-compressed - this may affect metrics\n",
            "Processing samples                                                          \n",
            "Extracting features from input2\n",
            "Looking for samples non-recursivelty in \"./VAE_generation/test\" with extensions png,jpg,jpeg\n",
            "Found 1000 samples, some are lossy-compressed - this may affect metrics\n",
            "Processing samples                                                          \n",
            "Inception Score: 3.4337070849858513 ± 0.3293053879799815\n",
            "Frechet Inception Distance: 81.76578219756959\n"
          ]
        },
        {
          "name": "stdout",
          "output_type": "stream",
          "text": [
            "Geometric Mean Score: 4.879824190118329\n",
            "CSV saved to 25-5_7338-C[6_5878-158_0364-3_6415]-R[4_8798-81_7658-3_4337].csv\n"
          ]
        },
        {
          "name": "stderr",
          "output_type": "stream",
          "text": [
            "Creating feature extractor \"inception-v3-compat\" with features ['logits_unbiased', '2048']\n",
            "Extracting features from input1\n",
            "Looking for samples non-recursivelty in \"../Cartoon_images\" with extensions png,jpg,jpeg\n",
            "Found 1000 samples, some are lossy-compressed - this may affect metrics\n",
            "Processing samples                                                           \n",
            "Extracting features from input2\n",
            "Looking for samples non-recursivelty in \"./VAE_generation_Cartoon/test\" with extensions png,jpg,jpeg\n",
            "Found 1000 samples, some are lossy-compressed - this may affect metrics\n",
            "Processing samples                                                          \n",
            "Inception Score: 3.467344978075018 ± 0.2413272173684885\n",
            "Frechet Inception Distance: 143.36902941322595\n"
          ]
        },
        {
          "name": "stdout",
          "output_type": "stream",
          "text": [
            "Geometric Mean Score: 6.430269068468346\n"
          ]
        },
        {
          "name": "stderr",
          "output_type": "stream",
          "text": [
            "Creating feature extractor \"inception-v3-compat\" with features ['logits_unbiased', '2048']\n",
            "Extracting features from input1\n",
            "Looking for samples non-recursivelty in \"../Raw_images\" with extensions png,jpg,jpeg\n",
            "Found 1000 samples, some are lossy-compressed - this may affect metrics\n",
            "Processing samples                                                           \n",
            "Extracting features from input2\n",
            "Looking for samples non-recursivelty in \"./VAE_generation/test\" with extensions png,jpg,jpeg\n",
            "Found 1000 samples, some are lossy-compressed - this may affect metrics\n",
            "Processing samples                                                          \n",
            "Inception Score: 3.5192994462468024 ± 0.39778134161647555\n",
            "Frechet Inception Distance: 67.79326330388932\n"
          ]
        },
        {
          "name": "stdout",
          "output_type": "stream",
          "text": [
            "Geometric Mean Score: 4.3889957392658365\n",
            "CSV saved to 50-5_4096-C[6_4303-143_3690-3_4673]-R[4_3890-67_7933-3_5193].csv\n"
          ]
        },
        {
          "name": "stderr",
          "output_type": "stream",
          "text": [
            "Creating feature extractor \"inception-v3-compat\" with features ['logits_unbiased', '2048']\n",
            "Extracting features from input1\n",
            "Looking for samples non-recursivelty in \"../Cartoon_images\" with extensions png,jpg,jpeg\n",
            "Found 1000 samples, some are lossy-compressed - this may affect metrics\n",
            "Processing samples                                                          \n",
            "Extracting features from input2\n",
            "Looking for samples non-recursivelty in \"./VAE_generation_Cartoon/test\" with extensions png,jpg,jpeg\n",
            "Found 1000 samples, some are lossy-compressed - this may affect metrics\n",
            "Processing samples                                                          \n",
            "Inception Score: 3.0759301271775237 ± 0.18559119609065708\n",
            "Frechet Inception Distance: 105.88207945063544\n"
          ]
        },
        {
          "name": "stdout",
          "output_type": "stream",
          "text": [
            "Geometric Mean Score: 5.8670933478443805\n"
          ]
        },
        {
          "name": "stderr",
          "output_type": "stream",
          "text": [
            "Creating feature extractor \"inception-v3-compat\" with features ['logits_unbiased', '2048']\n",
            "Extracting features from input1\n",
            "Looking for samples non-recursivelty in \"../Raw_images\" with extensions png,jpg,jpeg\n",
            "Found 1000 samples, some are lossy-compressed - this may affect metrics\n",
            "Processing samples                                                          \n",
            "Extracting features from input2\n",
            "Looking for samples non-recursivelty in \"./VAE_generation/test\" with extensions png,jpg,jpeg\n",
            "Found 1000 samples, some are lossy-compressed - this may affect metrics\n",
            "Processing samples                                                          \n",
            "Inception Score: 3.6443818764906504 ± 0.29112325023513697\n",
            "Frechet Inception Distance: 58.35508880349417\n"
          ]
        },
        {
          "name": "stdout",
          "output_type": "stream",
          "text": [
            "Geometric Mean Score: 4.001542446382886\n",
            "CSV saved to 75-4_9343-C[5_8671-105_8821-3_0759]-R[4_0015-58_3551-3_6444].csv\n"
          ]
        },
        {
          "name": "stderr",
          "output_type": "stream",
          "text": [
            "Creating feature extractor \"inception-v3-compat\" with features ['logits_unbiased', '2048']\n",
            "Extracting features from input1\n",
            "Looking for samples non-recursivelty in \"../Cartoon_images\" with extensions png,jpg,jpeg\n",
            "Found 1000 samples, some are lossy-compressed - this may affect metrics\n",
            "Processing samples                                                          \n",
            "Extracting features from input2\n",
            "Looking for samples non-recursivelty in \"./VAE_generation_Cartoon/test\" with extensions png,jpg,jpeg\n",
            "Found 1000 samples, some are lossy-compressed - this may affect metrics\n",
            "Processing samples                                                          \n",
            "Inception Score: 2.9444330812407835 ± 0.21773755444139045\n",
            "Frechet Inception Distance: 95.38969345651122\n"
          ]
        },
        {
          "name": "stdout",
          "output_type": "stream",
          "text": [
            "Geometric Mean Score: 5.691803289781701\n"
          ]
        },
        {
          "name": "stderr",
          "output_type": "stream",
          "text": [
            "Creating feature extractor \"inception-v3-compat\" with features ['logits_unbiased', '2048']\n",
            "Extracting features from input1\n",
            "Looking for samples non-recursivelty in \"../Raw_images\" with extensions png,jpg,jpeg\n",
            "Found 1000 samples, some are lossy-compressed - this may affect metrics\n",
            "Processing samples                                                           \n",
            "Extracting features from input2\n",
            "Looking for samples non-recursivelty in \"./VAE_generation/test\" with extensions png,jpg,jpeg\n",
            "Found 1000 samples, some are lossy-compressed - this may affect metrics\n",
            "Processing samples                                                          \n",
            "Inception Score: 3.5798210922405587 ± 0.20827610214716785\n",
            "Frechet Inception Distance: 51.05314702889763\n"
          ]
        },
        {
          "name": "stdout",
          "output_type": "stream",
          "text": [
            "Geometric Mean Score: 3.7764226849794458\n",
            "CSV saved to 100-4_7341-C[5_6918-95_3897-2_9444]-R[3_7764-51_0531-3_5798].csv\n"
          ]
        },
        {
          "name": "stderr",
          "output_type": "stream",
          "text": [
            "Creating feature extractor \"inception-v3-compat\" with features ['logits_unbiased', '2048']\n",
            "Extracting features from input1\n",
            "Looking for samples non-recursivelty in \"../Cartoon_images\" with extensions png,jpg,jpeg\n",
            "Found 1000 samples, some are lossy-compressed - this may affect metrics\n",
            "Processing samples                                                          \n",
            "Extracting features from input2\n",
            "Looking for samples non-recursivelty in \"./VAE_generation_Cartoon/test\" with extensions png,jpg,jpeg\n",
            "Found 1000 samples, some are lossy-compressed - this may affect metrics\n",
            "Processing samples                                                          \n",
            "Inception Score: 2.8465152223554813 ± 0.20345991087678747\n",
            "Frechet Inception Distance: 88.64338837160847\n"
          ]
        },
        {
          "name": "stdout",
          "output_type": "stream",
          "text": [
            "Geometric Mean Score: 5.580413991529194\n"
          ]
        },
        {
          "name": "stderr",
          "output_type": "stream",
          "text": [
            "Creating feature extractor \"inception-v3-compat\" with features ['logits_unbiased', '2048']\n",
            "Extracting features from input1\n",
            "Looking for samples non-recursivelty in \"../Raw_images\" with extensions png,jpg,jpeg\n",
            "Found 1000 samples, some are lossy-compressed - this may affect metrics\n",
            "Processing samples                                                           \n",
            "Extracting features from input2\n",
            "Looking for samples non-recursivelty in \"./VAE_generation/test\" with extensions png,jpg,jpeg\n",
            "Found 1000 samples, some are lossy-compressed - this may affect metrics\n",
            "Processing samples                                                          \n",
            "Inception Score: 3.6903633277591887 ± 0.2771261413099392\n",
            "Frechet Inception Distance: 52.28351777415412\n"
          ]
        },
        {
          "name": "stdout",
          "output_type": "stream",
          "text": [
            "Geometric Mean Score: 3.763984594394984\n",
            "CSV saved to 125-4_6722-C[5_5804-88_6434-2_8465]-R[3_7640-52_2835-3_6904].csv\n"
          ]
        },
        {
          "name": "stderr",
          "output_type": "stream",
          "text": [
            "Creating feature extractor \"inception-v3-compat\" with features ['logits_unbiased', '2048']\n",
            "Extracting features from input1\n",
            "Looking for samples non-recursivelty in \"../Cartoon_images\" with extensions png,jpg,jpeg\n",
            "Found 1000 samples, some are lossy-compressed - this may affect metrics\n",
            "Processing samples                                                          \n",
            "Extracting features from input2\n",
            "Looking for samples non-recursivelty in \"./VAE_generation_Cartoon/test\" with extensions png,jpg,jpeg\n",
            "Found 1000 samples, some are lossy-compressed - this may affect metrics\n",
            "Processing samples                                                          \n",
            "Inception Score: 2.951086620209101 ± 0.21544813858749576\n",
            "Frechet Inception Distance: 86.26593161254459\n"
          ]
        },
        {
          "name": "stdout",
          "output_type": "stream",
          "text": [
            "Geometric Mean Score: 5.406655271591396\n"
          ]
        },
        {
          "name": "stderr",
          "output_type": "stream",
          "text": [
            "Creating feature extractor \"inception-v3-compat\" with features ['logits_unbiased', '2048']\n",
            "Extracting features from input1\n",
            "Looking for samples non-recursivelty in \"../Raw_images\" with extensions png,jpg,jpeg\n",
            "Found 1000 samples, some are lossy-compressed - this may affect metrics\n",
            "Processing samples                                                          \n",
            "Extracting features from input2\n",
            "Looking for samples non-recursivelty in \"./VAE_generation/test\" with extensions png,jpg,jpeg\n",
            "Found 1000 samples, some are lossy-compressed - this may affect metrics\n",
            "Processing samples                                                          \n",
            "Inception Score: 3.6703576329143623 ± 0.29854252464165626\n",
            "Frechet Inception Distance: 50.92372825978782\n"
          ]
        },
        {
          "name": "stdout",
          "output_type": "stream",
          "text": [
            "Geometric Mean Score: 3.7248252650027904\n",
            "CSV saved to 150-4_5657-C[5_4067-86_2659-2_9511]-R[3_7248-50_9237-3_6704].csv\n"
          ]
        },
        {
          "name": "stderr",
          "output_type": "stream",
          "text": [
            "Creating feature extractor \"inception-v3-compat\" with features ['logits_unbiased', '2048']\n",
            "Extracting features from input1\n",
            "Looking for samples non-recursivelty in \"../Cartoon_images\" with extensions png,jpg,jpeg\n",
            "Found 1000 samples, some are lossy-compressed - this may affect metrics\n",
            "Processing samples                                                          \n",
            "Extracting features from input2\n",
            "Looking for samples non-recursivelty in \"./VAE_generation_Cartoon/test\" with extensions png,jpg,jpeg\n",
            "Found 1000 samples, some are lossy-compressed - this may affect metrics\n",
            "Processing samples                                                          \n",
            "Inception Score: 2.7007407547968345 ± 0.17777149668056136\n",
            "Frechet Inception Distance: 77.69379494441895\n"
          ]
        },
        {
          "name": "stdout",
          "output_type": "stream",
          "text": [
            "Geometric Mean Score: 5.363542403779102\n"
          ]
        },
        {
          "name": "stderr",
          "output_type": "stream",
          "text": [
            "Creating feature extractor \"inception-v3-compat\" with features ['logits_unbiased', '2048']\n",
            "Extracting features from input1\n",
            "Looking for samples non-recursivelty in \"../Raw_images\" with extensions png,jpg,jpeg\n",
            "Found 1000 samples, some are lossy-compressed - this may affect metrics\n",
            "Processing samples                                                           \n",
            "Extracting features from input2\n",
            "Looking for samples non-recursivelty in \"./VAE_generation/test\" with extensions png,jpg,jpeg\n",
            "Found 1000 samples, some are lossy-compressed - this may affect metrics\n",
            "Processing samples                                                          \n",
            "Inception Score: 3.745145600058339 ± 0.23956514654256528\n",
            "Frechet Inception Distance: 48.46899705705545\n"
          ]
        },
        {
          "name": "stdout",
          "output_type": "stream",
          "text": [
            "Geometric Mean Score: 3.5974739961328805\n",
            "CSV saved to 175-4_4805-C[5_3635-77_6938-2_7007]-R[3_5975-48_4690-3_7451].csv\n"
          ]
        },
        {
          "name": "stderr",
          "output_type": "stream",
          "text": [
            "Creating feature extractor \"inception-v3-compat\" with features ['logits_unbiased', '2048']\n",
            "Extracting features from input1\n",
            "Looking for samples non-recursivelty in \"../Cartoon_images\" with extensions png,jpg,jpeg\n",
            "Found 1000 samples, some are lossy-compressed - this may affect metrics\n",
            "Processing samples                                                          \n",
            "Extracting features from input2\n",
            "Looking for samples non-recursivelty in \"./VAE_generation_Cartoon/test\" with extensions png,jpg,jpeg\n",
            "Found 1000 samples, some are lossy-compressed - this may affect metrics\n",
            "Processing samples                                                          \n",
            "Inception Score: 2.949787488936179 ± 0.24784572571636135\n",
            "Frechet Inception Distance: 87.1563050461802\n"
          ]
        },
        {
          "name": "stdout",
          "output_type": "stream",
          "text": [
            "Geometric Mean Score: 5.435681986238997\n"
          ]
        },
        {
          "name": "stderr",
          "output_type": "stream",
          "text": [
            "Creating feature extractor \"inception-v3-compat\" with features ['logits_unbiased', '2048']\n",
            "Extracting features from input1\n",
            "Looking for samples non-recursivelty in \"../Raw_images\" with extensions png,jpg,jpeg\n",
            "Found 1000 samples, some are lossy-compressed - this may affect metrics\n",
            "Processing samples                                                          \n",
            "Extracting features from input2\n",
            "Looking for samples non-recursivelty in \"./VAE_generation/test\" with extensions png,jpg,jpeg\n",
            "Found 1000 samples, some are lossy-compressed - this may affect metrics\n",
            "Processing samples                                                          \n",
            "Inception Score: 3.636556642548969 ± 0.2531730643329214\n"
          ]
        },
        {
          "name": "stdout",
          "output_type": "stream",
          "text": [
            "Geometric Mean Score: 3.6179389151299817\n",
            "CSV saved to 200-4_5268-C[5_4357-87_1563-2_9498]-R[3_6179-47_6006-3_6366].csv\n"
          ]
        },
        {
          "name": "stderr",
          "output_type": "stream",
          "text": [
            "Frechet Inception Distance: 47.60064269139451\n"
          ]
        }
      ],
      "source": [
        "# Parameters\n",
        "image_size = 128\n",
        "batch_size = loader_params[\"batch_size\"]\n",
        "\n",
        "# data_dir = '/kaggle/input/group-project/image_image_translation'\n",
        "data_dir = '.'\n",
        "\n",
        "\n",
        "def format_score(score):\n",
        "    return \"{:.4f}\".format(score).replace(\".\", \"_\")\n",
        "\n",
        "def report_score(s_value_1, fid_1, is_1, s_value_2, fid_2, is_2, epoch=None):\n",
        "    s_value = np.round((s_value_1+s_value_2)/2, 5)\n",
        "    df = pd.DataFrame({'id': [1], 'label': [s_value]})\n",
        "    filename = f\"{format_score(s_value)}-C[{format_score(s_value_1)}-{format_score(fid_1)}-{format_score(is_1)}]-R[{format_score(s_value_2)}-{format_score(fid_2)}-{format_score(is_2)}]\"\n",
        "    if epoch: filename = f\"{epoch}-{filename}\"\n",
        "    csv_path = filename+\".csv\"\n",
        "    df.to_csv(csv_path, index=False)\n",
        "\n",
        "    print(f\"CSV saved to {csv_path}\")\n",
        "\n",
        "for i in range(25, 201, 25):\n",
        "    G_AB.load_state_dict(torch.load(f'checkpoints/G_AB_{i}.pth'))\n",
        "    G_BA.load_state_dict(torch.load(f'checkpoints/G_BA_{i}.pth'))\n",
        "\n",
        "    # Raw to Cartoon\n",
        "    s_value_1, fid_1, is_1 = evaluate(\n",
        "        model=G_AB,\n",
        "        input_dir=os.path.join(data_dir, 'VAE_generation/test'),\n",
        "        output_dir='../Cartoon_images',\n",
        "        ref_dir=f\"{data_dir}/VAE_generation_Cartoon/test\",\n",
        "        batch_size=batch_size,\n",
        "        image_size=image_size,\n",
        "        tensor_type=Tensor\n",
        "    )\n",
        "\n",
        "    # Cartoon to Raw\n",
        "    s_value_2, fid_2, is_2 = evaluate(\n",
        "        model=G_BA,\n",
        "        input_dir=os.path.join(data_dir, 'VAE_generation_Cartoon/test'),\n",
        "        output_dir='../Raw_images',\n",
        "        ref_dir=f\"{data_dir}/VAE_generation/test\",\n",
        "        batch_size=batch_size,\n",
        "        image_size=image_size,\n",
        "        tensor_type=Tensor\n",
        "    )\n",
        "\n",
        "    report_score(s_value_1, fid_1, is_1, s_value_2, fid_2, is_2, epoch=i)\n",
        "\n"
      ]
    },
    {
      "cell_type": "markdown",
      "id": "6d3ad489",
      "metadata": {},
      "source": [
        "# Clean Up"
      ]
    },
    {
      "cell_type": "code",
      "execution_count": 11,
      "id": "2ae7c7ab",
      "metadata": {},
      "outputs": [],
      "source": [
        "import gc\n",
        "del G_AB, G_BA, D_A, D_B\n",
        "\n",
        "gc.collect()\n",
        "with torch.no_grad():\n",
        "    torch.cuda.empty_cache()"
      ]
    }
  ],
  "metadata": {
    "colab": {
      "provenance": []
    },
    "kaggle": {
      "accelerator": "gpu",
      "dataSources": [
        {
          "datasetId": 6717840,
          "sourceId": 10819976,
          "sourceType": "datasetVersion"
        }
      ],
      "dockerImageVersionId": 30887,
      "isGpuEnabled": true,
      "isInternetEnabled": true,
      "language": "python",
      "sourceType": "notebook"
    },
    "kernelspec": {
      "display_name": "venv313",
      "language": "python",
      "name": "python3"
    },
    "language_info": {
      "codemirror_mode": {
        "name": "ipython",
        "version": 3
      },
      "file_extension": ".py",
      "mimetype": "text/x-python",
      "name": "python",
      "nbconvert_exporter": "python",
      "pygments_lexer": "ipython3",
      "version": "3.13.1"
    },
    "papermill": {
      "default_parameters": {},
      "duration": 9291.681683,
      "end_time": "2021-08-29T17:46:57.805996",
      "environment_variables": {},
      "exception": null,
      "input_path": "__notebook__.ipynb",
      "output_path": "__notebook__.ipynb",
      "parameters": {},
      "start_time": "2021-08-29T15:12:06.124313",
      "version": "2.3.3"
    }
  },
  "nbformat": 4,
  "nbformat_minor": 5
}
